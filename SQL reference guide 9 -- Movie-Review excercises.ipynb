{
  "cells": [
    {
      "cell_type": "markdown",
      "source": [
        "# SQL with Python Reference Guide 9\n",
        "# Movie-Rating Query Excercises\n",
        "## (Justin M. Olds)\n",
        "Based on Stanford SQL course: https://lagunita.stanford.edu/courses/DB/SQL/SelfPaced/info\n",
        "\n",
        "---\n"
      ],
      "metadata": {}
    },
    {
      "cell_type": "code",
      "source": [
        "import sqlite3\n",
        "import pandas as pd\n",
        "\n",
        "conn = sqlite3.connect(\"class.db\")\n",
        "c = conn.cursor()"
      ],
      "outputs": [],
      "execution_count": 3,
      "metadata": {
        "collapsed": false,
        "outputHidden": false,
        "inputHidden": false
      }
    },
    {
      "cell_type": "markdown",
      "source": [
        "---\n",
        "###  **Table** **(Relations)**\n",
        "\n",
        "* Movie(mID int, title text, year int, director text)\n",
        "* Reviewer (rID int, name text)\n",
        "* Rating (rID int, mID int, stars int, ratingDate date)"
      ],
      "metadata": {}
    },
    {
      "cell_type": "code",
      "source": [
        "c.executescript(\"\"\"\n",
        "/* Delete the tables if they already exist */\n",
        "drop table if exists Movie;\n",
        "drop table if exists Reviewer;\n",
        "drop table if exists Rating;\n",
        "\n",
        "/* Create the schema for our tables */\n",
        "create table Movie(mID int, title text, year int, director text);\n",
        "create table Reviewer(rID int, name text);\n",
        "create table Rating(rID int, mID int, stars int, ratingDate date);\n",
        "\n",
        "/* Populate the tables with our data */\n",
        "insert into Movie values(101, 'Gone with the Wind', 1939, 'Victor Fleming');\n",
        "insert into Movie values(102, 'Star Wars', 1977, 'George Lucas');\n",
        "insert into Movie values(103, 'The Sound of Music', 1965, 'Robert Wise');\n",
        "insert into Movie values(104, 'E.T.', 1982, 'Steven Spielberg');\n",
        "insert into Movie values(105, 'Titanic', 1997, 'James Cameron');\n",
        "insert into Movie values(106, 'Snow White', 1937, null);\n",
        "insert into Movie values(107, 'Avatar', 2009, 'James Cameron');\n",
        "insert into Movie values(108, 'Raiders of the Lost Ark', 1981, 'Steven Spielberg');\n",
        "\n",
        "insert into Reviewer values(201, 'Sarah Martinez');\n",
        "insert into Reviewer values(202, 'Daniel Lewis');\n",
        "insert into Reviewer values(203, 'Brittany Harris');\n",
        "insert into Reviewer values(204, 'Mike Anderson');\n",
        "insert into Reviewer values(205, 'Chris Jackson');\n",
        "insert into Reviewer values(206, 'Elizabeth Thomas');\n",
        "insert into Reviewer values(207, 'James Cameron');\n",
        "insert into Reviewer values(208, 'Ashley White');\n",
        "\n",
        "insert into Rating values(201, 101, 2, '2011-01-22');\n",
        "insert into Rating values(201, 101, 4, '2011-01-27');\n",
        "insert into Rating values(202, 106, 4, null);\n",
        "insert into Rating values(203, 103, 2, '2011-01-20');\n",
        "insert into Rating values(203, 108, 4, '2011-01-12');\n",
        "insert into Rating values(203, 108, 2, '2011-01-30');\n",
        "insert into Rating values(204, 101, 3, '2011-01-09');\n",
        "insert into Rating values(205, 103, 3, '2011-01-27');\n",
        "insert into Rating values(205, 104, 2, '2011-01-22');\n",
        "insert into Rating values(205, 108, 4, null);\n",
        "insert into Rating values(206, 107, 3, '2011-01-15');\n",
        "insert into Rating values(206, 106, 5, '2011-01-19');\n",
        "insert into Rating values(207, 107, 5, '2011-01-20');\n",
        "insert into Rating values(208, 104, 3, '2011-01-02');\n",
        "\n",
        "\"\"\")\n",
        "conn.commit()"
      ],
      "outputs": [],
      "execution_count": 6,
      "metadata": {
        "collapsed": false,
        "outputHidden": true,
        "inputHidden": false
      }
    },
    {
      "cell_type": "markdown",
      "source": [
        "---\n",
        "### Examine the Movie table to be sure the database was created. \n"
      ],
      "metadata": {}
    },
    {
      "cell_type": "code",
      "source": [
        "df = pd.read_sql_query(\"\"\"\n",
        "    SELECT *\n",
        "    FROM Movie\n",
        "    \"\"\", conn);df"
      ],
      "outputs": [
        {
          "output_type": "execute_result",
          "execution_count": 7,
          "data": {
            "text/plain": [
              "   mID                    title  year          director\n",
              "0  101       Gone with the Wind  1939    Victor Fleming\n",
              "1  102                Star Wars  1977      George Lucas\n",
              "2  103       The Sound of Music  1965       Robert Wise\n",
              "3  104                     E.T.  1982  Steven Spielberg\n",
              "4  105                  Titanic  1997     James Cameron\n",
              "5  106               Snow White  1937              None\n",
              "6  107                   Avatar  2009     James Cameron\n",
              "7  108  Raiders of the Lost Ark  1981  Steven Spielberg"
            ],
            "text/html": [
              "<div>\n",
              "<style scoped>\n",
              "    .dataframe tbody tr th:only-of-type {\n",
              "        vertical-align: middle;\n",
              "    }\n",
              "\n",
              "    .dataframe tbody tr th {\n",
              "        vertical-align: top;\n",
              "    }\n",
              "\n",
              "    .dataframe thead th {\n",
              "        text-align: right;\n",
              "    }\n",
              "</style>\n",
              "<table border=\"1\" class=\"dataframe\">\n",
              "  <thead>\n",
              "    <tr style=\"text-align: right;\">\n",
              "      <th></th>\n",
              "      <th>mID</th>\n",
              "      <th>title</th>\n",
              "      <th>year</th>\n",
              "      <th>director</th>\n",
              "    </tr>\n",
              "  </thead>\n",
              "  <tbody>\n",
              "    <tr>\n",
              "      <th>0</th>\n",
              "      <td>101</td>\n",
              "      <td>Gone with the Wind</td>\n",
              "      <td>1939</td>\n",
              "      <td>Victor Fleming</td>\n",
              "    </tr>\n",
              "    <tr>\n",
              "      <th>1</th>\n",
              "      <td>102</td>\n",
              "      <td>Star Wars</td>\n",
              "      <td>1977</td>\n",
              "      <td>George Lucas</td>\n",
              "    </tr>\n",
              "    <tr>\n",
              "      <th>2</th>\n",
              "      <td>103</td>\n",
              "      <td>The Sound of Music</td>\n",
              "      <td>1965</td>\n",
              "      <td>Robert Wise</td>\n",
              "    </tr>\n",
              "    <tr>\n",
              "      <th>3</th>\n",
              "      <td>104</td>\n",
              "      <td>E.T.</td>\n",
              "      <td>1982</td>\n",
              "      <td>Steven Spielberg</td>\n",
              "    </tr>\n",
              "    <tr>\n",
              "      <th>4</th>\n",
              "      <td>105</td>\n",
              "      <td>Titanic</td>\n",
              "      <td>1997</td>\n",
              "      <td>James Cameron</td>\n",
              "    </tr>\n",
              "    <tr>\n",
              "      <th>5</th>\n",
              "      <td>106</td>\n",
              "      <td>Snow White</td>\n",
              "      <td>1937</td>\n",
              "      <td>None</td>\n",
              "    </tr>\n",
              "    <tr>\n",
              "      <th>6</th>\n",
              "      <td>107</td>\n",
              "      <td>Avatar</td>\n",
              "      <td>2009</td>\n",
              "      <td>James Cameron</td>\n",
              "    </tr>\n",
              "    <tr>\n",
              "      <th>7</th>\n",
              "      <td>108</td>\n",
              "      <td>Raiders of the Lost Ark</td>\n",
              "      <td>1981</td>\n",
              "      <td>Steven Spielberg</td>\n",
              "    </tr>\n",
              "  </tbody>\n",
              "</table>\n",
              "</div>"
            ]
          },
          "metadata": {}
        }
      ],
      "execution_count": 7,
      "metadata": {
        "collapsed": false,
        "outputHidden": false,
        "inputHidden": false
      }
    },
    {
      "cell_type": "markdown",
      "source": [
        "### Q1: Find the titles of all movies directed by Steven Spielberg. "
      ],
      "metadata": {}
    },
    {
      "cell_type": "code",
      "source": [
        "df = pd.read_sql_query(\"\"\"\n",
        "    SELECT title\n",
        "    FROM Movie\n",
        "    WHERE director = \"Steven Spielberg\"\n",
        "    \"\"\", conn);df\n"
      ],
      "outputs": [
        {
          "output_type": "execute_result",
          "execution_count": 8,
          "data": {
            "text/plain": [
              "                     title\n",
              "0                     E.T.\n",
              "1  Raiders of the Lost Ark"
            ],
            "text/html": [
              "<div>\n",
              "<style scoped>\n",
              "    .dataframe tbody tr th:only-of-type {\n",
              "        vertical-align: middle;\n",
              "    }\n",
              "\n",
              "    .dataframe tbody tr th {\n",
              "        vertical-align: top;\n",
              "    }\n",
              "\n",
              "    .dataframe thead th {\n",
              "        text-align: right;\n",
              "    }\n",
              "</style>\n",
              "<table border=\"1\" class=\"dataframe\">\n",
              "  <thead>\n",
              "    <tr style=\"text-align: right;\">\n",
              "      <th></th>\n",
              "      <th>title</th>\n",
              "    </tr>\n",
              "  </thead>\n",
              "  <tbody>\n",
              "    <tr>\n",
              "      <th>0</th>\n",
              "      <td>E.T.</td>\n",
              "    </tr>\n",
              "    <tr>\n",
              "      <th>1</th>\n",
              "      <td>Raiders of the Lost Ark</td>\n",
              "    </tr>\n",
              "  </tbody>\n",
              "</table>\n",
              "</div>"
            ]
          },
          "metadata": {}
        }
      ],
      "execution_count": 8,
      "metadata": {
        "collapsed": false,
        "outputHidden": false,
        "inputHidden": false
      }
    },
    {
      "cell_type": "markdown",
      "source": [
        "### Q2: Find all years that have a movie that received a rating of 4 or 5, and sort them in increasing order. \n",
        "\nThis requires a subquery in the WHERE clause. Let's check that first. "
      ],
      "metadata": {}
    },
    {
      "cell_type": "code",
      "source": [
        "df = pd.read_sql_query(\"\"\"\n",
        "    SELECT *\n",
        "    FROM Rating\n",
        "    WHERE stars = 4 OR stars = 5\n",
        "\"\"\", conn);df"
      ],
      "outputs": [
        {
          "output_type": "execute_result",
          "execution_count": 19,
          "data": {
            "text/plain": [
              "   rID  mID  stars  ratingDate\n",
              "0  201  101      4  2011-01-27\n",
              "1  202  106      4        None\n",
              "2  203  108      4  2011-01-12\n",
              "3  205  108      4        None\n",
              "4  206  106      5  2011-01-19\n",
              "5  207  107      5  2011-01-20"
            ],
            "text/html": [
              "<div>\n",
              "<style scoped>\n",
              "    .dataframe tbody tr th:only-of-type {\n",
              "        vertical-align: middle;\n",
              "    }\n",
              "\n",
              "    .dataframe tbody tr th {\n",
              "        vertical-align: top;\n",
              "    }\n",
              "\n",
              "    .dataframe thead th {\n",
              "        text-align: right;\n",
              "    }\n",
              "</style>\n",
              "<table border=\"1\" class=\"dataframe\">\n",
              "  <thead>\n",
              "    <tr style=\"text-align: right;\">\n",
              "      <th></th>\n",
              "      <th>rID</th>\n",
              "      <th>mID</th>\n",
              "      <th>stars</th>\n",
              "      <th>ratingDate</th>\n",
              "    </tr>\n",
              "  </thead>\n",
              "  <tbody>\n",
              "    <tr>\n",
              "      <th>0</th>\n",
              "      <td>201</td>\n",
              "      <td>101</td>\n",
              "      <td>4</td>\n",
              "      <td>2011-01-27</td>\n",
              "    </tr>\n",
              "    <tr>\n",
              "      <th>1</th>\n",
              "      <td>202</td>\n",
              "      <td>106</td>\n",
              "      <td>4</td>\n",
              "      <td>None</td>\n",
              "    </tr>\n",
              "    <tr>\n",
              "      <th>2</th>\n",
              "      <td>203</td>\n",
              "      <td>108</td>\n",
              "      <td>4</td>\n",
              "      <td>2011-01-12</td>\n",
              "    </tr>\n",
              "    <tr>\n",
              "      <th>3</th>\n",
              "      <td>205</td>\n",
              "      <td>108</td>\n",
              "      <td>4</td>\n",
              "      <td>None</td>\n",
              "    </tr>\n",
              "    <tr>\n",
              "      <th>4</th>\n",
              "      <td>206</td>\n",
              "      <td>106</td>\n",
              "      <td>5</td>\n",
              "      <td>2011-01-19</td>\n",
              "    </tr>\n",
              "    <tr>\n",
              "      <th>5</th>\n",
              "      <td>207</td>\n",
              "      <td>107</td>\n",
              "      <td>5</td>\n",
              "      <td>2011-01-20</td>\n",
              "    </tr>\n",
              "  </tbody>\n",
              "</table>\n",
              "</div>"
            ]
          },
          "metadata": {}
        }
      ],
      "execution_count": 19,
      "metadata": {
        "collapsed": false,
        "outputHidden": false,
        "inputHidden": false
      }
    },
    {
      "cell_type": "code",
      "source": [
        "df = pd.read_sql_query(\"\"\"\n",
        "    SELECT year\n",
        "    FROM Movie \n",
        "    WHERE mID IN\n",
        "        (SELECT mID\n",
        "        FROM Rating\n",
        "        WHERE stars = 4 OR stars = 5)\n",
        "    ORDER BY year ASC\n",
        "    \"\"\", conn);df"
      ],
      "outputs": [
        {
          "output_type": "execute_result",
          "execution_count": 23,
          "data": {
            "text/plain": [
              "   year\n",
              "0  2009\n",
              "1  1981\n",
              "2  1939\n",
              "3  1937"
            ],
            "text/html": [
              "<div>\n",
              "<style scoped>\n",
              "    .dataframe tbody tr th:only-of-type {\n",
              "        vertical-align: middle;\n",
              "    }\n",
              "\n",
              "    .dataframe tbody tr th {\n",
              "        vertical-align: top;\n",
              "    }\n",
              "\n",
              "    .dataframe thead th {\n",
              "        text-align: right;\n",
              "    }\n",
              "</style>\n",
              "<table border=\"1\" class=\"dataframe\">\n",
              "  <thead>\n",
              "    <tr style=\"text-align: right;\">\n",
              "      <th></th>\n",
              "      <th>year</th>\n",
              "    </tr>\n",
              "  </thead>\n",
              "  <tbody>\n",
              "    <tr>\n",
              "      <th>0</th>\n",
              "      <td>2009</td>\n",
              "    </tr>\n",
              "    <tr>\n",
              "      <th>1</th>\n",
              "      <td>1981</td>\n",
              "    </tr>\n",
              "    <tr>\n",
              "      <th>2</th>\n",
              "      <td>1939</td>\n",
              "    </tr>\n",
              "    <tr>\n",
              "      <th>3</th>\n",
              "      <td>1937</td>\n",
              "    </tr>\n",
              "  </tbody>\n",
              "</table>\n",
              "</div>"
            ]
          },
          "metadata": {}
        }
      ],
      "execution_count": 23,
      "metadata": {
        "collapsed": false,
        "outputHidden": false,
        "inputHidden": false
      }
    },
    {
      "cell_type": "markdown",
      "source": [
        "### Q3: Find the titles of all movies that have no ratings. "
      ],
      "metadata": {}
    },
    {
      "cell_type": "code",
      "source": [
        "df = pd.read_sql_query(\"\"\"\n",
        "    SELECT title\n",
        "    FROM Movie\n",
        "    WHERE mID NOT IN \n",
        "       (SELECT mID\n",
        "        FROM Rating)\n",
        "\"\"\", conn);df"
      ],
      "outputs": [
        {
          "output_type": "execute_result",
          "execution_count": 25,
          "data": {
            "text/plain": [
              "       title\n",
              "0  Star Wars\n",
              "1    Titanic"
            ],
            "text/html": [
              "<div>\n",
              "<style scoped>\n",
              "    .dataframe tbody tr th:only-of-type {\n",
              "        vertical-align: middle;\n",
              "    }\n",
              "\n",
              "    .dataframe tbody tr th {\n",
              "        vertical-align: top;\n",
              "    }\n",
              "\n",
              "    .dataframe thead th {\n",
              "        text-align: right;\n",
              "    }\n",
              "</style>\n",
              "<table border=\"1\" class=\"dataframe\">\n",
              "  <thead>\n",
              "    <tr style=\"text-align: right;\">\n",
              "      <th></th>\n",
              "      <th>title</th>\n",
              "    </tr>\n",
              "  </thead>\n",
              "  <tbody>\n",
              "    <tr>\n",
              "      <th>0</th>\n",
              "      <td>Star Wars</td>\n",
              "    </tr>\n",
              "    <tr>\n",
              "      <th>1</th>\n",
              "      <td>Titanic</td>\n",
              "    </tr>\n",
              "  </tbody>\n",
              "</table>\n",
              "</div>"
            ]
          },
          "metadata": {}
        }
      ],
      "execution_count": 25,
      "metadata": {
        "collapsed": false,
        "outputHidden": false,
        "inputHidden": false
      }
    },
    {
      "cell_type": "markdown",
      "source": [
        "### Q4: Some reviewers didn't provide a date with their rating. Find the names of all reviewers who have ratings with a NULL value for the date. "
      ],
      "metadata": {}
    },
    {
      "cell_type": "code",
      "source": [
        "df = pd.read_sql_query(\"\"\"\n",
        "    SELECT name\n",
        "    FROM Reviewer\n",
        "    WHERE rID IN\n",
        "       (SELECT rID\n",
        "        FROM Rating\n",
        "        WHERE ratingDate is NULL)\n",
        "\"\"\", conn);df"
      ],
      "outputs": [
        {
          "output_type": "execute_result",
          "execution_count": 26,
          "data": {
            "text/plain": [
              "            name\n",
              "0   Daniel Lewis\n",
              "1  Chris Jackson"
            ],
            "text/html": [
              "<div>\n",
              "<style scoped>\n",
              "    .dataframe tbody tr th:only-of-type {\n",
              "        vertical-align: middle;\n",
              "    }\n",
              "\n",
              "    .dataframe tbody tr th {\n",
              "        vertical-align: top;\n",
              "    }\n",
              "\n",
              "    .dataframe thead th {\n",
              "        text-align: right;\n",
              "    }\n",
              "</style>\n",
              "<table border=\"1\" class=\"dataframe\">\n",
              "  <thead>\n",
              "    <tr style=\"text-align: right;\">\n",
              "      <th></th>\n",
              "      <th>name</th>\n",
              "    </tr>\n",
              "  </thead>\n",
              "  <tbody>\n",
              "    <tr>\n",
              "      <th>0</th>\n",
              "      <td>Daniel Lewis</td>\n",
              "    </tr>\n",
              "    <tr>\n",
              "      <th>1</th>\n",
              "      <td>Chris Jackson</td>\n",
              "    </tr>\n",
              "  </tbody>\n",
              "</table>\n",
              "</div>"
            ]
          },
          "metadata": {}
        }
      ],
      "execution_count": 26,
      "metadata": {
        "collapsed": false,
        "outputHidden": false,
        "inputHidden": false
      }
    },
    {
      "cell_type": "markdown",
      "source": [
        "### Q5: Write a query to return the ratings data in a more readable format: reviewer name, movie title, stars, and ratingDate. Also, sort the data, first by reviewer name, then by movie title, and lastly by number of stars. "
      ],
      "metadata": {}
    },
    {
      "cell_type": "code",
      "source": [
        "df = pd.read_sql_query(\"\"\"\n",
        "    SELECT name, title, stars, ratingDate\n",
        "    FROM Reviewer INNER JOIN Rating USING(rID) INNER JOIN Movie USING(mID)\n",
        "    ORDER BY name, title, stars\n",
        "\"\"\", conn);df"
      ],
      "outputs": [
        {
          "output_type": "execute_result",
          "execution_count": 29,
          "data": {
            "text/plain": [
              "                name                    title  stars  ratingDate\n",
              "0       Ashley White                     E.T.      3  2011-01-02\n",
              "1    Brittany Harris  Raiders of the Lost Ark      2  2011-01-30\n",
              "2    Brittany Harris  Raiders of the Lost Ark      4  2011-01-12\n",
              "3    Brittany Harris       The Sound of Music      2  2011-01-20\n",
              "4      Chris Jackson                     E.T.      2  2011-01-22\n",
              "5      Chris Jackson  Raiders of the Lost Ark      4        None\n",
              "6      Chris Jackson       The Sound of Music      3  2011-01-27\n",
              "7       Daniel Lewis               Snow White      4        None\n",
              "8   Elizabeth Thomas                   Avatar      3  2011-01-15\n",
              "9   Elizabeth Thomas               Snow White      5  2011-01-19\n",
              "10     James Cameron                   Avatar      5  2011-01-20\n",
              "11     Mike Anderson       Gone with the Wind      3  2011-01-09\n",
              "12    Sarah Martinez       Gone with the Wind      2  2011-01-22\n",
              "13    Sarah Martinez       Gone with the Wind      4  2011-01-27"
            ],
            "text/html": [
              "<div>\n",
              "<style scoped>\n",
              "    .dataframe tbody tr th:only-of-type {\n",
              "        vertical-align: middle;\n",
              "    }\n",
              "\n",
              "    .dataframe tbody tr th {\n",
              "        vertical-align: top;\n",
              "    }\n",
              "\n",
              "    .dataframe thead th {\n",
              "        text-align: right;\n",
              "    }\n",
              "</style>\n",
              "<table border=\"1\" class=\"dataframe\">\n",
              "  <thead>\n",
              "    <tr style=\"text-align: right;\">\n",
              "      <th></th>\n",
              "      <th>name</th>\n",
              "      <th>title</th>\n",
              "      <th>stars</th>\n",
              "      <th>ratingDate</th>\n",
              "    </tr>\n",
              "  </thead>\n",
              "  <tbody>\n",
              "    <tr>\n",
              "      <th>0</th>\n",
              "      <td>Ashley White</td>\n",
              "      <td>E.T.</td>\n",
              "      <td>3</td>\n",
              "      <td>2011-01-02</td>\n",
              "    </tr>\n",
              "    <tr>\n",
              "      <th>1</th>\n",
              "      <td>Brittany Harris</td>\n",
              "      <td>Raiders of the Lost Ark</td>\n",
              "      <td>2</td>\n",
              "      <td>2011-01-30</td>\n",
              "    </tr>\n",
              "    <tr>\n",
              "      <th>2</th>\n",
              "      <td>Brittany Harris</td>\n",
              "      <td>Raiders of the Lost Ark</td>\n",
              "      <td>4</td>\n",
              "      <td>2011-01-12</td>\n",
              "    </tr>\n",
              "    <tr>\n",
              "      <th>3</th>\n",
              "      <td>Brittany Harris</td>\n",
              "      <td>The Sound of Music</td>\n",
              "      <td>2</td>\n",
              "      <td>2011-01-20</td>\n",
              "    </tr>\n",
              "    <tr>\n",
              "      <th>4</th>\n",
              "      <td>Chris Jackson</td>\n",
              "      <td>E.T.</td>\n",
              "      <td>2</td>\n",
              "      <td>2011-01-22</td>\n",
              "    </tr>\n",
              "    <tr>\n",
              "      <th>5</th>\n",
              "      <td>Chris Jackson</td>\n",
              "      <td>Raiders of the Lost Ark</td>\n",
              "      <td>4</td>\n",
              "      <td>None</td>\n",
              "    </tr>\n",
              "    <tr>\n",
              "      <th>6</th>\n",
              "      <td>Chris Jackson</td>\n",
              "      <td>The Sound of Music</td>\n",
              "      <td>3</td>\n",
              "      <td>2011-01-27</td>\n",
              "    </tr>\n",
              "    <tr>\n",
              "      <th>7</th>\n",
              "      <td>Daniel Lewis</td>\n",
              "      <td>Snow White</td>\n",
              "      <td>4</td>\n",
              "      <td>None</td>\n",
              "    </tr>\n",
              "    <tr>\n",
              "      <th>8</th>\n",
              "      <td>Elizabeth Thomas</td>\n",
              "      <td>Avatar</td>\n",
              "      <td>3</td>\n",
              "      <td>2011-01-15</td>\n",
              "    </tr>\n",
              "    <tr>\n",
              "      <th>9</th>\n",
              "      <td>Elizabeth Thomas</td>\n",
              "      <td>Snow White</td>\n",
              "      <td>5</td>\n",
              "      <td>2011-01-19</td>\n",
              "    </tr>\n",
              "    <tr>\n",
              "      <th>10</th>\n",
              "      <td>James Cameron</td>\n",
              "      <td>Avatar</td>\n",
              "      <td>5</td>\n",
              "      <td>2011-01-20</td>\n",
              "    </tr>\n",
              "    <tr>\n",
              "      <th>11</th>\n",
              "      <td>Mike Anderson</td>\n",
              "      <td>Gone with the Wind</td>\n",
              "      <td>3</td>\n",
              "      <td>2011-01-09</td>\n",
              "    </tr>\n",
              "    <tr>\n",
              "      <th>12</th>\n",
              "      <td>Sarah Martinez</td>\n",
              "      <td>Gone with the Wind</td>\n",
              "      <td>2</td>\n",
              "      <td>2011-01-22</td>\n",
              "    </tr>\n",
              "    <tr>\n",
              "      <th>13</th>\n",
              "      <td>Sarah Martinez</td>\n",
              "      <td>Gone with the Wind</td>\n",
              "      <td>4</td>\n",
              "      <td>2011-01-27</td>\n",
              "    </tr>\n",
              "  </tbody>\n",
              "</table>\n",
              "</div>"
            ]
          },
          "metadata": {}
        }
      ],
      "execution_count": 29,
      "metadata": {
        "collapsed": false,
        "outputHidden": false,
        "inputHidden": false
      }
    },
    {
      "cell_type": "markdown",
      "source": [
        "### Q6: For all cases where the same reviewer rated the same movie twice and gave it a higher rating the second time, return the reviewer's name and the title of the movie. \n"
      ],
      "metadata": {}
    },
    {
      "cell_type": "code",
      "source": [
        "df = pd.read_sql_query(\"\"\"\n",
        "    SELECT \n",
        "        a.rID, a.mID, a.stars, a.ratingDate, \n",
        "        b.rID, b.mID, b.stars, b.ratingDate,\n",
        "        title, name\n",
        "    FROM Rating AS a, Rating AS b, Movie, Reviewer\n",
        "    WHERE \n",
        "        a.rID = Reviewer.rID AND     \n",
        "        a.mID = Movie.mID AND\n",
        "        a.rID = b.rID AND \n",
        "        a.mID = b.mID AND\n",
        "        a.ratingDate > b.ratingDate AND   -- table a has later date\n",
        "        a.stars > b.stars\n",
        "    ORDER BY name\n",
        "    \n",
        "\"\"\", conn);df"
      ],
      "outputs": [
        {
          "output_type": "execute_result",
          "execution_count": 57,
          "data": {
            "text/plain": [
              "   rID  mID  stars  ratingDate  rID  mID  stars  ratingDate  \\\n",
              "0  201  101      4  2011-01-27  201  101      2  2011-01-22   \n",
              "\n",
              "                title            name  \n",
              "0  Gone with the Wind  Sarah Martinez  "
            ],
            "text/html": [
              "<div>\n",
              "<style scoped>\n",
              "    .dataframe tbody tr th:only-of-type {\n",
              "        vertical-align: middle;\n",
              "    }\n",
              "\n",
              "    .dataframe tbody tr th {\n",
              "        vertical-align: top;\n",
              "    }\n",
              "\n",
              "    .dataframe thead th {\n",
              "        text-align: right;\n",
              "    }\n",
              "</style>\n",
              "<table border=\"1\" class=\"dataframe\">\n",
              "  <thead>\n",
              "    <tr style=\"text-align: right;\">\n",
              "      <th></th>\n",
              "      <th>rID</th>\n",
              "      <th>mID</th>\n",
              "      <th>stars</th>\n",
              "      <th>ratingDate</th>\n",
              "      <th>rID</th>\n",
              "      <th>mID</th>\n",
              "      <th>stars</th>\n",
              "      <th>ratingDate</th>\n",
              "      <th>title</th>\n",
              "      <th>name</th>\n",
              "    </tr>\n",
              "  </thead>\n",
              "  <tbody>\n",
              "    <tr>\n",
              "      <th>0</th>\n",
              "      <td>201</td>\n",
              "      <td>101</td>\n",
              "      <td>4</td>\n",
              "      <td>2011-01-27</td>\n",
              "      <td>201</td>\n",
              "      <td>101</td>\n",
              "      <td>2</td>\n",
              "      <td>2011-01-22</td>\n",
              "      <td>Gone with the Wind</td>\n",
              "      <td>Sarah Martinez</td>\n",
              "    </tr>\n",
              "  </tbody>\n",
              "</table>\n",
              "</div>"
            ]
          },
          "metadata": {}
        }
      ],
      "execution_count": 57,
      "metadata": {
        "collapsed": false,
        "outputHidden": false,
        "inputHidden": false
      }
    },
    {
      "cell_type": "code",
      "source": [
        "df = pd.read_sql_query(\"\"\"\n",
        "    SELECT \n",
        "        name, title\n",
        "    FROM Rating AS a, Rating AS b, Movie, Reviewer\n",
        "    WHERE \n",
        "        a.rID = Reviewer.rID AND     \n",
        "        a.mID = Movie.mID AND\n",
        "        a.rID = b.rID AND \n",
        "        a.mID = b.mID AND\n",
        "        a.ratingDate > b.ratingDate AND   -- table a has later date\n",
        "        a.stars > b.stars\n",
        "   \n",
        "\"\"\", conn);df"
      ],
      "outputs": [
        {
          "output_type": "execute_result",
          "execution_count": 58,
          "data": {
            "text/plain": [
              "             name               title\n",
              "0  Sarah Martinez  Gone with the Wind"
            ],
            "text/html": [
              "<div>\n",
              "<style scoped>\n",
              "    .dataframe tbody tr th:only-of-type {\n",
              "        vertical-align: middle;\n",
              "    }\n",
              "\n",
              "    .dataframe tbody tr th {\n",
              "        vertical-align: top;\n",
              "    }\n",
              "\n",
              "    .dataframe thead th {\n",
              "        text-align: right;\n",
              "    }\n",
              "</style>\n",
              "<table border=\"1\" class=\"dataframe\">\n",
              "  <thead>\n",
              "    <tr style=\"text-align: right;\">\n",
              "      <th></th>\n",
              "      <th>name</th>\n",
              "      <th>title</th>\n",
              "    </tr>\n",
              "  </thead>\n",
              "  <tbody>\n",
              "    <tr>\n",
              "      <th>0</th>\n",
              "      <td>Sarah Martinez</td>\n",
              "      <td>Gone with the Wind</td>\n",
              "    </tr>\n",
              "  </tbody>\n",
              "</table>\n",
              "</div>"
            ]
          },
          "metadata": {}
        }
      ],
      "execution_count": 58,
      "metadata": {
        "collapsed": false,
        "outputHidden": false,
        "inputHidden": false
      }
    },
    {
      "cell_type": "markdown",
      "source": [
        "### Q7: For each movie that has at least one rating, find the highest number of stars that movie received. Return the movie title and number of stars. Sort by movie title. "
      ],
      "metadata": {}
    },
    {
      "cell_type": "code",
      "source": [
        "df = pd.read_sql_query(\"\"\"\n",
        "    SELECT \n",
        "        title , MAX(stars)\n",
        "    FROM Rating INNER JOIN Movie USING(mID)\n",
        "    GROUP BY title  \n",
        "\"\"\", conn);df"
      ],
      "outputs": [
        {
          "output_type": "execute_result",
          "execution_count": 72,
          "data": {
            "text/plain": [
              "                     title  MAX(stars)\n",
              "0                   Avatar           5\n",
              "1                     E.T.           3\n",
              "2       Gone with the Wind           4\n",
              "3  Raiders of the Lost Ark           4\n",
              "4               Snow White           5\n",
              "5       The Sound of Music           3"
            ],
            "text/html": [
              "<div>\n",
              "<style scoped>\n",
              "    .dataframe tbody tr th:only-of-type {\n",
              "        vertical-align: middle;\n",
              "    }\n",
              "\n",
              "    .dataframe tbody tr th {\n",
              "        vertical-align: top;\n",
              "    }\n",
              "\n",
              "    .dataframe thead th {\n",
              "        text-align: right;\n",
              "    }\n",
              "</style>\n",
              "<table border=\"1\" class=\"dataframe\">\n",
              "  <thead>\n",
              "    <tr style=\"text-align: right;\">\n",
              "      <th></th>\n",
              "      <th>title</th>\n",
              "      <th>MAX(stars)</th>\n",
              "    </tr>\n",
              "  </thead>\n",
              "  <tbody>\n",
              "    <tr>\n",
              "      <th>0</th>\n",
              "      <td>Avatar</td>\n",
              "      <td>5</td>\n",
              "    </tr>\n",
              "    <tr>\n",
              "      <th>1</th>\n",
              "      <td>E.T.</td>\n",
              "      <td>3</td>\n",
              "    </tr>\n",
              "    <tr>\n",
              "      <th>2</th>\n",
              "      <td>Gone with the Wind</td>\n",
              "      <td>4</td>\n",
              "    </tr>\n",
              "    <tr>\n",
              "      <th>3</th>\n",
              "      <td>Raiders of the Lost Ark</td>\n",
              "      <td>4</td>\n",
              "    </tr>\n",
              "    <tr>\n",
              "      <th>4</th>\n",
              "      <td>Snow White</td>\n",
              "      <td>5</td>\n",
              "    </tr>\n",
              "    <tr>\n",
              "      <th>5</th>\n",
              "      <td>The Sound of Music</td>\n",
              "      <td>3</td>\n",
              "    </tr>\n",
              "  </tbody>\n",
              "</table>\n",
              "</div>"
            ]
          },
          "metadata": {}
        }
      ],
      "execution_count": 72,
      "metadata": {
        "collapsed": false,
        "outputHidden": false,
        "inputHidden": false
      }
    },
    {
      "cell_type": "markdown",
      "source": [
        "### Q8: For each movie, return the title and the 'rating spread', that is, the difference between highest and lowest ratings given to that movie. Sort by rating spread from highest to lowest, then by movie title. "
      ],
      "metadata": {}
    },
    {
      "cell_type": "code",
      "source": [
        "df = pd.read_sql_query(\"\"\"\n",
        "    SELECT \n",
        "        title, (MAX(stars) - MIN(stars)) AS RatingsSpread\n",
        "    FROM Rating INNER JOIN Movie USING(mID)\n",
        "    GROUP BY title  \n",
        "    ORDER BY RatingsSpread DESC, title \n",
        "\"\"\", conn);df"
      ],
      "outputs": [
        {
          "output_type": "execute_result",
          "execution_count": 81,
          "data": {
            "text/plain": [
              "                     title  RatingsSpread\n",
              "0                   Avatar              2\n",
              "1       Gone with the Wind              2\n",
              "2  Raiders of the Lost Ark              2\n",
              "3                     E.T.              1\n",
              "4               Snow White              1\n",
              "5       The Sound of Music              1"
            ],
            "text/html": [
              "<div>\n",
              "<style scoped>\n",
              "    .dataframe tbody tr th:only-of-type {\n",
              "        vertical-align: middle;\n",
              "    }\n",
              "\n",
              "    .dataframe tbody tr th {\n",
              "        vertical-align: top;\n",
              "    }\n",
              "\n",
              "    .dataframe thead th {\n",
              "        text-align: right;\n",
              "    }\n",
              "</style>\n",
              "<table border=\"1\" class=\"dataframe\">\n",
              "  <thead>\n",
              "    <tr style=\"text-align: right;\">\n",
              "      <th></th>\n",
              "      <th>title</th>\n",
              "      <th>RatingsSpread</th>\n",
              "    </tr>\n",
              "  </thead>\n",
              "  <tbody>\n",
              "    <tr>\n",
              "      <th>0</th>\n",
              "      <td>Avatar</td>\n",
              "      <td>2</td>\n",
              "    </tr>\n",
              "    <tr>\n",
              "      <th>1</th>\n",
              "      <td>Gone with the Wind</td>\n",
              "      <td>2</td>\n",
              "    </tr>\n",
              "    <tr>\n",
              "      <th>2</th>\n",
              "      <td>Raiders of the Lost Ark</td>\n",
              "      <td>2</td>\n",
              "    </tr>\n",
              "    <tr>\n",
              "      <th>3</th>\n",
              "      <td>E.T.</td>\n",
              "      <td>1</td>\n",
              "    </tr>\n",
              "    <tr>\n",
              "      <th>4</th>\n",
              "      <td>Snow White</td>\n",
              "      <td>1</td>\n",
              "    </tr>\n",
              "    <tr>\n",
              "      <th>5</th>\n",
              "      <td>The Sound of Music</td>\n",
              "      <td>1</td>\n",
              "    </tr>\n",
              "  </tbody>\n",
              "</table>\n",
              "</div>"
            ]
          },
          "metadata": {}
        }
      ],
      "execution_count": 81,
      "metadata": {
        "collapsed": false,
        "outputHidden": false,
        "inputHidden": false
      }
    },
    {
      "cell_type": "markdown",
      "source": [
        "#### Another UPDATE example\n",
        "The following example shows how SELECT statements can be embedded within the SET attribute expression(s)."
      ],
      "metadata": {}
    },
    {
      "cell_type": "code",
      "source": [
        "c.execute(\"\"\"\n",
        "    UPDATE Student\n",
        "    SET GPA = (SELECT MAX(GPA) FROM Student),\n",
        "        sizeHS = (SELECT MIN(sizeHS) FROM Student)\n",
        "\"\"\")"
      ],
      "outputs": [
        {
          "output_type": "execute_result",
          "execution_count": 74,
          "data": {
            "text/plain": [
              "<sqlite3.Cursor at 0x22b950fe500>"
            ]
          },
          "metadata": {}
        }
      ],
      "execution_count": 74,
      "metadata": {
        "collapsed": false,
        "outputHidden": true,
        "inputHidden": false
      }
    },
    {
      "cell_type": "code",
      "source": [
        "df = pd.read_sql_query(\"\"\"\n",
        "    SELECT *\n",
        "    FROM Student\n",
        "\"\"\", conn); df"
      ],
      "outputs": [
        {
          "output_type": "execute_result",
          "execution_count": 75,
          "data": {
            "text/plain": [
              "    sID   sName  GPA  sizeHS\n",
              "0   123     Amy  3.9     200\n",
              "1   234     Bob  3.9     200\n",
              "2   345   Craig  3.9     200\n",
              "3   456   Doris  3.9     200\n",
              "4   567  Edward  3.9     200\n",
              "5   678     Fay  3.9     200\n",
              "6   789    Gary  3.9     200\n",
              "7   987   Helen  3.9     200\n",
              "8   876   Irene  3.9     200\n",
              "9   765     Jay  3.9     200\n",
              "10  654     Amy  3.9     200\n",
              "11  543   Craig  3.9     200"
            ],
            "text/html": [
              "<div>\n",
              "<style scoped>\n",
              "    .dataframe tbody tr th:only-of-type {\n",
              "        vertical-align: middle;\n",
              "    }\n",
              "\n",
              "    .dataframe tbody tr th {\n",
              "        vertical-align: top;\n",
              "    }\n",
              "\n",
              "    .dataframe thead th {\n",
              "        text-align: right;\n",
              "    }\n",
              "</style>\n",
              "<table border=\"1\" class=\"dataframe\">\n",
              "  <thead>\n",
              "    <tr style=\"text-align: right;\">\n",
              "      <th></th>\n",
              "      <th>sID</th>\n",
              "      <th>sName</th>\n",
              "      <th>GPA</th>\n",
              "      <th>sizeHS</th>\n",
              "    </tr>\n",
              "  </thead>\n",
              "  <tbody>\n",
              "    <tr>\n",
              "      <th>0</th>\n",
              "      <td>123</td>\n",
              "      <td>Amy</td>\n",
              "      <td>3.9</td>\n",
              "      <td>200</td>\n",
              "    </tr>\n",
              "    <tr>\n",
              "      <th>1</th>\n",
              "      <td>234</td>\n",
              "      <td>Bob</td>\n",
              "      <td>3.9</td>\n",
              "      <td>200</td>\n",
              "    </tr>\n",
              "    <tr>\n",
              "      <th>2</th>\n",
              "      <td>345</td>\n",
              "      <td>Craig</td>\n",
              "      <td>3.9</td>\n",
              "      <td>200</td>\n",
              "    </tr>\n",
              "    <tr>\n",
              "      <th>3</th>\n",
              "      <td>456</td>\n",
              "      <td>Doris</td>\n",
              "      <td>3.9</td>\n",
              "      <td>200</td>\n",
              "    </tr>\n",
              "    <tr>\n",
              "      <th>4</th>\n",
              "      <td>567</td>\n",
              "      <td>Edward</td>\n",
              "      <td>3.9</td>\n",
              "      <td>200</td>\n",
              "    </tr>\n",
              "    <tr>\n",
              "      <th>5</th>\n",
              "      <td>678</td>\n",
              "      <td>Fay</td>\n",
              "      <td>3.9</td>\n",
              "      <td>200</td>\n",
              "    </tr>\n",
              "    <tr>\n",
              "      <th>6</th>\n",
              "      <td>789</td>\n",
              "      <td>Gary</td>\n",
              "      <td>3.9</td>\n",
              "      <td>200</td>\n",
              "    </tr>\n",
              "    <tr>\n",
              "      <th>7</th>\n",
              "      <td>987</td>\n",
              "      <td>Helen</td>\n",
              "      <td>3.9</td>\n",
              "      <td>200</td>\n",
              "    </tr>\n",
              "    <tr>\n",
              "      <th>8</th>\n",
              "      <td>876</td>\n",
              "      <td>Irene</td>\n",
              "      <td>3.9</td>\n",
              "      <td>200</td>\n",
              "    </tr>\n",
              "    <tr>\n",
              "      <th>9</th>\n",
              "      <td>765</td>\n",
              "      <td>Jay</td>\n",
              "      <td>3.9</td>\n",
              "      <td>200</td>\n",
              "    </tr>\n",
              "    <tr>\n",
              "      <th>10</th>\n",
              "      <td>654</td>\n",
              "      <td>Amy</td>\n",
              "      <td>3.9</td>\n",
              "      <td>200</td>\n",
              "    </tr>\n",
              "    <tr>\n",
              "      <th>11</th>\n",
              "      <td>543</td>\n",
              "      <td>Craig</td>\n",
              "      <td>3.9</td>\n",
              "      <td>200</td>\n",
              "    </tr>\n",
              "  </tbody>\n",
              "</table>\n",
              "</div>"
            ]
          },
          "metadata": {}
        }
      ],
      "execution_count": 75,
      "metadata": {
        "collapsed": false,
        "outputHidden": false,
        "inputHidden": false
      }
    }
  ],
  "metadata": {
    "kernel_info": {
      "name": "python3"
    },
    "language_info": {
      "name": "python",
      "version": "3.7.1",
      "mimetype": "text/x-python",
      "codemirror_mode": {
        "name": "ipython",
        "version": 3
      },
      "pygments_lexer": "ipython3",
      "nbconvert_exporter": "python",
      "file_extension": ".py"
    },
    "kernelspec": {
      "name": "python3",
      "language": "python",
      "display_name": "Python 3"
    },
    "nteract": {
      "version": "0.12.3"
    }
  },
  "nbformat": 4,
  "nbformat_minor": 4
}