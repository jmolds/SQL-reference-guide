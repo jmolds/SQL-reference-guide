{
  "cells": [
    {
      "cell_type": "markdown",
      "source": [
        "# SQL with Python Reference Guide 8\n",
        "# Data Modification Statements\n",
        "## (Justin M. Olds)\n",
        "Based on Stanford SQL course: https://lagunita.stanford.edu/courses/DB/SQL/SelfPaced/info\n",
        "\n",
        "---\n",
        "**Data Modification Statements Overview** \n",
        "\n",
        "* **INSERT** -- Two methods: **(1)** Specify the values for the tuples to be inserted and **(2)** Insert the results of a separate SELECT statement that satisfies the attribute requirements. \n",
        "* **DELETE** -- Specify values to be removed based on WHERE conditions, which can include subqueries to become quite elaborate.\n",
        "* **UPDATE** -- Similar to the DELETE command, but attributes for tuples that meet a condition specified in the WHERE clause can be replaced with a new expression. (Multiple attributes can be updated simultaneously)"
      ],
      "metadata": {}
    },
    {
      "cell_type": "code",
      "source": [
        "import sqlite3\n",
        "import pandas as pd\n",
        "\n",
        "conn = sqlite3.connect(\"class.db\")\n",
        "c = conn.cursor()"
      ],
      "outputs": [],
      "execution_count": 2,
      "metadata": {
        "collapsed": false,
        "outputHidden": false,
        "inputHidden": false
      }
    },
    {
      "cell_type": "markdown",
      "source": [
        "---\n",
        "### Tables and Insert code below (same as before--college admissions data)"
      ],
      "metadata": {}
    },
    {
      "cell_type": "code",
      "source": [
        "c.execute('DROP TABLE IF EXISTS College')\n",
        "c.execute('DROP TABLE IF EXISTS Student') \n",
        "c.execute('DROP TABLE IF EXISTS Apply') \n",
        "\n",
        "c.execute('CREATE TABLE College(cName TEXT, state TEXT, enrollment INT)')\n",
        "c.execute('CREATE TABLE Student(sID INT, sName TEXT, GPA REAL, sizeHS INT)')\n",
        "c.execute('CREATE TABLE Apply(sID INT, cName TEXT, major TEXT, decision TEXT)')\n",
        "conn.commit()"
      ],
      "outputs": [],
      "execution_count": 58,
      "metadata": {
        "collapsed": false,
        "outputHidden": false,
        "inputHidden": false
      }
    },
    {
      "cell_type": "code",
      "source": [
        "c.execute('DELETE FROM Student')\n",
        "c.execute('DELETE FROM College')\n",
        "c.execute('DELETE FROM Apply')\n",
        "\n",
        "c.execute(\"INSERT INTO Student VALUES (123, 'Amy', 3.9, 1000)\")\n",
        "c.execute(\"INSERT INTO Student values (234, 'Bob', 3.6, 1500)\")\n",
        "c.execute(\"INSERT INTO Student values (345, 'Craig', 3.5, 500)\")\n",
        "c.execute(\"INSERT INTO Student values (456, 'Doris', 3.9, 1000)\")\n",
        "c.execute(\"INSERT INTO Student values (567, 'Edward', 2.9, 2000)\")\n",
        "c.execute(\"INSERT INTO Student values (678, 'Fay', 3.8, 200)\")\n",
        "c.execute(\"INSERT INTO Student values (789, 'Gary', 3.4, 800)\")\n",
        "c.execute(\"INSERT INTO Student values (987, 'Helen', 3.7, 800)\")\n",
        "c.execute(\"INSERT INTO Student values (876, 'Irene', 3.9, 400)\")\n",
        "c.execute(\"INSERT INTO Student values (765, 'Jay', 2.9, 1500)\")\n",
        "c.execute(\"INSERT INTO Student values (654, 'Amy', 3.9, 1000)\")\n",
        "c.execute(\"INSERT INTO Student values (543, 'Craig', 3.4, 2000)\")\n",
        "\n",
        "c.execute(\"INSERT INTO College values ('Stanford', 'CA', 15000)\")\n",
        "c.execute(\"INSERT INTO College values ('Berkeley', 'CA', 36000)\")\n",
        "c.execute(\"INSERT INTO College values ('MIT', 'MA', 10000)\")\n",
        "c.execute(\"INSERT INTO College values ('Cornell', 'NY', 21000)\")\n",
        "\n",
        "c.execute(\"INSERT INTO Apply values (123, 'Stanford', 'CS', 'Y')\")\n",
        "c.execute(\"INSERT INTO Apply values (123, 'Stanford', 'EE', 'N')\")\n",
        "c.execute(\"INSERT INTO Apply values (123, 'Berkeley', 'CS', 'Y')\")\n",
        "c.execute(\"INSERT INTO Apply values (123, 'Cornell', 'EE', 'Y')\")\n",
        "c.execute(\"INSERT INTO Apply values (234, 'Berkeley', 'biology', 'N')\")\n",
        "c.execute(\"INSERT INTO Apply values (345, 'MIT', 'bioengineering', 'Y')\")\n",
        "c.execute(\"INSERT INTO Apply values (345, 'Cornell', 'bioengineering', 'N')\")\n",
        "c.execute(\"INSERT INTO Apply values (345, 'Cornell', 'CS', 'Y')\")\n",
        "c.execute(\"INSERT INTO Apply values (345, 'Cornell', 'EE', 'N')\")\n",
        "c.execute(\"INSERT INTO Apply values (678, 'Stanford', 'history', 'Y')\")\n",
        "c.execute(\"INSERT INTO Apply values (987, 'Stanford', 'CS', 'Y')\")\n",
        "c.execute(\"INSERT INTO Apply values (987, 'Berkeley', 'CS', 'Y')\")\n",
        "c.execute(\"INSERT INTO Apply values (876, 'Stanford', 'CS', 'N')\")\n",
        "c.execute(\"INSERT INTO Apply values (876, 'MIT', 'biology', 'Y')\")\n",
        "c.execute(\"INSERT INTO Apply values (876, 'MIT', 'marine biology', 'N')\")\n",
        "c.execute(\"INSERT INTO Apply values (765, 'Stanford', 'history', 'Y')\")\n",
        "c.execute(\"INSERT INTO Apply values (765, 'Cornell', 'history', 'N')\")\n",
        "c.execute(\"INSERT INTO Apply values (765, 'Cornell', 'psychology', 'Y')\")\n",
        "c.execute(\"INSERT INTO Apply values (543, 'MIT', 'CS', 'N')\")\n",
        "conn.commit()\n"
      ],
      "outputs": [],
      "execution_count": 59,
      "metadata": {
        "collapsed": false,
        "outputHidden": false,
        "inputHidden": false
      }
    },
    {
      "cell_type": "markdown",
      "source": [
        "---\n",
        "### INSERT command example (Method 1: specify attribute values for a tuple)\n",
        "\n",
        "Add a new college to the College database. \n"
      ],
      "metadata": {}
    },
    {
      "cell_type": "code",
      "source": [
        "\n",
        "c.execute(\"INSERT INTO College VALUES ('Carnegie Mellon', 'PA', 11500)\")\n"
      ],
      "outputs": [
        {
          "output_type": "execute_result",
          "execution_count": 60,
          "data": {
            "text/plain": [
              "<sqlite3.Cursor at 0x22b950fe500>"
            ]
          },
          "metadata": {}
        }
      ],
      "execution_count": 60,
      "metadata": {
        "collapsed": false,
        "outputHidden": true,
        "inputHidden": false
      }
    },
    {
      "cell_type": "markdown",
      "source": [
        "### INSERT command example (Method 2: obtain attribute values (at least, some) from a select statement)\n",
        "\nHave all students who didn't apply anywhere apply to CS at Carnegie Mellon."
      ],
      "metadata": {}
    },
    {
      "cell_type": "code",
      "source": [
        "c.execute(\"\"\"\n",
        "    INSERT INTO Apply\n",
        "        SELECT sID, 'Carnegie Mellon', 'CS', NULL\n",
        "        FROM Student\n",
        "        WHERE sID NOT IN (SELECT sID FROM Apply)\n",
        "\"\"\")\n"
      ],
      "outputs": [
        {
          "output_type": "execute_result",
          "execution_count": 61,
          "data": {
            "text/plain": [
              "<sqlite3.Cursor at 0x22b950fe500>"
            ]
          },
          "metadata": {}
        }
      ],
      "execution_count": 61,
      "metadata": {
        "collapsed": false,
        "outputHidden": true,
        "inputHidden": false
      }
    },
    {
      "cell_type": "markdown",
      "source": [
        "Inserted students are listed at the bottom: "
      ],
      "metadata": {}
    },
    {
      "cell_type": "code",
      "source": [
        "df = pd.read_sql_query(\"\"\"\n",
        "    SELECT *\n",
        "    FROM Apply \n",
        "    \"\"\", conn);df"
      ],
      "outputs": [
        {
          "output_type": "execute_result",
          "execution_count": 9,
          "data": {
            "text/plain": [
              "    sID            cName           major decision\n",
              "0   123         Stanford              CS        Y\n",
              "1   123         Stanford              EE        N\n",
              "2   123         Berkeley              CS        Y\n",
              "3   123          Cornell              EE        Y\n",
              "4   234         Berkeley         biology        N\n",
              "5   345              MIT  bioengineering        Y\n",
              "6   345          Cornell  bioengineering        N\n",
              "7   345          Cornell              CS        Y\n",
              "8   345          Cornell              EE        N\n",
              "9   678         Stanford         history        Y\n",
              "10  987         Stanford              CS        Y\n",
              "11  987         Berkeley              CS        Y\n",
              "12  876         Stanford              CS        N\n",
              "13  876              MIT         biology        Y\n",
              "14  876              MIT  marine biology        N\n",
              "15  765         Stanford         history        Y\n",
              "16  765          Cornell         history        N\n",
              "17  765          Cornell      psychology        Y\n",
              "18  543              MIT              CS        N\n",
              "19  456  Carnegie Mellon              CS     None\n",
              "20  567  Carnegie Mellon              CS     None\n",
              "21  789  Carnegie Mellon              CS     None\n",
              "22  654  Carnegie Mellon              CS     None"
            ],
            "text/html": [
              "<div>\n",
              "<style scoped>\n",
              "    .dataframe tbody tr th:only-of-type {\n",
              "        vertical-align: middle;\n",
              "    }\n",
              "\n",
              "    .dataframe tbody tr th {\n",
              "        vertical-align: top;\n",
              "    }\n",
              "\n",
              "    .dataframe thead th {\n",
              "        text-align: right;\n",
              "    }\n",
              "</style>\n",
              "<table border=\"1\" class=\"dataframe\">\n",
              "  <thead>\n",
              "    <tr style=\"text-align: right;\">\n",
              "      <th></th>\n",
              "      <th>sID</th>\n",
              "      <th>cName</th>\n",
              "      <th>major</th>\n",
              "      <th>decision</th>\n",
              "    </tr>\n",
              "  </thead>\n",
              "  <tbody>\n",
              "    <tr>\n",
              "      <th>0</th>\n",
              "      <td>123</td>\n",
              "      <td>Stanford</td>\n",
              "      <td>CS</td>\n",
              "      <td>Y</td>\n",
              "    </tr>\n",
              "    <tr>\n",
              "      <th>1</th>\n",
              "      <td>123</td>\n",
              "      <td>Stanford</td>\n",
              "      <td>EE</td>\n",
              "      <td>N</td>\n",
              "    </tr>\n",
              "    <tr>\n",
              "      <th>2</th>\n",
              "      <td>123</td>\n",
              "      <td>Berkeley</td>\n",
              "      <td>CS</td>\n",
              "      <td>Y</td>\n",
              "    </tr>\n",
              "    <tr>\n",
              "      <th>3</th>\n",
              "      <td>123</td>\n",
              "      <td>Cornell</td>\n",
              "      <td>EE</td>\n",
              "      <td>Y</td>\n",
              "    </tr>\n",
              "    <tr>\n",
              "      <th>4</th>\n",
              "      <td>234</td>\n",
              "      <td>Berkeley</td>\n",
              "      <td>biology</td>\n",
              "      <td>N</td>\n",
              "    </tr>\n",
              "    <tr>\n",
              "      <th>5</th>\n",
              "      <td>345</td>\n",
              "      <td>MIT</td>\n",
              "      <td>bioengineering</td>\n",
              "      <td>Y</td>\n",
              "    </tr>\n",
              "    <tr>\n",
              "      <th>6</th>\n",
              "      <td>345</td>\n",
              "      <td>Cornell</td>\n",
              "      <td>bioengineering</td>\n",
              "      <td>N</td>\n",
              "    </tr>\n",
              "    <tr>\n",
              "      <th>7</th>\n",
              "      <td>345</td>\n",
              "      <td>Cornell</td>\n",
              "      <td>CS</td>\n",
              "      <td>Y</td>\n",
              "    </tr>\n",
              "    <tr>\n",
              "      <th>8</th>\n",
              "      <td>345</td>\n",
              "      <td>Cornell</td>\n",
              "      <td>EE</td>\n",
              "      <td>N</td>\n",
              "    </tr>\n",
              "    <tr>\n",
              "      <th>9</th>\n",
              "      <td>678</td>\n",
              "      <td>Stanford</td>\n",
              "      <td>history</td>\n",
              "      <td>Y</td>\n",
              "    </tr>\n",
              "    <tr>\n",
              "      <th>10</th>\n",
              "      <td>987</td>\n",
              "      <td>Stanford</td>\n",
              "      <td>CS</td>\n",
              "      <td>Y</td>\n",
              "    </tr>\n",
              "    <tr>\n",
              "      <th>11</th>\n",
              "      <td>987</td>\n",
              "      <td>Berkeley</td>\n",
              "      <td>CS</td>\n",
              "      <td>Y</td>\n",
              "    </tr>\n",
              "    <tr>\n",
              "      <th>12</th>\n",
              "      <td>876</td>\n",
              "      <td>Stanford</td>\n",
              "      <td>CS</td>\n",
              "      <td>N</td>\n",
              "    </tr>\n",
              "    <tr>\n",
              "      <th>13</th>\n",
              "      <td>876</td>\n",
              "      <td>MIT</td>\n",
              "      <td>biology</td>\n",
              "      <td>Y</td>\n",
              "    </tr>\n",
              "    <tr>\n",
              "      <th>14</th>\n",
              "      <td>876</td>\n",
              "      <td>MIT</td>\n",
              "      <td>marine biology</td>\n",
              "      <td>N</td>\n",
              "    </tr>\n",
              "    <tr>\n",
              "      <th>15</th>\n",
              "      <td>765</td>\n",
              "      <td>Stanford</td>\n",
              "      <td>history</td>\n",
              "      <td>Y</td>\n",
              "    </tr>\n",
              "    <tr>\n",
              "      <th>16</th>\n",
              "      <td>765</td>\n",
              "      <td>Cornell</td>\n",
              "      <td>history</td>\n",
              "      <td>N</td>\n",
              "    </tr>\n",
              "    <tr>\n",
              "      <th>17</th>\n",
              "      <td>765</td>\n",
              "      <td>Cornell</td>\n",
              "      <td>psychology</td>\n",
              "      <td>Y</td>\n",
              "    </tr>\n",
              "    <tr>\n",
              "      <th>18</th>\n",
              "      <td>543</td>\n",
              "      <td>MIT</td>\n",
              "      <td>CS</td>\n",
              "      <td>N</td>\n",
              "    </tr>\n",
              "    <tr>\n",
              "      <th>19</th>\n",
              "      <td>456</td>\n",
              "      <td>Carnegie Mellon</td>\n",
              "      <td>CS</td>\n",
              "      <td>None</td>\n",
              "    </tr>\n",
              "    <tr>\n",
              "      <th>20</th>\n",
              "      <td>567</td>\n",
              "      <td>Carnegie Mellon</td>\n",
              "      <td>CS</td>\n",
              "      <td>None</td>\n",
              "    </tr>\n",
              "    <tr>\n",
              "      <th>21</th>\n",
              "      <td>789</td>\n",
              "      <td>Carnegie Mellon</td>\n",
              "      <td>CS</td>\n",
              "      <td>None</td>\n",
              "    </tr>\n",
              "    <tr>\n",
              "      <th>22</th>\n",
              "      <td>654</td>\n",
              "      <td>Carnegie Mellon</td>\n",
              "      <td>CS</td>\n",
              "      <td>None</td>\n",
              "    </tr>\n",
              "  </tbody>\n",
              "</table>\n",
              "</div>"
            ]
          },
          "metadata": {}
        }
      ],
      "execution_count": 9,
      "metadata": {
        "collapsed": false,
        "outputHidden": false,
        "inputHidden": false
      }
    },
    {
      "cell_type": "markdown",
      "source": [
        "### Another example: \n",
        "\n",
        "Admit to Carnegie Mellon EE, all students who were turned down to EE. elsewhere. \n",
        "\nFirst, check SELECT statement: "
      ],
      "metadata": {}
    },
    {
      "cell_type": "code",
      "source": [
        "df = pd.read_sql_query(\"\"\"\n",
        "    SELECT *\n",
        "    FROM Student\n",
        "    WHERE sID IN \n",
        "        (SELECT sID FROM Apply WHERE major = 'EE' AND decision='N')\n",
        "    \"\"\", conn);df"
      ],
      "outputs": [
        {
          "output_type": "execute_result",
          "execution_count": 10,
          "data": {
            "text/plain": [
              "   sID  sName  GPA  sizeHS\n",
              "0  123    Amy  3.9    1000\n",
              "1  345  Craig  3.5     500"
            ],
            "text/html": [
              "<div>\n",
              "<style scoped>\n",
              "    .dataframe tbody tr th:only-of-type {\n",
              "        vertical-align: middle;\n",
              "    }\n",
              "\n",
              "    .dataframe tbody tr th {\n",
              "        vertical-align: top;\n",
              "    }\n",
              "\n",
              "    .dataframe thead th {\n",
              "        text-align: right;\n",
              "    }\n",
              "</style>\n",
              "<table border=\"1\" class=\"dataframe\">\n",
              "  <thead>\n",
              "    <tr style=\"text-align: right;\">\n",
              "      <th></th>\n",
              "      <th>sID</th>\n",
              "      <th>sName</th>\n",
              "      <th>GPA</th>\n",
              "      <th>sizeHS</th>\n",
              "    </tr>\n",
              "  </thead>\n",
              "  <tbody>\n",
              "    <tr>\n",
              "      <th>0</th>\n",
              "      <td>123</td>\n",
              "      <td>Amy</td>\n",
              "      <td>3.9</td>\n",
              "      <td>1000</td>\n",
              "    </tr>\n",
              "    <tr>\n",
              "      <th>1</th>\n",
              "      <td>345</td>\n",
              "      <td>Craig</td>\n",
              "      <td>3.5</td>\n",
              "      <td>500</td>\n",
              "    </tr>\n",
              "  </tbody>\n",
              "</table>\n",
              "</div>"
            ]
          },
          "metadata": {}
        }
      ],
      "execution_count": 10,
      "metadata": {
        "collapsed": false,
        "outputHidden": false,
        "inputHidden": false
      }
    },
    {
      "cell_type": "code",
      "source": [
        "c.execute(\"\"\"\n",
        "    INSERT INTO Apply\n",
        "        SELECT sID, 'Carnegie Mellon', 'EE', 'Y'\n",
        "        FROM Student\n",
        "        WHERE sID IN \n",
        "            (SELECT sID FROM Apply WHERE major = 'EE' AND decision = 'N')\n",
        "\"\"\")"
      ],
      "outputs": [
        {
          "output_type": "execute_result",
          "execution_count": 62,
          "data": {
            "text/plain": [
              "<sqlite3.Cursor at 0x22b950fe500>"
            ]
          },
          "metadata": {}
        }
      ],
      "execution_count": 62,
      "metadata": {
        "collapsed": false,
        "outputHidden": true,
        "inputHidden": false
      }
    },
    {
      "cell_type": "markdown",
      "source": [
        "Check that the two students were inserted. Yes, at the bottom of the table."
      ],
      "metadata": {}
    },
    {
      "cell_type": "code",
      "source": [
        "df = pd.read_sql_query(\"\"\"\n",
        "    SELECT *\n",
        "    FROM Apply \n",
        "    \"\"\", conn);df"
      ],
      "outputs": [
        {
          "output_type": "execute_result",
          "execution_count": 57,
          "data": {
            "text/plain": [
              "    sID     cName           major decision\n",
              "0   123  Stanford              CS        Y\n",
              "1   123  Stanford              EE        N\n",
              "2   123  Berkeley              CS        Y\n",
              "3   123   Cornell              EE        Y\n",
              "4   234  Berkeley         biology        N\n",
              "5   345       MIT  bioengineering        Y\n",
              "6   345   Cornell  bioengineering        N\n",
              "7   345   Cornell              EE        N\n",
              "8   678  Stanford         history        Y\n",
              "9   987  Stanford              CS        Y\n",
              "10  987  Berkeley              CS        Y\n",
              "11  876  Stanford              CS        N\n",
              "12  876       MIT         biology        Y\n",
              "13  876       MIT  marine biology        N\n",
              "14  765  Stanford         history        Y\n",
              "15  765   Cornell         history        N\n",
              "16  765   Cornell      psychology        Y\n",
              "17  543       MIT              CS        N"
            ],
            "text/html": [
              "<div>\n",
              "<style scoped>\n",
              "    .dataframe tbody tr th:only-of-type {\n",
              "        vertical-align: middle;\n",
              "    }\n",
              "\n",
              "    .dataframe tbody tr th {\n",
              "        vertical-align: top;\n",
              "    }\n",
              "\n",
              "    .dataframe thead th {\n",
              "        text-align: right;\n",
              "    }\n",
              "</style>\n",
              "<table border=\"1\" class=\"dataframe\">\n",
              "  <thead>\n",
              "    <tr style=\"text-align: right;\">\n",
              "      <th></th>\n",
              "      <th>sID</th>\n",
              "      <th>cName</th>\n",
              "      <th>major</th>\n",
              "      <th>decision</th>\n",
              "    </tr>\n",
              "  </thead>\n",
              "  <tbody>\n",
              "    <tr>\n",
              "      <th>0</th>\n",
              "      <td>123</td>\n",
              "      <td>Stanford</td>\n",
              "      <td>CS</td>\n",
              "      <td>Y</td>\n",
              "    </tr>\n",
              "    <tr>\n",
              "      <th>1</th>\n",
              "      <td>123</td>\n",
              "      <td>Stanford</td>\n",
              "      <td>EE</td>\n",
              "      <td>N</td>\n",
              "    </tr>\n",
              "    <tr>\n",
              "      <th>2</th>\n",
              "      <td>123</td>\n",
              "      <td>Berkeley</td>\n",
              "      <td>CS</td>\n",
              "      <td>Y</td>\n",
              "    </tr>\n",
              "    <tr>\n",
              "      <th>3</th>\n",
              "      <td>123</td>\n",
              "      <td>Cornell</td>\n",
              "      <td>EE</td>\n",
              "      <td>Y</td>\n",
              "    </tr>\n",
              "    <tr>\n",
              "      <th>4</th>\n",
              "      <td>234</td>\n",
              "      <td>Berkeley</td>\n",
              "      <td>biology</td>\n",
              "      <td>N</td>\n",
              "    </tr>\n",
              "    <tr>\n",
              "      <th>5</th>\n",
              "      <td>345</td>\n",
              "      <td>MIT</td>\n",
              "      <td>bioengineering</td>\n",
              "      <td>Y</td>\n",
              "    </tr>\n",
              "    <tr>\n",
              "      <th>6</th>\n",
              "      <td>345</td>\n",
              "      <td>Cornell</td>\n",
              "      <td>bioengineering</td>\n",
              "      <td>N</td>\n",
              "    </tr>\n",
              "    <tr>\n",
              "      <th>7</th>\n",
              "      <td>345</td>\n",
              "      <td>Cornell</td>\n",
              "      <td>EE</td>\n",
              "      <td>N</td>\n",
              "    </tr>\n",
              "    <tr>\n",
              "      <th>8</th>\n",
              "      <td>678</td>\n",
              "      <td>Stanford</td>\n",
              "      <td>history</td>\n",
              "      <td>Y</td>\n",
              "    </tr>\n",
              "    <tr>\n",
              "      <th>9</th>\n",
              "      <td>987</td>\n",
              "      <td>Stanford</td>\n",
              "      <td>CS</td>\n",
              "      <td>Y</td>\n",
              "    </tr>\n",
              "    <tr>\n",
              "      <th>10</th>\n",
              "      <td>987</td>\n",
              "      <td>Berkeley</td>\n",
              "      <td>CS</td>\n",
              "      <td>Y</td>\n",
              "    </tr>\n",
              "    <tr>\n",
              "      <th>11</th>\n",
              "      <td>876</td>\n",
              "      <td>Stanford</td>\n",
              "      <td>CS</td>\n",
              "      <td>N</td>\n",
              "    </tr>\n",
              "    <tr>\n",
              "      <th>12</th>\n",
              "      <td>876</td>\n",
              "      <td>MIT</td>\n",
              "      <td>biology</td>\n",
              "      <td>Y</td>\n",
              "    </tr>\n",
              "    <tr>\n",
              "      <th>13</th>\n",
              "      <td>876</td>\n",
              "      <td>MIT</td>\n",
              "      <td>marine biology</td>\n",
              "      <td>N</td>\n",
              "    </tr>\n",
              "    <tr>\n",
              "      <th>14</th>\n",
              "      <td>765</td>\n",
              "      <td>Stanford</td>\n",
              "      <td>history</td>\n",
              "      <td>Y</td>\n",
              "    </tr>\n",
              "    <tr>\n",
              "      <th>15</th>\n",
              "      <td>765</td>\n",
              "      <td>Cornell</td>\n",
              "      <td>history</td>\n",
              "      <td>N</td>\n",
              "    </tr>\n",
              "    <tr>\n",
              "      <th>16</th>\n",
              "      <td>765</td>\n",
              "      <td>Cornell</td>\n",
              "      <td>psychology</td>\n",
              "      <td>Y</td>\n",
              "    </tr>\n",
              "    <tr>\n",
              "      <th>17</th>\n",
              "      <td>543</td>\n",
              "      <td>MIT</td>\n",
              "      <td>CS</td>\n",
              "      <td>N</td>\n",
              "    </tr>\n",
              "  </tbody>\n",
              "</table>\n",
              "</div>"
            ]
          },
          "metadata": {}
        }
      ],
      "execution_count": 57,
      "metadata": {
        "collapsed": false,
        "outputHidden": false,
        "inputHidden": false
      }
    },
    {
      "cell_type": "markdown",
      "source": [
        "---\n",
        "### DELETE\n",
        "Delete all students who applied to more than two different majors.\n"
      ],
      "metadata": {}
    },
    {
      "cell_type": "code",
      "source": [
        "df = pd.read_sql_query(\"\"\"\n",
        "    SELECT sID, COUNT(DISTINCT major)\n",
        "    FROM Apply\n",
        "    GROUP BY sID\n",
        "    HAVING COUNT(DISTINCT major) > 2\n",
        "\"\"\", conn);df"
      ],
      "outputs": [
        {
          "output_type": "execute_result",
          "execution_count": 13,
          "data": {
            "text/plain": [
              "   sID  COUNT(DISTINCT major)\n",
              "0  345                      3\n",
              "1  876                      3"
            ],
            "text/html": [
              "<div>\n",
              "<style scoped>\n",
              "    .dataframe tbody tr th:only-of-type {\n",
              "        vertical-align: middle;\n",
              "    }\n",
              "\n",
              "    .dataframe tbody tr th {\n",
              "        vertical-align: top;\n",
              "    }\n",
              "\n",
              "    .dataframe thead th {\n",
              "        text-align: right;\n",
              "    }\n",
              "</style>\n",
              "<table border=\"1\" class=\"dataframe\">\n",
              "  <thead>\n",
              "    <tr style=\"text-align: right;\">\n",
              "      <th></th>\n",
              "      <th>sID</th>\n",
              "      <th>COUNT(DISTINCT major)</th>\n",
              "    </tr>\n",
              "  </thead>\n",
              "  <tbody>\n",
              "    <tr>\n",
              "      <th>0</th>\n",
              "      <td>345</td>\n",
              "      <td>3</td>\n",
              "    </tr>\n",
              "    <tr>\n",
              "      <th>1</th>\n",
              "      <td>876</td>\n",
              "      <td>3</td>\n",
              "    </tr>\n",
              "  </tbody>\n",
              "</table>\n",
              "</div>"
            ]
          },
          "metadata": {}
        }
      ],
      "execution_count": 13,
      "metadata": {
        "collapsed": false,
        "outputHidden": false,
        "inputHidden": false
      }
    },
    {
      "cell_type": "code",
      "source": [
        "c.execute(\"\"\"\n",
        "    DELETE FROM Student\n",
        "    WHERE sID IN\n",
        "        (SELECT sID\n",
        "        FROM Apply\n",
        "        GROUP BY sID\n",
        "        HAVING COUNT(DISTINCT major) >2)\n",
        "\"\"\")"
      ],
      "outputs": [
        {
          "output_type": "execute_result",
          "execution_count": 63,
          "data": {
            "text/plain": [
              "<sqlite3.Cursor at 0x22b950fe500>"
            ]
          },
          "metadata": {}
        }
      ],
      "execution_count": 63,
      "metadata": {
        "collapsed": false,
        "outputHidden": true,
        "inputHidden": false
      }
    },
    {
      "cell_type": "markdown",
      "source": [
        "### Another DELETE example\n",
        "\nDelete colleges with no CS applicants. In this case, we delete the CS  students in the Apply table from Cornell so Cornell will be removed from the College table. "
      ],
      "metadata": {}
    },
    {
      "cell_type": "code",
      "source": [
        "c.execute(\"\"\"\n",
        "    DELETE FROM Apply\n",
        "    WHERE cName = 'Cornell' AND major = 'CS'\n",
        "\"\"\")"
      ],
      "outputs": [
        {
          "output_type": "execute_result",
          "execution_count": 65,
          "data": {
            "text/plain": [
              "<sqlite3.Cursor at 0x22b950fe500>"
            ]
          },
          "metadata": {}
        }
      ],
      "execution_count": 65,
      "metadata": {
        "collapsed": false,
        "outputHidden": true,
        "inputHidden": false
      }
    },
    {
      "cell_type": "code",
      "source": [
        "df = pd.read_sql_query(\"\"\"\n",
        "    SELECT * \n",
        "    FROM College\n",
        "    WHERE cName NOT IN \n",
        "        (SELECT cName\n",
        "        FROM Apply\n",
        "        WHERE major = 'CS')\n",
        "\"\"\", conn);df"
      ],
      "outputs": [
        {
          "output_type": "execute_result",
          "execution_count": 66,
          "data": {
            "text/plain": [
              "     cName state  enrollment\n",
              "0  Cornell    NY       21000"
            ],
            "text/html": [
              "<div>\n",
              "<style scoped>\n",
              "    .dataframe tbody tr th:only-of-type {\n",
              "        vertical-align: middle;\n",
              "    }\n",
              "\n",
              "    .dataframe tbody tr th {\n",
              "        vertical-align: top;\n",
              "    }\n",
              "\n",
              "    .dataframe thead th {\n",
              "        text-align: right;\n",
              "    }\n",
              "</style>\n",
              "<table border=\"1\" class=\"dataframe\">\n",
              "  <thead>\n",
              "    <tr style=\"text-align: right;\">\n",
              "      <th></th>\n",
              "      <th>cName</th>\n",
              "      <th>state</th>\n",
              "      <th>enrollment</th>\n",
              "    </tr>\n",
              "  </thead>\n",
              "  <tbody>\n",
              "    <tr>\n",
              "      <th>0</th>\n",
              "      <td>Cornell</td>\n",
              "      <td>NY</td>\n",
              "      <td>21000</td>\n",
              "    </tr>\n",
              "  </tbody>\n",
              "</table>\n",
              "</div>"
            ]
          },
          "metadata": {}
        }
      ],
      "execution_count": 66,
      "metadata": {
        "collapsed": false,
        "outputHidden": false,
        "inputHidden": false
      }
    },
    {
      "cell_type": "code",
      "source": [
        "c.execute(\"\"\"\n",
        "    DELETE FROM College\n",
        "    WHERE cName NOT IN\n",
        "        (SELECT cName\n",
        "        FROM Apply\n",
        "        WHERE major = 'CS')\n",
        "\"\"\")"
      ],
      "outputs": [
        {
          "output_type": "execute_result",
          "execution_count": 67,
          "data": {
            "text/plain": [
              "<sqlite3.Cursor at 0x22b950fe500>"
            ]
          },
          "metadata": {}
        }
      ],
      "execution_count": 67,
      "metadata": {
        "collapsed": false,
        "outputHidden": true,
        "inputHidden": false
      }
    },
    {
      "cell_type": "markdown",
      "source": [
        "Cornell is removed from the College table (See below)"
      ],
      "metadata": {}
    },
    {
      "cell_type": "code",
      "source": [
        "df = pd.read_sql_query(\"\"\"\n",
        "    SELECT * \n",
        "    FROM College\n",
        "    \"\"\", conn);df"
      ],
      "outputs": [
        {
          "output_type": "execute_result",
          "execution_count": 68,
          "data": {
            "text/plain": [
              "             cName state  enrollment\n",
              "0         Stanford    CA       15000\n",
              "1         Berkeley    CA       36000\n",
              "2              MIT    MA       10000\n",
              "3  Carnegie Mellon    PA       11500"
            ],
            "text/html": [
              "<div>\n",
              "<style scoped>\n",
              "    .dataframe tbody tr th:only-of-type {\n",
              "        vertical-align: middle;\n",
              "    }\n",
              "\n",
              "    .dataframe tbody tr th {\n",
              "        vertical-align: top;\n",
              "    }\n",
              "\n",
              "    .dataframe thead th {\n",
              "        text-align: right;\n",
              "    }\n",
              "</style>\n",
              "<table border=\"1\" class=\"dataframe\">\n",
              "  <thead>\n",
              "    <tr style=\"text-align: right;\">\n",
              "      <th></th>\n",
              "      <th>cName</th>\n",
              "      <th>state</th>\n",
              "      <th>enrollment</th>\n",
              "    </tr>\n",
              "  </thead>\n",
              "  <tbody>\n",
              "    <tr>\n",
              "      <th>0</th>\n",
              "      <td>Stanford</td>\n",
              "      <td>CA</td>\n",
              "      <td>15000</td>\n",
              "    </tr>\n",
              "    <tr>\n",
              "      <th>1</th>\n",
              "      <td>Berkeley</td>\n",
              "      <td>CA</td>\n",
              "      <td>36000</td>\n",
              "    </tr>\n",
              "    <tr>\n",
              "      <th>2</th>\n",
              "      <td>MIT</td>\n",
              "      <td>MA</td>\n",
              "      <td>10000</td>\n",
              "    </tr>\n",
              "    <tr>\n",
              "      <th>3</th>\n",
              "      <td>Carnegie Mellon</td>\n",
              "      <td>PA</td>\n",
              "      <td>11500</td>\n",
              "    </tr>\n",
              "  </tbody>\n",
              "</table>\n",
              "</div>"
            ]
          },
          "metadata": {}
        }
      ],
      "execution_count": 68,
      "metadata": {
        "collapsed": false,
        "outputHidden": false,
        "inputHidden": false
      }
    },
    {
      "cell_type": "markdown",
      "source": [
        "### UPDATE commands\n",
        "Update rows in the Apply table such that applications to Carnegie Mellon with GPA < 3.6 are now accepted (Decision='Y') but turn them into Economics majors"
      ],
      "metadata": {}
    },
    {
      "cell_type": "code",
      "source": [
        "df = pd.read_sql_query(\"\"\"\n",
        "    SELECT *\n",
        "    FROM Apply\n",
        "    WHERE cName = 'Carnegie Mellon'\n",
        "        AND sID IN (SELECT sID FROM Student WHERE GPA < 3.6)\n",
        "\"\"\", conn); df"
      ],
      "outputs": [
        {
          "output_type": "execute_result",
          "execution_count": 70,
          "data": {
            "text/plain": [
              "   sID            cName major decision\n",
              "0  567  Carnegie Mellon    CS     None\n",
              "1  789  Carnegie Mellon    CS     None"
            ],
            "text/html": [
              "<div>\n",
              "<style scoped>\n",
              "    .dataframe tbody tr th:only-of-type {\n",
              "        vertical-align: middle;\n",
              "    }\n",
              "\n",
              "    .dataframe tbody tr th {\n",
              "        vertical-align: top;\n",
              "    }\n",
              "\n",
              "    .dataframe thead th {\n",
              "        text-align: right;\n",
              "    }\n",
              "</style>\n",
              "<table border=\"1\" class=\"dataframe\">\n",
              "  <thead>\n",
              "    <tr style=\"text-align: right;\">\n",
              "      <th></th>\n",
              "      <th>sID</th>\n",
              "      <th>cName</th>\n",
              "      <th>major</th>\n",
              "      <th>decision</th>\n",
              "    </tr>\n",
              "  </thead>\n",
              "  <tbody>\n",
              "    <tr>\n",
              "      <th>0</th>\n",
              "      <td>567</td>\n",
              "      <td>Carnegie Mellon</td>\n",
              "      <td>CS</td>\n",
              "      <td>None</td>\n",
              "    </tr>\n",
              "    <tr>\n",
              "      <th>1</th>\n",
              "      <td>789</td>\n",
              "      <td>Carnegie Mellon</td>\n",
              "      <td>CS</td>\n",
              "      <td>None</td>\n",
              "    </tr>\n",
              "  </tbody>\n",
              "</table>\n",
              "</div>"
            ]
          },
          "metadata": {}
        }
      ],
      "execution_count": 70,
      "metadata": {
        "collapsed": false,
        "outputHidden": false,
        "inputHidden": false
      }
    },
    {
      "cell_type": "code",
      "source": [
        "c.execute(\"\"\"\n",
        "    UPDATE Apply\n",
        "    SET decision = 'Y', major = 'economics'\n",
        "    WHERE cName = 'Carnegie Mellon'\n",
        "        AND sID IN (SELECT sID FROM Student WHERE GPA < 3.6)\n",
        "\"\"\")"
      ],
      "outputs": [
        {
          "output_type": "execute_result",
          "execution_count": 71,
          "data": {
            "text/plain": [
              "<sqlite3.Cursor at 0x22b950fe500>"
            ]
          },
          "metadata": {}
        }
      ],
      "execution_count": 71,
      "metadata": {
        "collapsed": false,
        "outputHidden": true,
        "inputHidden": false
      }
    },
    {
      "cell_type": "code",
      "source": [
        "df = pd.read_sql_query(\"\"\"\n",
        "    SELECT *\n",
        "    FROM Apply\n",
        "    WHERE cName = 'Carnegie Mellon'\n",
        "        AND sID IN (SELECT sID FROM Student WHERE GPA < 3.6)\n",
        "\"\"\", conn); df"
      ],
      "outputs": [
        {
          "output_type": "execute_result",
          "execution_count": 72,
          "data": {
            "text/plain": [
              "   sID            cName      major decision\n",
              "0  567  Carnegie Mellon  economics        Y\n",
              "1  789  Carnegie Mellon  economics        Y"
            ],
            "text/html": [
              "<div>\n",
              "<style scoped>\n",
              "    .dataframe tbody tr th:only-of-type {\n",
              "        vertical-align: middle;\n",
              "    }\n",
              "\n",
              "    .dataframe tbody tr th {\n",
              "        vertical-align: top;\n",
              "    }\n",
              "\n",
              "    .dataframe thead th {\n",
              "        text-align: right;\n",
              "    }\n",
              "</style>\n",
              "<table border=\"1\" class=\"dataframe\">\n",
              "  <thead>\n",
              "    <tr style=\"text-align: right;\">\n",
              "      <th></th>\n",
              "      <th>sID</th>\n",
              "      <th>cName</th>\n",
              "      <th>major</th>\n",
              "      <th>decision</th>\n",
              "    </tr>\n",
              "  </thead>\n",
              "  <tbody>\n",
              "    <tr>\n",
              "      <th>0</th>\n",
              "      <td>567</td>\n",
              "      <td>Carnegie Mellon</td>\n",
              "      <td>economics</td>\n",
              "      <td>Y</td>\n",
              "    </tr>\n",
              "    <tr>\n",
              "      <th>1</th>\n",
              "      <td>789</td>\n",
              "      <td>Carnegie Mellon</td>\n",
              "      <td>economics</td>\n",
              "      <td>Y</td>\n",
              "    </tr>\n",
              "  </tbody>\n",
              "</table>\n",
              "</div>"
            ]
          },
          "metadata": {}
        }
      ],
      "execution_count": 72,
      "metadata": {
        "collapsed": false,
        "outputHidden": false,
        "inputHidden": false
      }
    },
    {
      "cell_type": "markdown",
      "source": [
        "#### Another UPDATE example\n",
        "The following example shows how SELECT statements can be embedded within the SET attribute expression(s)."
      ],
      "metadata": {}
    },
    {
      "cell_type": "code",
      "source": [
        "c.execute(\"\"\"\n",
        "    UPDATE Student\n",
        "    SET GPA = (SELECT MAX(GPA) FROM Student),\n",
        "        sizeHS = (SELECT MIN(sizeHS) FROM Student)\n",
        "\"\"\")"
      ],
      "outputs": [
        {
          "output_type": "execute_result",
          "execution_count": 74,
          "data": {
            "text/plain": [
              "<sqlite3.Cursor at 0x22b950fe500>"
            ]
          },
          "metadata": {}
        }
      ],
      "execution_count": 74,
      "metadata": {
        "collapsed": false,
        "outputHidden": true,
        "inputHidden": false
      }
    },
    {
      "cell_type": "code",
      "source": [
        "df = pd.read_sql_query(\"\"\"\n",
        "    SELECT *\n",
        "    FROM Student\n",
        "\"\"\", conn); df"
      ],
      "outputs": [
        {
          "output_type": "execute_result",
          "execution_count": 75,
          "data": {
            "text/plain": [
              "    sID   sName  GPA  sizeHS\n",
              "0   123     Amy  3.9     200\n",
              "1   234     Bob  3.9     200\n",
              "2   345   Craig  3.9     200\n",
              "3   456   Doris  3.9     200\n",
              "4   567  Edward  3.9     200\n",
              "5   678     Fay  3.9     200\n",
              "6   789    Gary  3.9     200\n",
              "7   987   Helen  3.9     200\n",
              "8   876   Irene  3.9     200\n",
              "9   765     Jay  3.9     200\n",
              "10  654     Amy  3.9     200\n",
              "11  543   Craig  3.9     200"
            ],
            "text/html": [
              "<div>\n",
              "<style scoped>\n",
              "    .dataframe tbody tr th:only-of-type {\n",
              "        vertical-align: middle;\n",
              "    }\n",
              "\n",
              "    .dataframe tbody tr th {\n",
              "        vertical-align: top;\n",
              "    }\n",
              "\n",
              "    .dataframe thead th {\n",
              "        text-align: right;\n",
              "    }\n",
              "</style>\n",
              "<table border=\"1\" class=\"dataframe\">\n",
              "  <thead>\n",
              "    <tr style=\"text-align: right;\">\n",
              "      <th></th>\n",
              "      <th>sID</th>\n",
              "      <th>sName</th>\n",
              "      <th>GPA</th>\n",
              "      <th>sizeHS</th>\n",
              "    </tr>\n",
              "  </thead>\n",
              "  <tbody>\n",
              "    <tr>\n",
              "      <th>0</th>\n",
              "      <td>123</td>\n",
              "      <td>Amy</td>\n",
              "      <td>3.9</td>\n",
              "      <td>200</td>\n",
              "    </tr>\n",
              "    <tr>\n",
              "      <th>1</th>\n",
              "      <td>234</td>\n",
              "      <td>Bob</td>\n",
              "      <td>3.9</td>\n",
              "      <td>200</td>\n",
              "    </tr>\n",
              "    <tr>\n",
              "      <th>2</th>\n",
              "      <td>345</td>\n",
              "      <td>Craig</td>\n",
              "      <td>3.9</td>\n",
              "      <td>200</td>\n",
              "    </tr>\n",
              "    <tr>\n",
              "      <th>3</th>\n",
              "      <td>456</td>\n",
              "      <td>Doris</td>\n",
              "      <td>3.9</td>\n",
              "      <td>200</td>\n",
              "    </tr>\n",
              "    <tr>\n",
              "      <th>4</th>\n",
              "      <td>567</td>\n",
              "      <td>Edward</td>\n",
              "      <td>3.9</td>\n",
              "      <td>200</td>\n",
              "    </tr>\n",
              "    <tr>\n",
              "      <th>5</th>\n",
              "      <td>678</td>\n",
              "      <td>Fay</td>\n",
              "      <td>3.9</td>\n",
              "      <td>200</td>\n",
              "    </tr>\n",
              "    <tr>\n",
              "      <th>6</th>\n",
              "      <td>789</td>\n",
              "      <td>Gary</td>\n",
              "      <td>3.9</td>\n",
              "      <td>200</td>\n",
              "    </tr>\n",
              "    <tr>\n",
              "      <th>7</th>\n",
              "      <td>987</td>\n",
              "      <td>Helen</td>\n",
              "      <td>3.9</td>\n",
              "      <td>200</td>\n",
              "    </tr>\n",
              "    <tr>\n",
              "      <th>8</th>\n",
              "      <td>876</td>\n",
              "      <td>Irene</td>\n",
              "      <td>3.9</td>\n",
              "      <td>200</td>\n",
              "    </tr>\n",
              "    <tr>\n",
              "      <th>9</th>\n",
              "      <td>765</td>\n",
              "      <td>Jay</td>\n",
              "      <td>3.9</td>\n",
              "      <td>200</td>\n",
              "    </tr>\n",
              "    <tr>\n",
              "      <th>10</th>\n",
              "      <td>654</td>\n",
              "      <td>Amy</td>\n",
              "      <td>3.9</td>\n",
              "      <td>200</td>\n",
              "    </tr>\n",
              "    <tr>\n",
              "      <th>11</th>\n",
              "      <td>543</td>\n",
              "      <td>Craig</td>\n",
              "      <td>3.9</td>\n",
              "      <td>200</td>\n",
              "    </tr>\n",
              "  </tbody>\n",
              "</table>\n",
              "</div>"
            ]
          },
          "metadata": {}
        }
      ],
      "execution_count": 75,
      "metadata": {
        "collapsed": false,
        "outputHidden": false,
        "inputHidden": false
      }
    }
  ],
  "metadata": {
    "kernel_info": {
      "name": "python3"
    },
    "language_info": {
      "name": "python",
      "version": "3.7.1",
      "mimetype": "text/x-python",
      "codemirror_mode": {
        "name": "ipython",
        "version": 3
      },
      "pygments_lexer": "ipython3",
      "nbconvert_exporter": "python",
      "file_extension": ".py"
    },
    "kernelspec": {
      "name": "python3",
      "language": "python",
      "display_name": "Python 3"
    },
    "nteract": {
      "version": "0.12.3"
    }
  },
  "nbformat": 4,
  "nbformat_minor": 4
}