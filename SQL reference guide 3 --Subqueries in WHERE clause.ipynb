{
  "cells": [
    {
      "cell_type": "markdown",
      "source": [
        "# SQL with Python Reference Guide 3\n",
        "# Subqueries in WHERE clause\n",
        "## (Justin M. Olds)\n",
        "Based on Stanford SQL course: https://lagunita.stanford.edu/courses/DB/SQL/SelfPaced/info\n",
        "\n",
        "---\n",
        "**Subqueries** - Nested SELECT statements\n"
      ],
      "metadata": {}
    },
    {
      "cell_type": "code",
      "source": [
        "import sqlite3\n",
        "import pandas as pd\n",
        "\n",
        "conn = sqlite3.connect(\"class.db\")\n",
        "c = conn.cursor()"
      ],
      "outputs": [],
      "execution_count": 2,
      "metadata": {
        "collapsed": false,
        "outputHidden": false,
        "inputHidden": false
      }
    },
    {
      "cell_type": "markdown",
      "source": [
        "---\n",
        "### Tables and Insert code (same as before--college admissions data)"
      ],
      "metadata": {}
    },
    {
      "cell_type": "code",
      "source": [
        "c.execute('DROP TABLE IF EXISTS College')\n",
        "c.execute('DROP TABLE IF EXISTS Student') \n",
        "c.execute('DROP TABLE IF EXISTS Apply') \n",
        "\n",
        "c.execute('CREATE TABLE College(cName TEXT, state TEXT, enrollment INT)')\n",
        "c.execute('CREATE TABLE Student(sID INT, sName TEXT, GPA REAL, sizeHS INT)')\n",
        "c.execute('CREATE TABLE Apply(sID INT, cName TEXT, major TEXT, decision TEXT)')\n",
        "conn.commit()"
      ],
      "outputs": [],
      "execution_count": 3,
      "metadata": {
        "collapsed": false,
        "outputHidden": false,
        "inputHidden": true
      }
    },
    {
      "cell_type": "code",
      "source": [],
      "outputs": [],
      "execution_count": null,
      "metadata": {
        "collapsed": false,
        "outputHidden": false,
        "inputHidden": false
      }
    },
    {
      "cell_type": "code",
      "source": [
        "c.execute('DELETE FROM Student')\n",
        "c.execute('DELETE FROM College')\n",
        "c.execute('DELETE FROM Apply')\n",
        "\n",
        "c.execute(\"INSERT INTO Student VALUES (123, 'Amy', 3.9, 1000)\")\n",
        "c.execute(\"INSERT INTO Student values (234, 'Bob', 3.6, 1500)\")\n",
        "c.execute(\"INSERT INTO Student values (345, 'Craig', 3.5, 500)\")\n",
        "c.execute(\"INSERT INTO Student values (456, 'Doris', 3.9, 1000)\")\n",
        "c.execute(\"INSERT INTO Student values (567, 'Edward', 2.9, 2000)\")\n",
        "c.execute(\"INSERT INTO Student values (678, 'Fay', 3.8, 200)\")\n",
        "c.execute(\"INSERT INTO Student values (789, 'Gary', 3.4, 800)\")\n",
        "c.execute(\"INSERT INTO Student values (987, 'Helen', 3.7, 800)\")\n",
        "c.execute(\"INSERT INTO Student values (876, 'Irene', 3.9, 400)\")\n",
        "c.execute(\"INSERT INTO Student values (765, 'Jay', 2.9, 1500)\")\n",
        "c.execute(\"INSERT INTO Student values (654, 'Amy', 3.9, 1000)\")\n",
        "c.execute(\"INSERT INTO Student values (543, 'Craig', 3.4, 2000)\")\n",
        "\n",
        "c.execute(\"INSERT INTO College values ('Stanford', 'CA', 15000)\")\n",
        "c.execute(\"INSERT INTO College values ('Berkeley', 'CA', 36000)\")\n",
        "c.execute(\"INSERT INTO College values ('MIT', 'MA', 10000)\")\n",
        "c.execute(\"INSERT INTO College values ('Cornell', 'NY', 21000)\")\n",
        "\n",
        "c.execute(\"INSERT INTO Apply values (123, 'Stanford', 'CS', 'Y')\")\n",
        "c.execute(\"INSERT INTO Apply values (123, 'Stanford', 'EE', 'N')\")\n",
        "c.execute(\"INSERT INTO Apply values (123, 'Berkeley', 'CS', 'Y')\")\n",
        "c.execute(\"INSERT INTO Apply values (123, 'Cornell', 'EE', 'Y')\")\n",
        "c.execute(\"INSERT INTO Apply values (234, 'Berkeley', 'biology', 'N')\")\n",
        "c.execute(\"INSERT INTO Apply values (345, 'MIT', 'bioengineering', 'Y')\")\n",
        "c.execute(\"INSERT INTO Apply values (345, 'Cornell', 'bioengineering', 'N')\")\n",
        "c.execute(\"INSERT INTO Apply values (345, 'Cornell', 'CS', 'Y')\")\n",
        "c.execute(\"INSERT INTO Apply values (345, 'Cornell', 'EE', 'N')\")\n",
        "c.execute(\"INSERT INTO Apply values (678, 'Stanford', 'history', 'Y')\")\n",
        "c.execute(\"INSERT INTO Apply values (987, 'Stanford', 'CS', 'Y')\")\n",
        "c.execute(\"INSERT INTO Apply values (987, 'Berkeley', 'CS', 'Y')\")\n",
        "c.execute(\"INSERT INTO Apply values (876, 'Stanford', 'CS', 'N')\")\n",
        "c.execute(\"INSERT INTO Apply values (876, 'MIT', 'biology', 'Y')\")\n",
        "c.execute(\"INSERT INTO Apply values (876, 'MIT', 'marine biology', 'N')\")\n",
        "c.execute(\"INSERT INTO Apply values (765, 'Stanford', 'history', 'Y')\")\n",
        "c.execute(\"INSERT INTO Apply values (765, 'Cornell', 'history', 'N')\")\n",
        "c.execute(\"INSERT INTO Apply values (765, 'Cornell', 'psychology', 'Y')\")\n",
        "c.execute(\"INSERT INTO Apply values (543, 'MIT', 'CS', 'N')\")\n",
        "conn.commit()\n"
      ],
      "outputs": [],
      "execution_count": 4,
      "metadata": {
        "collapsed": false,
        "outputHidden": false,
        "inputHidden": true
      }
    },
    {
      "cell_type": "markdown",
      "source": [
        "---\n",
        "### SELECT Statements with subqueries\n",
        "\nThe statement below finds the sIDs and Names of all students that also applied to a CS program at any college."
      ],
      "metadata": {}
    },
    {
      "cell_type": "code",
      "source": [
        "df = pd.read_sql_query(\"\"\"\n",
        "    SELECT sID, sName\n",
        "    FROM Student\n",
        "    WHERE sID IN\n",
        "        (SELECT sID FROM Apply WHERE major = 'CS')\n",
        "\"\"\", conn)\n",
        "df"
      ],
      "outputs": [
        {
          "output_type": "execute_result",
          "execution_count": 18,
          "data": {
            "text/plain": [
              "   sID  sName\n",
              "0  123    Amy\n",
              "1  345  Craig\n",
              "2  987  Helen\n",
              "3  876  Irene\n",
              "4  543  Craig"
            ],
            "text/html": [
              "<div>\n",
              "<style scoped>\n",
              "    .dataframe tbody tr th:only-of-type {\n",
              "        vertical-align: middle;\n",
              "    }\n",
              "\n",
              "    .dataframe tbody tr th {\n",
              "        vertical-align: top;\n",
              "    }\n",
              "\n",
              "    .dataframe thead th {\n",
              "        text-align: right;\n",
              "    }\n",
              "</style>\n",
              "<table border=\"1\" class=\"dataframe\">\n",
              "  <thead>\n",
              "    <tr style=\"text-align: right;\">\n",
              "      <th></th>\n",
              "      <th>sID</th>\n",
              "      <th>sName</th>\n",
              "    </tr>\n",
              "  </thead>\n",
              "  <tbody>\n",
              "    <tr>\n",
              "      <th>0</th>\n",
              "      <td>123</td>\n",
              "      <td>Amy</td>\n",
              "    </tr>\n",
              "    <tr>\n",
              "      <th>1</th>\n",
              "      <td>345</td>\n",
              "      <td>Craig</td>\n",
              "    </tr>\n",
              "    <tr>\n",
              "      <th>2</th>\n",
              "      <td>987</td>\n",
              "      <td>Helen</td>\n",
              "    </tr>\n",
              "    <tr>\n",
              "      <th>3</th>\n",
              "      <td>876</td>\n",
              "      <td>Irene</td>\n",
              "    </tr>\n",
              "    <tr>\n",
              "      <th>4</th>\n",
              "      <td>543</td>\n",
              "      <td>Craig</td>\n",
              "    </tr>\n",
              "  </tbody>\n",
              "</table>\n",
              "</div>"
            ]
          },
          "metadata": {}
        }
      ],
      "execution_count": 18,
      "metadata": {
        "collapsed": false,
        "outputHidden": false,
        "inputHidden": false
      }
    },
    {
      "cell_type": "markdown",
      "source": [
        "The above result can also be accomplished without a subquery using the join condition in the following way. \n",
        "\nNote: The sID must be made explicit from either the Student or Apply relation to disambiguate and DISTINCT must be added in case any students applied to CS at different colleges. "
      ],
      "metadata": {}
    },
    {
      "cell_type": "code",
      "source": [
        "df = pd.read_sql_query(\"\"\"\n",
        "    SELECT DISTINCT Student.sID, sName\n",
        "    FROM Student, Apply\n",
        "    WHERE Student.sID = Apply.sID AND major = 'CS'\n",
        "\"\"\", conn)\n",
        "df"
      ],
      "outputs": [
        {
          "output_type": "execute_result",
          "execution_count": 21,
          "data": {
            "text/plain": [
              "   sID  sName\n",
              "0  123    Amy\n",
              "1  345  Craig\n",
              "2  987  Helen\n",
              "3  876  Irene\n",
              "4  543  Craig"
            ],
            "text/html": [
              "<div>\n",
              "<style scoped>\n",
              "    .dataframe tbody tr th:only-of-type {\n",
              "        vertical-align: middle;\n",
              "    }\n",
              "\n",
              "    .dataframe tbody tr th {\n",
              "        vertical-align: top;\n",
              "    }\n",
              "\n",
              "    .dataframe thead th {\n",
              "        text-align: right;\n",
              "    }\n",
              "</style>\n",
              "<table border=\"1\" class=\"dataframe\">\n",
              "  <thead>\n",
              "    <tr style=\"text-align: right;\">\n",
              "      <th></th>\n",
              "      <th>sID</th>\n",
              "      <th>sName</th>\n",
              "    </tr>\n",
              "  </thead>\n",
              "  <tbody>\n",
              "    <tr>\n",
              "      <th>0</th>\n",
              "      <td>123</td>\n",
              "      <td>Amy</td>\n",
              "    </tr>\n",
              "    <tr>\n",
              "      <th>1</th>\n",
              "      <td>345</td>\n",
              "      <td>Craig</td>\n",
              "    </tr>\n",
              "    <tr>\n",
              "      <th>2</th>\n",
              "      <td>987</td>\n",
              "      <td>Helen</td>\n",
              "    </tr>\n",
              "    <tr>\n",
              "      <th>3</th>\n",
              "      <td>876</td>\n",
              "      <td>Irene</td>\n",
              "    </tr>\n",
              "    <tr>\n",
              "      <th>4</th>\n",
              "      <td>543</td>\n",
              "      <td>Craig</td>\n",
              "    </tr>\n",
              "  </tbody>\n",
              "</table>\n",
              "</div>"
            ]
          },
          "metadata": {}
        }
      ],
      "execution_count": 21,
      "metadata": {
        "collapsed": false,
        "outputHidden": false,
        "inputHidden": false
      }
    },
    {
      "cell_type": "markdown",
      "source": [
        "Similar subquery as before with only names returned. If a subquery is not used in the form above, the addition of the DISTINCT clause for the student names would eliminate one of the Craigs below (Bad because they are different Craigs!)"
      ],
      "metadata": {}
    },
    {
      "cell_type": "code",
      "source": [
        "df = pd.read_sql_query(\"\"\"\n",
        "    SELECT sName\n",
        "    FROM Student\n",
        "    WHERE sID IN\n",
        "        (SELECT sID FROM Apply WHERE major = 'CS')\n",
        "\"\"\", conn)\n",
        "df"
      ],
      "outputs": [
        {
          "output_type": "execute_result",
          "execution_count": 22,
          "data": {
            "text/plain": [
              "   sName\n",
              "0    Amy\n",
              "1  Craig\n",
              "2  Helen\n",
              "3  Irene\n",
              "4  Craig"
            ],
            "text/html": [
              "<div>\n",
              "<style scoped>\n",
              "    .dataframe tbody tr th:only-of-type {\n",
              "        vertical-align: middle;\n",
              "    }\n",
              "\n",
              "    .dataframe tbody tr th {\n",
              "        vertical-align: top;\n",
              "    }\n",
              "\n",
              "    .dataframe thead th {\n",
              "        text-align: right;\n",
              "    }\n",
              "</style>\n",
              "<table border=\"1\" class=\"dataframe\">\n",
              "  <thead>\n",
              "    <tr style=\"text-align: right;\">\n",
              "      <th></th>\n",
              "      <th>sName</th>\n",
              "    </tr>\n",
              "  </thead>\n",
              "  <tbody>\n",
              "    <tr>\n",
              "      <th>0</th>\n",
              "      <td>Amy</td>\n",
              "    </tr>\n",
              "    <tr>\n",
              "      <th>1</th>\n",
              "      <td>Craig</td>\n",
              "    </tr>\n",
              "    <tr>\n",
              "      <th>2</th>\n",
              "      <td>Helen</td>\n",
              "    </tr>\n",
              "    <tr>\n",
              "      <th>3</th>\n",
              "      <td>Irene</td>\n",
              "    </tr>\n",
              "    <tr>\n",
              "      <th>4</th>\n",
              "      <td>Craig</td>\n",
              "    </tr>\n",
              "  </tbody>\n",
              "</table>\n",
              "</div>"
            ]
          },
          "metadata": {}
        }
      ],
      "execution_count": 22,
      "metadata": {
        "collapsed": false,
        "outputHidden": false,
        "inputHidden": false
      }
    },
    {
      "cell_type": "markdown",
      "source": [
        "Another subquery example with GPA returned"
      ],
      "metadata": {}
    },
    {
      "cell_type": "code",
      "source": [
        "df = pd.read_sql_query(\"\"\"\n",
        "    SELECT GPA\n",
        "    FROM Student\n",
        "    WHERE sID IN\n",
        "        (SELECT sID FROM Apply WHERE major = 'CS')\n",
        "\"\"\", conn)\n",
        "df"
      ],
      "outputs": [
        {
          "output_type": "execute_result",
          "execution_count": 5,
          "data": {
            "text/plain": [
              "   GPA\n",
              "0  3.9\n",
              "1  3.5\n",
              "2  3.7\n",
              "3  3.9\n",
              "4  3.4"
            ],
            "text/html": [
              "<div>\n",
              "<style scoped>\n",
              "    .dataframe tbody tr th:only-of-type {\n",
              "        vertical-align: middle;\n",
              "    }\n",
              "\n",
              "    .dataframe tbody tr th {\n",
              "        vertical-align: top;\n",
              "    }\n",
              "\n",
              "    .dataframe thead th {\n",
              "        text-align: right;\n",
              "    }\n",
              "</style>\n",
              "<table border=\"1\" class=\"dataframe\">\n",
              "  <thead>\n",
              "    <tr style=\"text-align: right;\">\n",
              "      <th></th>\n",
              "      <th>GPA</th>\n",
              "    </tr>\n",
              "  </thead>\n",
              "  <tbody>\n",
              "    <tr>\n",
              "      <th>0</th>\n",
              "      <td>3.9</td>\n",
              "    </tr>\n",
              "    <tr>\n",
              "      <th>1</th>\n",
              "      <td>3.5</td>\n",
              "    </tr>\n",
              "    <tr>\n",
              "      <th>2</th>\n",
              "      <td>3.7</td>\n",
              "    </tr>\n",
              "    <tr>\n",
              "      <th>3</th>\n",
              "      <td>3.9</td>\n",
              "    </tr>\n",
              "    <tr>\n",
              "      <th>4</th>\n",
              "      <td>3.4</td>\n",
              "    </tr>\n",
              "  </tbody>\n",
              "</table>\n",
              "</div>"
            ]
          },
          "metadata": {}
        }
      ],
      "execution_count": 5,
      "metadata": {
        "collapsed": false,
        "outputHidden": false,
        "inputHidden": false
      }
    },
    {
      "cell_type": "markdown",
      "source": [
        "The above SELECT statement with join conditions instead of using a subquery.\n",
        "\nThis returns extra rows (compared to the statement with a subquery above). Again, this is because students could have applied to CS at different colleges. This is a problem because using these data to compute an average would be incorrect because of the duplicate rows for  some students. "
      ],
      "metadata": {}
    },
    {
      "cell_type": "code",
      "source": [
        "df = pd.read_sql_query(\"\"\"\n",
        "    SELECT GPA\n",
        "    FROM Student, Apply\n",
        "    WHERE Student.sID = Apply.sID AND major = 'CS'\n",
        "\"\"\", conn)\n",
        "df"
      ],
      "outputs": [
        {
          "output_type": "execute_result",
          "execution_count": 7,
          "data": {
            "text/plain": [
              "   GPA\n",
              "0  3.9\n",
              "1  3.9\n",
              "2  3.5\n",
              "3  3.7\n",
              "4  3.7\n",
              "5  3.9\n",
              "6  3.4"
            ],
            "text/html": [
              "<div>\n",
              "<style scoped>\n",
              "    .dataframe tbody tr th:only-of-type {\n",
              "        vertical-align: middle;\n",
              "    }\n",
              "\n",
              "    .dataframe tbody tr th {\n",
              "        vertical-align: top;\n",
              "    }\n",
              "\n",
              "    .dataframe thead th {\n",
              "        text-align: right;\n",
              "    }\n",
              "</style>\n",
              "<table border=\"1\" class=\"dataframe\">\n",
              "  <thead>\n",
              "    <tr style=\"text-align: right;\">\n",
              "      <th></th>\n",
              "      <th>GPA</th>\n",
              "    </tr>\n",
              "  </thead>\n",
              "  <tbody>\n",
              "    <tr>\n",
              "      <th>0</th>\n",
              "      <td>3.9</td>\n",
              "    </tr>\n",
              "    <tr>\n",
              "      <th>1</th>\n",
              "      <td>3.9</td>\n",
              "    </tr>\n",
              "    <tr>\n",
              "      <th>2</th>\n",
              "      <td>3.5</td>\n",
              "    </tr>\n",
              "    <tr>\n",
              "      <th>3</th>\n",
              "      <td>3.7</td>\n",
              "    </tr>\n",
              "    <tr>\n",
              "      <th>4</th>\n",
              "      <td>3.7</td>\n",
              "    </tr>\n",
              "    <tr>\n",
              "      <th>5</th>\n",
              "      <td>3.9</td>\n",
              "    </tr>\n",
              "    <tr>\n",
              "      <th>6</th>\n",
              "      <td>3.4</td>\n",
              "    </tr>\n",
              "  </tbody>\n",
              "</table>\n",
              "</div>"
            ]
          },
          "metadata": {}
        }
      ],
      "execution_count": 7,
      "metadata": {
        "collapsed": false,
        "outputHidden": false,
        "inputHidden": false
      }
    },
    {
      "cell_type": "markdown",
      "source": [
        "Attempting to solve the above problem by adding DISTINCT is insufficient because only GPA is returned and some students have the same GPAs. "
      ],
      "metadata": {}
    },
    {
      "cell_type": "code",
      "source": [
        "df = pd.read_sql_query(\"\"\"\n",
        "    SELECT DISTINCT GPA\n",
        "    FROM Student, Apply\n",
        "    WHERE Student.sID = Apply.sID AND major = 'CS'\n",
        "\"\"\", conn)\n",
        "df"
      ],
      "outputs": [
        {
          "output_type": "execute_result",
          "execution_count": 8,
          "data": {
            "text/plain": [
              "   GPA\n",
              "0  3.9\n",
              "1  3.5\n",
              "2  3.7\n",
              "3  3.4"
            ],
            "text/html": [
              "<div>\n",
              "<style scoped>\n",
              "    .dataframe tbody tr th:only-of-type {\n",
              "        vertical-align: middle;\n",
              "    }\n",
              "\n",
              "    .dataframe tbody tr th {\n",
              "        vertical-align: top;\n",
              "    }\n",
              "\n",
              "    .dataframe thead th {\n",
              "        text-align: right;\n",
              "    }\n",
              "</style>\n",
              "<table border=\"1\" class=\"dataframe\">\n",
              "  <thead>\n",
              "    <tr style=\"text-align: right;\">\n",
              "      <th></th>\n",
              "      <th>GPA</th>\n",
              "    </tr>\n",
              "  </thead>\n",
              "  <tbody>\n",
              "    <tr>\n",
              "      <th>0</th>\n",
              "      <td>3.9</td>\n",
              "    </tr>\n",
              "    <tr>\n",
              "      <th>1</th>\n",
              "      <td>3.5</td>\n",
              "    </tr>\n",
              "    <tr>\n",
              "      <th>2</th>\n",
              "      <td>3.7</td>\n",
              "    </tr>\n",
              "    <tr>\n",
              "      <th>3</th>\n",
              "      <td>3.4</td>\n",
              "    </tr>\n",
              "  </tbody>\n",
              "</table>\n",
              "</div>"
            ]
          },
          "metadata": {}
        }
      ],
      "execution_count": 8,
      "metadata": {
        "collapsed": false,
        "outputHidden": false,
        "inputHidden": false
      }
    },
    {
      "cell_type": "markdown",
      "source": [
        "In this case, the only query version that will return the appropriate data is the one with the subquery in the WHERE clause. \n",
        "\n",
        "---\n",
        "\n",
        "Reference guide 2 ended with a query that attempted to be the equivalent of one with the EXCEPT clause. Subqueries can be used in place of the EXECPT clause in the following way. \n",
        "\nNote: The NOT clause can be moved in front of sID (AND NOT sID IN) and still works fine. "
      ],
      "metadata": {}
    },
    {
      "cell_type": "code",
      "source": [
        "df = pd.read_sql_query(\"\"\"\n",
        "    SELECT sID, sName\n",
        "    FROM Student\n",
        "    WHERE sID IN\n",
        "        (SELECT sID FROM Apply WHERE major = 'CS')\n",
        "        AND sID NOT IN (SELECT sID FROM Apply WHERE major = 'EE')\n",
        "\"\"\", conn)\n",
        "df"
      ],
      "outputs": [
        {
          "output_type": "execute_result",
          "execution_count": 9,
          "data": {
            "text/plain": [
              "   sID  sName\n",
              "0  987  Helen\n",
              "1  876  Irene\n",
              "2  543  Craig"
            ],
            "text/html": [
              "<div>\n",
              "<style scoped>\n",
              "    .dataframe tbody tr th:only-of-type {\n",
              "        vertical-align: middle;\n",
              "    }\n",
              "\n",
              "    .dataframe tbody tr th {\n",
              "        vertical-align: top;\n",
              "    }\n",
              "\n",
              "    .dataframe thead th {\n",
              "        text-align: right;\n",
              "    }\n",
              "</style>\n",
              "<table border=\"1\" class=\"dataframe\">\n",
              "  <thead>\n",
              "    <tr style=\"text-align: right;\">\n",
              "      <th></th>\n",
              "      <th>sID</th>\n",
              "      <th>sName</th>\n",
              "    </tr>\n",
              "  </thead>\n",
              "  <tbody>\n",
              "    <tr>\n",
              "      <th>0</th>\n",
              "      <td>987</td>\n",
              "      <td>Helen</td>\n",
              "    </tr>\n",
              "    <tr>\n",
              "      <th>1</th>\n",
              "      <td>876</td>\n",
              "      <td>Irene</td>\n",
              "    </tr>\n",
              "    <tr>\n",
              "      <th>2</th>\n",
              "      <td>543</td>\n",
              "      <td>Craig</td>\n",
              "    </tr>\n",
              "  </tbody>\n",
              "</table>\n",
              "</div>"
            ]
          },
          "metadata": {}
        }
      ],
      "execution_count": 9,
      "metadata": {
        "collapsed": false,
        "outputHidden": false,
        "inputHidden": false
      }
    },
    {
      "cell_type": "markdown",
      "source": [
        "### EXISTS\n",
        "Using the EXISTS operator within subqueries to test whether they're empty or not empty. \n",
        "\n",
        "This query tests all colleges such that there is some other college in the same state.\n",
        "\nNote: Because this query matches colleges from the same relation to one another, it will erroneously return all colleges because each college is identified as having another from the same state if they are matched to themselves. Adding the addition clause in the subquery for the college names to be different circumvents this problem."
      ],
      "metadata": {}
    },
    {
      "cell_type": "code",
      "source": [
        "df = pd.read_sql_query(\"\"\"\n",
        "    SELECT cName, state\n",
        "    FROM College C1\n",
        "    WHERE EXISTS\n",
        "        (SELECT * FROM College C2 \n",
        "        WHERE C2.state = C1.state\n",
        "            AND C1.cName <> C2.cName)        \n",
        "\"\"\", conn)\n",
        "df"
      ],
      "outputs": [
        {
          "output_type": "execute_result",
          "execution_count": 11,
          "data": {
            "text/plain": [
              "      cName state\n",
              "0  Stanford    CA\n",
              "1  Berkeley    CA"
            ],
            "text/html": [
              "<div>\n",
              "<style scoped>\n",
              "    .dataframe tbody tr th:only-of-type {\n",
              "        vertical-align: middle;\n",
              "    }\n",
              "\n",
              "    .dataframe tbody tr th {\n",
              "        vertical-align: top;\n",
              "    }\n",
              "\n",
              "    .dataframe thead th {\n",
              "        text-align: right;\n",
              "    }\n",
              "</style>\n",
              "<table border=\"1\" class=\"dataframe\">\n",
              "  <thead>\n",
              "    <tr style=\"text-align: right;\">\n",
              "      <th></th>\n",
              "      <th>cName</th>\n",
              "      <th>state</th>\n",
              "    </tr>\n",
              "  </thead>\n",
              "  <tbody>\n",
              "    <tr>\n",
              "      <th>0</th>\n",
              "      <td>Stanford</td>\n",
              "      <td>CA</td>\n",
              "    </tr>\n",
              "    <tr>\n",
              "      <th>1</th>\n",
              "      <td>Berkeley</td>\n",
              "      <td>CA</td>\n",
              "    </tr>\n",
              "  </tbody>\n",
              "</table>\n",
              "</div>"
            ]
          },
          "metadata": {}
        }
      ],
      "execution_count": 11,
      "metadata": {
        "collapsed": false,
        "outputHidden": false,
        "inputHidden": false
      }
    },
    {
      "cell_type": "markdown",
      "source": [
        "Using subqueries to obtain a max value. For example, the college with the largest enrollment. \n",
        "\nSpecifically, this query returns all colleges where there does not exists a college with a higher enrollment. "
      ],
      "metadata": {}
    },
    {
      "cell_type": "code",
      "source": [
        "df = pd.read_sql_query(\"\"\"\n",
        "    SELECT cName\n",
        "    FROM College C1\n",
        "    WHERE NOT EXISTS\n",
        "        (SELECT * FROM College C2 \n",
        "        WHERE C2.enrollment > C1.enrollment)\n",
        "\"\"\", conn)\n",
        "df"
      ],
      "outputs": [
        {
          "output_type": "execute_result",
          "execution_count": 12,
          "data": {
            "text/plain": [
              "      cName\n",
              "0  Berkeley"
            ],
            "text/html": [
              "<div>\n",
              "<style scoped>\n",
              "    .dataframe tbody tr th:only-of-type {\n",
              "        vertical-align: middle;\n",
              "    }\n",
              "\n",
              "    .dataframe tbody tr th {\n",
              "        vertical-align: top;\n",
              "    }\n",
              "\n",
              "    .dataframe thead th {\n",
              "        text-align: right;\n",
              "    }\n",
              "</style>\n",
              "<table border=\"1\" class=\"dataframe\">\n",
              "  <thead>\n",
              "    <tr style=\"text-align: right;\">\n",
              "      <th></th>\n",
              "      <th>cName</th>\n",
              "    </tr>\n",
              "  </thead>\n",
              "  <tbody>\n",
              "    <tr>\n",
              "      <th>0</th>\n",
              "      <td>Berkeley</td>\n",
              "    </tr>\n",
              "  </tbody>\n",
              "</table>\n",
              "</div>"
            ]
          },
          "metadata": {}
        }
      ],
      "execution_count": 12,
      "metadata": {
        "collapsed": false,
        "outputHidden": false,
        "inputHidden": false
      }
    },
    {
      "cell_type": "markdown",
      "source": [
        "A similar query can be written to find the student with the highest GPA. Spoiler: 4 way tie. "
      ],
      "metadata": {}
    },
    {
      "cell_type": "code",
      "source": [
        "df = pd.read_sql_query(\"\"\"\n",
        "    SELECT sName, GPA\n",
        "    FROM Student C1\n",
        "    WHERE NOT EXISTS\n",
        "        (SELECT * FROM Student C2 \n",
        "        WHERE C2.GPA > C1.GPA)\n",
        "\"\"\", conn)\n",
        "df"
      ],
      "outputs": [
        {
          "output_type": "execute_result",
          "execution_count": 15,
          "data": {
            "text/plain": [
              "   sName  GPA\n",
              "0    Amy  3.9\n",
              "1  Doris  3.9\n",
              "2  Irene  3.9\n",
              "3    Amy  3.9"
            ],
            "text/html": [
              "<div>\n",
              "<style scoped>\n",
              "    .dataframe tbody tr th:only-of-type {\n",
              "        vertical-align: middle;\n",
              "    }\n",
              "\n",
              "    .dataframe tbody tr th {\n",
              "        vertical-align: top;\n",
              "    }\n",
              "\n",
              "    .dataframe thead th {\n",
              "        text-align: right;\n",
              "    }\n",
              "</style>\n",
              "<table border=\"1\" class=\"dataframe\">\n",
              "  <thead>\n",
              "    <tr style=\"text-align: right;\">\n",
              "      <th></th>\n",
              "      <th>sName</th>\n",
              "      <th>GPA</th>\n",
              "    </tr>\n",
              "  </thead>\n",
              "  <tbody>\n",
              "    <tr>\n",
              "      <th>0</th>\n",
              "      <td>Amy</td>\n",
              "      <td>3.9</td>\n",
              "    </tr>\n",
              "    <tr>\n",
              "      <th>1</th>\n",
              "      <td>Doris</td>\n",
              "      <td>3.9</td>\n",
              "    </tr>\n",
              "    <tr>\n",
              "      <th>2</th>\n",
              "      <td>Irene</td>\n",
              "      <td>3.9</td>\n",
              "    </tr>\n",
              "    <tr>\n",
              "      <th>3</th>\n",
              "      <td>Amy</td>\n",
              "      <td>3.9</td>\n",
              "    </tr>\n",
              "  </tbody>\n",
              "</table>\n",
              "</div>"
            ]
          },
          "metadata": {}
        }
      ],
      "execution_count": 15,
      "metadata": {
        "collapsed": false,
        "outputHidden": false,
        "inputHidden": false
      }
    },
    {
      "cell_type": "markdown",
      "source": [
        "Writing a similar query with a join instead of a subquery is fundamentally flawwed. Because it returns each student for which there is another student with a lower GPA. "
      ],
      "metadata": {}
    },
    {
      "cell_type": "code",
      "source": [
        "df = pd.read_sql_query(\"\"\"\n",
        "    SELECT DISTINCT S1.sName, S1.GPA\n",
        "    FROM Student S1, Student S2\n",
        "    WHERE S1.GPA > S2.GPA\n",
        "\"\"\", conn)\n",
        "df"
      ],
      "outputs": [
        {
          "output_type": "execute_result",
          "execution_count": 17,
          "data": {
            "text/plain": [
              "   sName  GPA\n",
              "0    Amy  3.9\n",
              "1    Bob  3.6\n",
              "2  Craig  3.5\n",
              "3  Doris  3.9\n",
              "4    Fay  3.8\n",
              "5   Gary  3.4\n",
              "6  Helen  3.7\n",
              "7  Irene  3.9\n",
              "8  Craig  3.4"
            ],
            "text/html": [
              "<div>\n",
              "<style scoped>\n",
              "    .dataframe tbody tr th:only-of-type {\n",
              "        vertical-align: middle;\n",
              "    }\n",
              "\n",
              "    .dataframe tbody tr th {\n",
              "        vertical-align: top;\n",
              "    }\n",
              "\n",
              "    .dataframe thead th {\n",
              "        text-align: right;\n",
              "    }\n",
              "</style>\n",
              "<table border=\"1\" class=\"dataframe\">\n",
              "  <thead>\n",
              "    <tr style=\"text-align: right;\">\n",
              "      <th></th>\n",
              "      <th>sName</th>\n",
              "      <th>GPA</th>\n",
              "    </tr>\n",
              "  </thead>\n",
              "  <tbody>\n",
              "    <tr>\n",
              "      <th>0</th>\n",
              "      <td>Amy</td>\n",
              "      <td>3.9</td>\n",
              "    </tr>\n",
              "    <tr>\n",
              "      <th>1</th>\n",
              "      <td>Bob</td>\n",
              "      <td>3.6</td>\n",
              "    </tr>\n",
              "    <tr>\n",
              "      <th>2</th>\n",
              "      <td>Craig</td>\n",
              "      <td>3.5</td>\n",
              "    </tr>\n",
              "    <tr>\n",
              "      <th>3</th>\n",
              "      <td>Doris</td>\n",
              "      <td>3.9</td>\n",
              "    </tr>\n",
              "    <tr>\n",
              "      <th>4</th>\n",
              "      <td>Fay</td>\n",
              "      <td>3.8</td>\n",
              "    </tr>\n",
              "    <tr>\n",
              "      <th>5</th>\n",
              "      <td>Gary</td>\n",
              "      <td>3.4</td>\n",
              "    </tr>\n",
              "    <tr>\n",
              "      <th>6</th>\n",
              "      <td>Helen</td>\n",
              "      <td>3.7</td>\n",
              "    </tr>\n",
              "    <tr>\n",
              "      <th>7</th>\n",
              "      <td>Irene</td>\n",
              "      <td>3.9</td>\n",
              "    </tr>\n",
              "    <tr>\n",
              "      <th>8</th>\n",
              "      <td>Craig</td>\n",
              "      <td>3.4</td>\n",
              "    </tr>\n",
              "  </tbody>\n",
              "</table>\n",
              "</div>"
            ]
          },
          "metadata": {}
        }
      ],
      "execution_count": 17,
      "metadata": {
        "collapsed": false,
        "outputHidden": false,
        "inputHidden": false
      }
    },
    {
      "cell_type": "markdown",
      "source": [
        "Looking for students where there exists some other student whole high school is smaller than the student we returned."
      ],
      "metadata": {}
    },
    {
      "cell_type": "code",
      "source": [
        "df = pd.read_sql_query(\"\"\"\n",
        "    SELECT sID, sName, sizeHS\n",
        "    FROM Student S1\n",
        "    WHERE EXISTS \n",
        "        (SELECT * FROM STUDENT S2\n",
        "        WHERE S2.sizeHS < S1.sizeHS)\n",
        "\"\"\", conn)\n",
        "df"
      ],
      "outputs": [
        {
          "output_type": "execute_result",
          "execution_count": 31,
          "data": {
            "text/plain": [
              "    sID   sName  sizeHS\n",
              "0   123     Amy    1000\n",
              "1   234     Bob    1500\n",
              "2   345   Craig     500\n",
              "3   456   Doris    1000\n",
              "4   567  Edward    2000\n",
              "5   789    Gary     800\n",
              "6   987   Helen     800\n",
              "7   876   Irene     400\n",
              "8   765     Jay    1500\n",
              "9   654     Amy    1000\n",
              "10  543   Craig    2000"
            ],
            "text/html": [
              "<div>\n",
              "<style scoped>\n",
              "    .dataframe tbody tr th:only-of-type {\n",
              "        vertical-align: middle;\n",
              "    }\n",
              "\n",
              "    .dataframe tbody tr th {\n",
              "        vertical-align: top;\n",
              "    }\n",
              "\n",
              "    .dataframe thead th {\n",
              "        text-align: right;\n",
              "    }\n",
              "</style>\n",
              "<table border=\"1\" class=\"dataframe\">\n",
              "  <thead>\n",
              "    <tr style=\"text-align: right;\">\n",
              "      <th></th>\n",
              "      <th>sID</th>\n",
              "      <th>sName</th>\n",
              "      <th>sizeHS</th>\n",
              "    </tr>\n",
              "  </thead>\n",
              "  <tbody>\n",
              "    <tr>\n",
              "      <th>0</th>\n",
              "      <td>123</td>\n",
              "      <td>Amy</td>\n",
              "      <td>1000</td>\n",
              "    </tr>\n",
              "    <tr>\n",
              "      <th>1</th>\n",
              "      <td>234</td>\n",
              "      <td>Bob</td>\n",
              "      <td>1500</td>\n",
              "    </tr>\n",
              "    <tr>\n",
              "      <th>2</th>\n",
              "      <td>345</td>\n",
              "      <td>Craig</td>\n",
              "      <td>500</td>\n",
              "    </tr>\n",
              "    <tr>\n",
              "      <th>3</th>\n",
              "      <td>456</td>\n",
              "      <td>Doris</td>\n",
              "      <td>1000</td>\n",
              "    </tr>\n",
              "    <tr>\n",
              "      <th>4</th>\n",
              "      <td>567</td>\n",
              "      <td>Edward</td>\n",
              "      <td>2000</td>\n",
              "    </tr>\n",
              "    <tr>\n",
              "      <th>5</th>\n",
              "      <td>789</td>\n",
              "      <td>Gary</td>\n",
              "      <td>800</td>\n",
              "    </tr>\n",
              "    <tr>\n",
              "      <th>6</th>\n",
              "      <td>987</td>\n",
              "      <td>Helen</td>\n",
              "      <td>800</td>\n",
              "    </tr>\n",
              "    <tr>\n",
              "      <th>7</th>\n",
              "      <td>876</td>\n",
              "      <td>Irene</td>\n",
              "      <td>400</td>\n",
              "    </tr>\n",
              "    <tr>\n",
              "      <th>8</th>\n",
              "      <td>765</td>\n",
              "      <td>Jay</td>\n",
              "      <td>1500</td>\n",
              "    </tr>\n",
              "    <tr>\n",
              "      <th>9</th>\n",
              "      <td>654</td>\n",
              "      <td>Amy</td>\n",
              "      <td>1000</td>\n",
              "    </tr>\n",
              "    <tr>\n",
              "      <th>10</th>\n",
              "      <td>543</td>\n",
              "      <td>Craig</td>\n",
              "      <td>2000</td>\n",
              "    </tr>\n",
              "  </tbody>\n",
              "</table>\n",
              "</div>"
            ]
          },
          "metadata": {}
        }
      ],
      "execution_count": 31,
      "metadata": {
        "collapsed": false,
        "outputHidden": false,
        "inputHidden": false
      }
    },
    {
      "cell_type": "code",
      "source": [],
      "outputs": [],
      "execution_count": null,
      "metadata": {
        "collapsed": false,
        "outputHidden": false,
        "inputHidden": false
      }
    }
  ],
  "metadata": {
    "kernel_info": {
      "name": "python3"
    },
    "language_info": {
      "name": "python",
      "version": "3.7.1",
      "mimetype": "text/x-python",
      "codemirror_mode": {
        "name": "ipython",
        "version": 3
      },
      "pygments_lexer": "ipython3",
      "nbconvert_exporter": "python",
      "file_extension": ".py"
    },
    "kernelspec": {
      "name": "python3",
      "language": "python",
      "display_name": "Python 3"
    },
    "nteract": {
      "version": "0.12.3"
    }
  },
  "nbformat": 4,
  "nbformat_minor": 4
}