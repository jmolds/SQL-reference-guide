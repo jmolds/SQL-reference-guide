{
  "cells": [
    {
      "cell_type": "markdown",
      "source": [
        "# SQL with Python Reference Guide 7\n",
        "# NULL Values\n",
        "## (Justin M. Olds)\n",
        "Based on Stanford SQL course: https://lagunita.stanford.edu/courses/DB/SQL/SelfPaced/info\n",
        "\n",
        "---\n",
        "**NULL values overview** \n",
        "\nA special values that specifies that an entity is undefined or unknown."
      ],
      "metadata": {}
    },
    {
      "cell_type": "code",
      "source": [
        "import sqlite3\n",
        "import pandas as pd\n",
        "\n",
        "conn = sqlite3.connect(\"class.db\")\n",
        "c = conn.cursor()"
      ],
      "outputs": [],
      "execution_count": 1,
      "metadata": {
        "collapsed": false,
        "outputHidden": false,
        "inputHidden": false
      }
    },
    {
      "cell_type": "markdown",
      "source": [
        "---\n",
        "### Tables and Insert code below (same as before--college admissions data)"
      ],
      "metadata": {}
    },
    {
      "cell_type": "code",
      "source": [
        "c.execute('DROP TABLE IF EXISTS College')\n",
        "c.execute('DROP TABLE IF EXISTS Student') \n",
        "c.execute('DROP TABLE IF EXISTS Apply') \n",
        "\n",
        "c.execute('CREATE TABLE College(cName TEXT, state TEXT, enrollment INT)')\n",
        "c.execute('CREATE TABLE Student(sID INT, sName TEXT, GPA REAL, sizeHS INT)')\n",
        "c.execute('CREATE TABLE Apply(sID INT, cName TEXT, major TEXT, decision TEXT)')\n",
        "conn.commit()"
      ],
      "outputs": [],
      "execution_count": 4,
      "metadata": {
        "collapsed": false,
        "outputHidden": false,
        "inputHidden": false
      }
    },
    {
      "cell_type": "code",
      "source": [
        "c.execute('DELETE FROM Student')\n",
        "c.execute('DELETE FROM College')\n",
        "c.execute('DELETE FROM Apply')\n",
        "\n",
        "c.execute(\"INSERT INTO Student VALUES (123, 'Amy', 3.9, 1000)\")\n",
        "c.execute(\"INSERT INTO Student values (234, 'Bob', 3.6, 1500)\")\n",
        "c.execute(\"INSERT INTO Student values (345, 'Craig', 3.5, 500)\")\n",
        "c.execute(\"INSERT INTO Student values (456, 'Doris', 3.9, 1000)\")\n",
        "c.execute(\"INSERT INTO Student values (567, 'Edward', 2.9, 2000)\")\n",
        "c.execute(\"INSERT INTO Student values (678, 'Fay', 3.8, 200)\")\n",
        "c.execute(\"INSERT INTO Student values (789, 'Gary', 3.4, 800)\")\n",
        "c.execute(\"INSERT INTO Student values (987, 'Helen', 3.7, 800)\")\n",
        "c.execute(\"INSERT INTO Student values (876, 'Irene', 3.9, 400)\")\n",
        "c.execute(\"INSERT INTO Student values (765, 'Jay', 2.9, 1500)\")\n",
        "c.execute(\"INSERT INTO Student values (654, 'Amy', 3.9, 1000)\")\n",
        "c.execute(\"INSERT INTO Student values (543, 'Craig', 3.4, 2000)\")\n",
        "\n",
        "c.execute(\"INSERT INTO College values ('Stanford', 'CA', 15000)\")\n",
        "c.execute(\"INSERT INTO College values ('Berkeley', 'CA', 36000)\")\n",
        "c.execute(\"INSERT INTO College values ('MIT', 'MA', 10000)\")\n",
        "c.execute(\"INSERT INTO College values ('Cornell', 'NY', 21000)\")\n",
        "\n",
        "c.execute(\"INSERT INTO Apply values (123, 'Stanford', 'CS', 'Y')\")\n",
        "c.execute(\"INSERT INTO Apply values (123, 'Stanford', 'EE', 'N')\")\n",
        "c.execute(\"INSERT INTO Apply values (123, 'Berkeley', 'CS', 'Y')\")\n",
        "c.execute(\"INSERT INTO Apply values (123, 'Cornell', 'EE', 'Y')\")\n",
        "c.execute(\"INSERT INTO Apply values (234, 'Berkeley', 'biology', 'N')\")\n",
        "c.execute(\"INSERT INTO Apply values (345, 'MIT', 'bioengineering', 'Y')\")\n",
        "c.execute(\"INSERT INTO Apply values (345, 'Cornell', 'bioengineering', 'N')\")\n",
        "c.execute(\"INSERT INTO Apply values (345, 'Cornell', 'CS', 'Y')\")\n",
        "c.execute(\"INSERT INTO Apply values (345, 'Cornell', 'EE', 'N')\")\n",
        "c.execute(\"INSERT INTO Apply values (678, 'Stanford', 'history', 'Y')\")\n",
        "c.execute(\"INSERT INTO Apply values (987, 'Stanford', 'CS', 'Y')\")\n",
        "c.execute(\"INSERT INTO Apply values (987, 'Berkeley', 'CS', 'Y')\")\n",
        "c.execute(\"INSERT INTO Apply values (876, 'Stanford', 'CS', 'N')\")\n",
        "c.execute(\"INSERT INTO Apply values (876, 'MIT', 'biology', 'Y')\")\n",
        "c.execute(\"INSERT INTO Apply values (876, 'MIT', 'marine biology', 'N')\")\n",
        "c.execute(\"INSERT INTO Apply values (765, 'Stanford', 'history', 'Y')\")\n",
        "c.execute(\"INSERT INTO Apply values (765, 'Cornell', 'history', 'N')\")\n",
        "c.execute(\"INSERT INTO Apply values (765, 'Cornell', 'psychology', 'Y')\")\n",
        "c.execute(\"INSERT INTO Apply values (543, 'MIT', 'CS', 'N')\")\n",
        "conn.commit()\n"
      ],
      "outputs": [],
      "execution_count": 5,
      "metadata": {
        "collapsed": false,
        "outputHidden": false,
        "inputHidden": false
      }
    },
    {
      "cell_type": "markdown",
      "source": [
        "---\n",
        "### Add some students to the Student table with null values for GPA\n",
        "### (Kevin and Lori)"
      ],
      "metadata": {}
    },
    {
      "cell_type": "code",
      "source": [
        "c.execute(\"INSERT INTO Student values (432, 'Kevin', NULL, 1500)\")\n",
        "c.execute(\"INSERT INTO Student values (321, 'Lori', NULL, 2500)\")"
      ],
      "outputs": [
        {
          "output_type": "execute_result",
          "execution_count": 6,
          "data": {
            "text/plain": [
              "<sqlite3.Cursor at 0x19dd519adc0>"
            ]
          },
          "metadata": {}
        }
      ],
      "execution_count": 6,
      "metadata": {
        "collapsed": false,
        "outputHidden": true,
        "inputHidden": false
      }
    },
    {
      "cell_type": "markdown",
      "source": [
        "---\n",
        "### Start with a simple query that selects students with GPAs greater than 3.5\n",
        "Kevin and Lori are excluded from the results. "
      ],
      "metadata": {}
    },
    {
      "cell_type": "code",
      "source": [
        "df = pd.read_sql_query(\"\"\"\n",
        "    SELECT sID, sName, GPA\n",
        "    FROM Student\n",
        "    WHERE GPA > 3.5\n",
        "\"\"\", conn);df"
      ],
      "outputs": [
        {
          "output_type": "execute_result",
          "execution_count": 7,
          "data": {
            "text/plain": [
              "   sID  sName  GPA\n",
              "0  123    Amy  3.9\n",
              "1  234    Bob  3.6\n",
              "2  456  Doris  3.9\n",
              "3  678    Fay  3.8\n",
              "4  987  Helen  3.7\n",
              "5  876  Irene  3.9\n",
              "6  654    Amy  3.9"
            ],
            "text/html": [
              "<div>\n",
              "<style scoped>\n",
              "    .dataframe tbody tr th:only-of-type {\n",
              "        vertical-align: middle;\n",
              "    }\n",
              "\n",
              "    .dataframe tbody tr th {\n",
              "        vertical-align: top;\n",
              "    }\n",
              "\n",
              "    .dataframe thead th {\n",
              "        text-align: right;\n",
              "    }\n",
              "</style>\n",
              "<table border=\"1\" class=\"dataframe\">\n",
              "  <thead>\n",
              "    <tr style=\"text-align: right;\">\n",
              "      <th></th>\n",
              "      <th>sID</th>\n",
              "      <th>sName</th>\n",
              "      <th>GPA</th>\n",
              "    </tr>\n",
              "  </thead>\n",
              "  <tbody>\n",
              "    <tr>\n",
              "      <th>0</th>\n",
              "      <td>123</td>\n",
              "      <td>Amy</td>\n",
              "      <td>3.9</td>\n",
              "    </tr>\n",
              "    <tr>\n",
              "      <th>1</th>\n",
              "      <td>234</td>\n",
              "      <td>Bob</td>\n",
              "      <td>3.6</td>\n",
              "    </tr>\n",
              "    <tr>\n",
              "      <th>2</th>\n",
              "      <td>456</td>\n",
              "      <td>Doris</td>\n",
              "      <td>3.9</td>\n",
              "    </tr>\n",
              "    <tr>\n",
              "      <th>3</th>\n",
              "      <td>678</td>\n",
              "      <td>Fay</td>\n",
              "      <td>3.8</td>\n",
              "    </tr>\n",
              "    <tr>\n",
              "      <th>4</th>\n",
              "      <td>987</td>\n",
              "      <td>Helen</td>\n",
              "      <td>3.7</td>\n",
              "    </tr>\n",
              "    <tr>\n",
              "      <th>5</th>\n",
              "      <td>876</td>\n",
              "      <td>Irene</td>\n",
              "      <td>3.9</td>\n",
              "    </tr>\n",
              "    <tr>\n",
              "      <th>6</th>\n",
              "      <td>654</td>\n",
              "      <td>Amy</td>\n",
              "      <td>3.9</td>\n",
              "    </tr>\n",
              "  </tbody>\n",
              "</table>\n",
              "</div>"
            ]
          },
          "metadata": {}
        }
      ],
      "execution_count": 7,
      "metadata": {
        "collapsed": false,
        "outputHidden": false,
        "inputHidden": false
      }
    },
    {
      "cell_type": "markdown",
      "source": [
        "### Satisfying one WHERE clause normally and not the other due to a NULL value will return the row.\n",
        "Kevin is returned in the output below."
      ],
      "metadata": {}
    },
    {
      "cell_type": "code",
      "source": [
        "df = pd.read_sql_query(\"\"\"\n",
        "    SELECT sID, sName, GPA, sizeHS\n",
        "    FROM Student\n",
        "    WHERE GPA > 3.5 OR sizeHS < 1600\n",
        "\"\"\", conn);df"
      ],
      "outputs": [
        {
          "output_type": "execute_result",
          "execution_count": 8,
          "data": {
            "text/plain": [
              "    sID  sName  GPA  sizeHS\n",
              "0   123    Amy  3.9    1000\n",
              "1   234    Bob  3.6    1500\n",
              "2   345  Craig  3.5     500\n",
              "3   456  Doris  3.9    1000\n",
              "4   678    Fay  3.8     200\n",
              "5   789   Gary  3.4     800\n",
              "6   987  Helen  3.7     800\n",
              "7   876  Irene  3.9     400\n",
              "8   765    Jay  2.9    1500\n",
              "9   654    Amy  3.9    1000\n",
              "10  432  Kevin  NaN    1500"
            ],
            "text/html": [
              "<div>\n",
              "<style scoped>\n",
              "    .dataframe tbody tr th:only-of-type {\n",
              "        vertical-align: middle;\n",
              "    }\n",
              "\n",
              "    .dataframe tbody tr th {\n",
              "        vertical-align: top;\n",
              "    }\n",
              "\n",
              "    .dataframe thead th {\n",
              "        text-align: right;\n",
              "    }\n",
              "</style>\n",
              "<table border=\"1\" class=\"dataframe\">\n",
              "  <thead>\n",
              "    <tr style=\"text-align: right;\">\n",
              "      <th></th>\n",
              "      <th>sID</th>\n",
              "      <th>sName</th>\n",
              "      <th>GPA</th>\n",
              "      <th>sizeHS</th>\n",
              "    </tr>\n",
              "  </thead>\n",
              "  <tbody>\n",
              "    <tr>\n",
              "      <th>0</th>\n",
              "      <td>123</td>\n",
              "      <td>Amy</td>\n",
              "      <td>3.9</td>\n",
              "      <td>1000</td>\n",
              "    </tr>\n",
              "    <tr>\n",
              "      <th>1</th>\n",
              "      <td>234</td>\n",
              "      <td>Bob</td>\n",
              "      <td>3.6</td>\n",
              "      <td>1500</td>\n",
              "    </tr>\n",
              "    <tr>\n",
              "      <th>2</th>\n",
              "      <td>345</td>\n",
              "      <td>Craig</td>\n",
              "      <td>3.5</td>\n",
              "      <td>500</td>\n",
              "    </tr>\n",
              "    <tr>\n",
              "      <th>3</th>\n",
              "      <td>456</td>\n",
              "      <td>Doris</td>\n",
              "      <td>3.9</td>\n",
              "      <td>1000</td>\n",
              "    </tr>\n",
              "    <tr>\n",
              "      <th>4</th>\n",
              "      <td>678</td>\n",
              "      <td>Fay</td>\n",
              "      <td>3.8</td>\n",
              "      <td>200</td>\n",
              "    </tr>\n",
              "    <tr>\n",
              "      <th>5</th>\n",
              "      <td>789</td>\n",
              "      <td>Gary</td>\n",
              "      <td>3.4</td>\n",
              "      <td>800</td>\n",
              "    </tr>\n",
              "    <tr>\n",
              "      <th>6</th>\n",
              "      <td>987</td>\n",
              "      <td>Helen</td>\n",
              "      <td>3.7</td>\n",
              "      <td>800</td>\n",
              "    </tr>\n",
              "    <tr>\n",
              "      <th>7</th>\n",
              "      <td>876</td>\n",
              "      <td>Irene</td>\n",
              "      <td>3.9</td>\n",
              "      <td>400</td>\n",
              "    </tr>\n",
              "    <tr>\n",
              "      <th>8</th>\n",
              "      <td>765</td>\n",
              "      <td>Jay</td>\n",
              "      <td>2.9</td>\n",
              "      <td>1500</td>\n",
              "    </tr>\n",
              "    <tr>\n",
              "      <th>9</th>\n",
              "      <td>654</td>\n",
              "      <td>Amy</td>\n",
              "      <td>3.9</td>\n",
              "      <td>1000</td>\n",
              "    </tr>\n",
              "    <tr>\n",
              "      <th>10</th>\n",
              "      <td>432</td>\n",
              "      <td>Kevin</td>\n",
              "      <td>NaN</td>\n",
              "      <td>1500</td>\n",
              "    </tr>\n",
              "  </tbody>\n",
              "</table>\n",
              "</div>"
            ]
          },
          "metadata": {}
        }
      ],
      "execution_count": 8,
      "metadata": {
        "collapsed": false,
        "outputHidden": false,
        "inputHidden": false
      }
    },
    {
      "cell_type": "markdown",
      "source": [
        "### NULL values and aggregate functions\n",
        "There are many subtleties of NULL values within aggregate functions and subqueries. **Be careful**. \n",
        "\nFor example, if COUNT DISTINCT is used NULL values will not be counted. However, if a SELECT statement asks for DISTINCT items NULL values can be returned as one of the distinct items. See Below:"
      ],
      "metadata": {}
    },
    {
      "cell_type": "code",
      "source": [
        "df = pd.read_sql_query(\"\"\"\n",
        "    SELECT COUNT(DISTINCT GPA)\n",
        "    FROM Student\n",
        "\"\"\", conn);df"
      ],
      "outputs": [
        {
          "output_type": "execute_result",
          "execution_count": 11,
          "data": {
            "text/plain": [
              "   COUNT(DISTINCT GPA)\n",
              "0                    7"
            ],
            "text/html": [
              "<div>\n",
              "<style scoped>\n",
              "    .dataframe tbody tr th:only-of-type {\n",
              "        vertical-align: middle;\n",
              "    }\n",
              "\n",
              "    .dataframe tbody tr th {\n",
              "        vertical-align: top;\n",
              "    }\n",
              "\n",
              "    .dataframe thead th {\n",
              "        text-align: right;\n",
              "    }\n",
              "</style>\n",
              "<table border=\"1\" class=\"dataframe\">\n",
              "  <thead>\n",
              "    <tr style=\"text-align: right;\">\n",
              "      <th></th>\n",
              "      <th>COUNT(DISTINCT GPA)</th>\n",
              "    </tr>\n",
              "  </thead>\n",
              "  <tbody>\n",
              "    <tr>\n",
              "      <th>0</th>\n",
              "      <td>7</td>\n",
              "    </tr>\n",
              "  </tbody>\n",
              "</table>\n",
              "</div>"
            ]
          },
          "metadata": {}
        }
      ],
      "execution_count": 11,
      "metadata": {
        "collapsed": false,
        "outputHidden": false,
        "inputHidden": false
      }
    },
    {
      "cell_type": "code",
      "source": [
        "df = pd.read_sql_query(\"\"\"\n",
        "    SELECT DISTINCT GPA\n",
        "    FROM Student\n",
        "\"\"\", conn);df"
      ],
      "outputs": [
        {
          "output_type": "execute_result",
          "execution_count": 12,
          "data": {
            "text/plain": [
              "   GPA\n",
              "0  3.9\n",
              "1  3.6\n",
              "2  3.5\n",
              "3  2.9\n",
              "4  3.8\n",
              "5  3.4\n",
              "6  3.7\n",
              "7  NaN"
            ],
            "text/html": [
              "<div>\n",
              "<style scoped>\n",
              "    .dataframe tbody tr th:only-of-type {\n",
              "        vertical-align: middle;\n",
              "    }\n",
              "\n",
              "    .dataframe tbody tr th {\n",
              "        vertical-align: top;\n",
              "    }\n",
              "\n",
              "    .dataframe thead th {\n",
              "        text-align: right;\n",
              "    }\n",
              "</style>\n",
              "<table border=\"1\" class=\"dataframe\">\n",
              "  <thead>\n",
              "    <tr style=\"text-align: right;\">\n",
              "      <th></th>\n",
              "      <th>GPA</th>\n",
              "    </tr>\n",
              "  </thead>\n",
              "  <tbody>\n",
              "    <tr>\n",
              "      <th>0</th>\n",
              "      <td>3.9</td>\n",
              "    </tr>\n",
              "    <tr>\n",
              "      <th>1</th>\n",
              "      <td>3.6</td>\n",
              "    </tr>\n",
              "    <tr>\n",
              "      <th>2</th>\n",
              "      <td>3.5</td>\n",
              "    </tr>\n",
              "    <tr>\n",
              "      <th>3</th>\n",
              "      <td>2.9</td>\n",
              "    </tr>\n",
              "    <tr>\n",
              "      <th>4</th>\n",
              "      <td>3.8</td>\n",
              "    </tr>\n",
              "    <tr>\n",
              "      <th>5</th>\n",
              "      <td>3.4</td>\n",
              "    </tr>\n",
              "    <tr>\n",
              "      <th>6</th>\n",
              "      <td>3.7</td>\n",
              "    </tr>\n",
              "    <tr>\n",
              "      <th>7</th>\n",
              "      <td>NaN</td>\n",
              "    </tr>\n",
              "  </tbody>\n",
              "</table>\n",
              "</div>"
            ]
          },
          "metadata": {}
        }
      ],
      "execution_count": 12,
      "metadata": {
        "collapsed": false,
        "outputHidden": false,
        "inputHidden": false
      }
    }
  ],
  "metadata": {
    "kernel_info": {
      "name": "python3"
    },
    "language_info": {
      "name": "python",
      "version": "3.7.1",
      "mimetype": "text/x-python",
      "codemirror_mode": {
        "name": "ipython",
        "version": 3
      },
      "pygments_lexer": "ipython3",
      "nbconvert_exporter": "python",
      "file_extension": ".py"
    },
    "kernelspec": {
      "name": "python3",
      "language": "python",
      "display_name": "Python 3"
    },
    "nteract": {
      "version": "0.12.3"
    }
  },
  "nbformat": 4,
  "nbformat_minor": 4
}