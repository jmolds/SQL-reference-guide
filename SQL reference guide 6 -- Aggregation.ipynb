{
  "cells": [
    {
      "cell_type": "markdown",
      "source": [
        "# SQL with Python Reference Guide 6\n",
        "# Aggregation\n",
        "## (Justin M. Olds)\n",
        "Based on Stanford SQL course: https://lagunita.stanford.edu/courses/DB/SQL/SelfPaced/info\n",
        "\n",
        "---\n",
        "**Aggregation overview** \n",
        "\n",
        "These functions appear in the SELECT clause and perform different operations across the selected rows. Such as, **MIN, MAX, SUM, AVG, COUNT**\n",
        "\n",
        "These aggregation functions are supplemented within SELECT statements with new clauses: \"GROUP BY\" and \"HAVING\".\n",
        "* **GROUP BY** allows results to be partitioned into separate groups.\n",
        "* **HAVING** allows for queries to test based on filter conditions. \n"
      ],
      "metadata": {}
    },
    {
      "cell_type": "code",
      "source": [
        "import sqlite3\n",
        "import pandas as pd\n",
        "\n",
        "conn = sqlite3.connect(\"class.db\")\n",
        "c = conn.cursor()"
      ],
      "outputs": [],
      "execution_count": 3,
      "metadata": {
        "collapsed": false,
        "outputHidden": false,
        "inputHidden": false
      }
    },
    {
      "cell_type": "markdown",
      "source": [
        "---\n",
        "### Tables and Insert code below (same as before--college admissions data)"
      ],
      "metadata": {}
    },
    {
      "cell_type": "code",
      "source": [
        "c.execute('DROP TABLE IF EXISTS College')\n",
        "c.execute('DROP TABLE IF EXISTS Student') \n",
        "c.execute('DROP TABLE IF EXISTS Apply') \n",
        "\n",
        "c.execute('CREATE TABLE College(cName TEXT, state TEXT, enrollment INT)')\n",
        "c.execute('CREATE TABLE Student(sID INT, sName TEXT, GPA REAL, sizeHS INT)')\n",
        "c.execute('CREATE TABLE Apply(sID INT, cName TEXT, major TEXT, decision TEXT)')\n",
        "conn.commit()"
      ],
      "outputs": [],
      "execution_count": 4,
      "metadata": {
        "collapsed": false,
        "outputHidden": false,
        "inputHidden": true
      }
    },
    {
      "cell_type": "code",
      "source": [
        "c.execute('DELETE FROM Student')\n",
        "c.execute('DELETE FROM College')\n",
        "c.execute('DELETE FROM Apply')\n",
        "\n",
        "c.execute(\"INSERT INTO Student VALUES (123, 'Amy', 3.9, 1000)\")\n",
        "c.execute(\"INSERT INTO Student values (234, 'Bob', 3.6, 1500)\")\n",
        "c.execute(\"INSERT INTO Student values (345, 'Craig', 3.5, 500)\")\n",
        "c.execute(\"INSERT INTO Student values (456, 'Doris', 3.9, 1000)\")\n",
        "c.execute(\"INSERT INTO Student values (567, 'Edward', 2.9, 2000)\")\n",
        "c.execute(\"INSERT INTO Student values (678, 'Fay', 3.8, 200)\")\n",
        "c.execute(\"INSERT INTO Student values (789, 'Gary', 3.4, 800)\")\n",
        "c.execute(\"INSERT INTO Student values (987, 'Helen', 3.7, 800)\")\n",
        "c.execute(\"INSERT INTO Student values (876, 'Irene', 3.9, 400)\")\n",
        "c.execute(\"INSERT INTO Student values (765, 'Jay', 2.9, 1500)\")\n",
        "c.execute(\"INSERT INTO Student values (654, 'Amy', 3.9, 1000)\")\n",
        "c.execute(\"INSERT INTO Student values (543, 'Craig', 3.4, 2000)\")\n",
        "\n",
        "c.execute(\"INSERT INTO College values ('Stanford', 'CA', 15000)\")\n",
        "c.execute(\"INSERT INTO College values ('Berkeley', 'CA', 36000)\")\n",
        "c.execute(\"INSERT INTO College values ('MIT', 'MA', 10000)\")\n",
        "c.execute(\"INSERT INTO College values ('Cornell', 'NY', 21000)\")\n",
        "\n",
        "c.execute(\"INSERT INTO Apply values (123, 'Stanford', 'CS', 'Y')\")\n",
        "c.execute(\"INSERT INTO Apply values (123, 'Stanford', 'EE', 'N')\")\n",
        "c.execute(\"INSERT INTO Apply values (123, 'Berkeley', 'CS', 'Y')\")\n",
        "c.execute(\"INSERT INTO Apply values (123, 'Cornell', 'EE', 'Y')\")\n",
        "c.execute(\"INSERT INTO Apply values (234, 'Berkeley', 'biology', 'N')\")\n",
        "c.execute(\"INSERT INTO Apply values (345, 'MIT', 'bioengineering', 'Y')\")\n",
        "c.execute(\"INSERT INTO Apply values (345, 'Cornell', 'bioengineering', 'N')\")\n",
        "c.execute(\"INSERT INTO Apply values (345, 'Cornell', 'CS', 'Y')\")\n",
        "c.execute(\"INSERT INTO Apply values (345, 'Cornell', 'EE', 'N')\")\n",
        "c.execute(\"INSERT INTO Apply values (678, 'Stanford', 'history', 'Y')\")\n",
        "c.execute(\"INSERT INTO Apply values (987, 'Stanford', 'CS', 'Y')\")\n",
        "c.execute(\"INSERT INTO Apply values (987, 'Berkeley', 'CS', 'Y')\")\n",
        "c.execute(\"INSERT INTO Apply values (876, 'Stanford', 'CS', 'N')\")\n",
        "c.execute(\"INSERT INTO Apply values (876, 'MIT', 'biology', 'Y')\")\n",
        "c.execute(\"INSERT INTO Apply values (876, 'MIT', 'marine biology', 'N')\")\n",
        "c.execute(\"INSERT INTO Apply values (765, 'Stanford', 'history', 'Y')\")\n",
        "c.execute(\"INSERT INTO Apply values (765, 'Cornell', 'history', 'N')\")\n",
        "c.execute(\"INSERT INTO Apply values (765, 'Cornell', 'psychology', 'Y')\")\n",
        "c.execute(\"INSERT INTO Apply values (543, 'MIT', 'CS', 'N')\")\n",
        "conn.commit()\n"
      ],
      "outputs": [],
      "execution_count": 5,
      "metadata": {
        "collapsed": false,
        "outputHidden": false,
        "inputHidden": true
      }
    },
    {
      "cell_type": "markdown",
      "source": [
        "---\n",
        "### AVG (Average)\n",
        "\n",
        "Start with simple query to compute the average GPA of all students within the Student table. \n"
      ],
      "metadata": {}
    },
    {
      "cell_type": "code",
      "source": [
        "df = pd.read_sql_query(\"\"\"\n",
        "    SELECT AVG(GPA)\n",
        "    FROM Student\n",
        "\"\"\", conn);df"
      ],
      "outputs": [
        {
          "output_type": "execute_result",
          "execution_count": 6,
          "data": {
            "text/plain": [
              "   AVG(GPA)\n",
              "0  3.566667"
            ],
            "text/html": [
              "<div>\n",
              "<style scoped>\n",
              "    .dataframe tbody tr th:only-of-type {\n",
              "        vertical-align: middle;\n",
              "    }\n",
              "\n",
              "    .dataframe tbody tr th {\n",
              "        vertical-align: top;\n",
              "    }\n",
              "\n",
              "    .dataframe thead th {\n",
              "        text-align: right;\n",
              "    }\n",
              "</style>\n",
              "<table border=\"1\" class=\"dataframe\">\n",
              "  <thead>\n",
              "    <tr style=\"text-align: right;\">\n",
              "      <th></th>\n",
              "      <th>AVG(GPA)</th>\n",
              "    </tr>\n",
              "  </thead>\n",
              "  <tbody>\n",
              "    <tr>\n",
              "      <th>0</th>\n",
              "      <td>3.566667</td>\n",
              "    </tr>\n",
              "  </tbody>\n",
              "</table>\n",
              "</div>"
            ]
          },
          "metadata": {}
        }
      ],
      "execution_count": 6,
      "metadata": {
        "collapsed": false,
        "outputHidden": false,
        "inputHidden": false
      }
    },
    {
      "cell_type": "markdown",
      "source": [
        "### Using AVG with joined tables\n",
        "The query below finds the average GPA of students applying to CS."
      ],
      "metadata": {}
    },
    {
      "cell_type": "code",
      "source": [
        "df = pd.read_sql_query(\"\"\"\n",
        "    SELECT DISTINCT AVG(GPA)\n",
        "    FROM Student, Apply\n",
        "    WHERE Student.sID = Apply.sID AND major = 'CS'\n",
        "\"\"\", conn);df"
      ],
      "outputs": [
        {
          "output_type": "execute_result",
          "execution_count": 8,
          "data": {
            "text/plain": [
              "   AVG(GPA)\n",
              "0  3.714286"
            ],
            "text/html": [
              "<div>\n",
              "<style scoped>\n",
              "    .dataframe tbody tr th:only-of-type {\n",
              "        vertical-align: middle;\n",
              "    }\n",
              "\n",
              "    .dataframe tbody tr th {\n",
              "        vertical-align: top;\n",
              "    }\n",
              "\n",
              "    .dataframe thead th {\n",
              "        text-align: right;\n",
              "    }\n",
              "</style>\n",
              "<table border=\"1\" class=\"dataframe\">\n",
              "  <thead>\n",
              "    <tr style=\"text-align: right;\">\n",
              "      <th></th>\n",
              "      <th>AVG(GPA)</th>\n",
              "    </tr>\n",
              "  </thead>\n",
              "  <tbody>\n",
              "    <tr>\n",
              "      <th>0</th>\n",
              "      <td>3.714286</td>\n",
              "    </tr>\n",
              "  </tbody>\n",
              "</table>\n",
              "</div>"
            ]
          },
          "metadata": {}
        }
      ],
      "execution_count": 8,
      "metadata": {
        "collapsed": false,
        "outputHidden": false,
        "inputHidden": false
      }
    },
    {
      "cell_type": "markdown",
      "source": [
        "**PROBLEM:** This average is computed with some students counted more than once. This can be observed by inspecting all the rows with SELECT *"
      ],
      "metadata": {}
    },
    {
      "cell_type": "code",
      "source": [
        "df = pd.read_sql_query(\"\"\"\n",
        "    SELECT *\n",
        "    FROM Student, Apply \n",
        "    WHERE Student.sID = Apply.sID\n",
        "        AND major = 'CS'\n",
        "\"\"\", conn);df"
      ],
      "outputs": [
        {
          "output_type": "execute_result",
          "execution_count": 9,
          "data": {
            "text/plain": [
              "   sID  sName  GPA  sizeHS  sID     cName major decision\n",
              "0  123    Amy  3.9    1000  123  Stanford    CS        Y\n",
              "1  123    Amy  3.9    1000  123  Berkeley    CS        Y\n",
              "2  345  Craig  3.5     500  345   Cornell    CS        Y\n",
              "3  987  Helen  3.7     800  987  Stanford    CS        Y\n",
              "4  987  Helen  3.7     800  987  Berkeley    CS        Y\n",
              "5  876  Irene  3.9     400  876  Stanford    CS        N\n",
              "6  543  Craig  3.4    2000  543       MIT    CS        N"
            ],
            "text/html": [
              "<div>\n",
              "<style scoped>\n",
              "    .dataframe tbody tr th:only-of-type {\n",
              "        vertical-align: middle;\n",
              "    }\n",
              "\n",
              "    .dataframe tbody tr th {\n",
              "        vertical-align: top;\n",
              "    }\n",
              "\n",
              "    .dataframe thead th {\n",
              "        text-align: right;\n",
              "    }\n",
              "</style>\n",
              "<table border=\"1\" class=\"dataframe\">\n",
              "  <thead>\n",
              "    <tr style=\"text-align: right;\">\n",
              "      <th></th>\n",
              "      <th>sID</th>\n",
              "      <th>sName</th>\n",
              "      <th>GPA</th>\n",
              "      <th>sizeHS</th>\n",
              "      <th>sID</th>\n",
              "      <th>cName</th>\n",
              "      <th>major</th>\n",
              "      <th>decision</th>\n",
              "    </tr>\n",
              "  </thead>\n",
              "  <tbody>\n",
              "    <tr>\n",
              "      <th>0</th>\n",
              "      <td>123</td>\n",
              "      <td>Amy</td>\n",
              "      <td>3.9</td>\n",
              "      <td>1000</td>\n",
              "      <td>123</td>\n",
              "      <td>Stanford</td>\n",
              "      <td>CS</td>\n",
              "      <td>Y</td>\n",
              "    </tr>\n",
              "    <tr>\n",
              "      <th>1</th>\n",
              "      <td>123</td>\n",
              "      <td>Amy</td>\n",
              "      <td>3.9</td>\n",
              "      <td>1000</td>\n",
              "      <td>123</td>\n",
              "      <td>Berkeley</td>\n",
              "      <td>CS</td>\n",
              "      <td>Y</td>\n",
              "    </tr>\n",
              "    <tr>\n",
              "      <th>2</th>\n",
              "      <td>345</td>\n",
              "      <td>Craig</td>\n",
              "      <td>3.5</td>\n",
              "      <td>500</td>\n",
              "      <td>345</td>\n",
              "      <td>Cornell</td>\n",
              "      <td>CS</td>\n",
              "      <td>Y</td>\n",
              "    </tr>\n",
              "    <tr>\n",
              "      <th>3</th>\n",
              "      <td>987</td>\n",
              "      <td>Helen</td>\n",
              "      <td>3.7</td>\n",
              "      <td>800</td>\n",
              "      <td>987</td>\n",
              "      <td>Stanford</td>\n",
              "      <td>CS</td>\n",
              "      <td>Y</td>\n",
              "    </tr>\n",
              "    <tr>\n",
              "      <th>4</th>\n",
              "      <td>987</td>\n",
              "      <td>Helen</td>\n",
              "      <td>3.7</td>\n",
              "      <td>800</td>\n",
              "      <td>987</td>\n",
              "      <td>Berkeley</td>\n",
              "      <td>CS</td>\n",
              "      <td>Y</td>\n",
              "    </tr>\n",
              "    <tr>\n",
              "      <th>5</th>\n",
              "      <td>876</td>\n",
              "      <td>Irene</td>\n",
              "      <td>3.9</td>\n",
              "      <td>400</td>\n",
              "      <td>876</td>\n",
              "      <td>Stanford</td>\n",
              "      <td>CS</td>\n",
              "      <td>N</td>\n",
              "    </tr>\n",
              "    <tr>\n",
              "      <th>6</th>\n",
              "      <td>543</td>\n",
              "      <td>Craig</td>\n",
              "      <td>3.4</td>\n",
              "      <td>2000</td>\n",
              "      <td>543</td>\n",
              "      <td>MIT</td>\n",
              "      <td>CS</td>\n",
              "      <td>N</td>\n",
              "    </tr>\n",
              "  </tbody>\n",
              "</table>\n",
              "</div>"
            ]
          },
          "metadata": {}
        }
      ],
      "execution_count": 9,
      "metadata": {
        "collapsed": false,
        "outputHidden": false,
        "inputHidden": false
      }
    },
    {
      "cell_type": "markdown",
      "source": [
        "To avoid the above problem the query can be edited using a subquery."
      ],
      "metadata": {}
    },
    {
      "cell_type": "code",
      "source": [
        "df = pd.read_sql_query(\"\"\"\n",
        "    SELECT *\n",
        "    FROM Student \n",
        "    WHERE sID IN (SELECT sID FROM Apply WHERE major = 'CS') \n",
        "\"\"\", conn);df"
      ],
      "outputs": [
        {
          "output_type": "execute_result",
          "execution_count": 20,
          "data": {
            "text/plain": [
              "   sID  sName  GPA  sizeHS\n",
              "0  123    Amy  3.9    1000\n",
              "1  345  Craig  3.5     500\n",
              "2  987  Helen  3.7     800\n",
              "3  876  Irene  3.9     400\n",
              "4  543  Craig  3.4    2000"
            ],
            "text/html": [
              "<div>\n",
              "<style scoped>\n",
              "    .dataframe tbody tr th:only-of-type {\n",
              "        vertical-align: middle;\n",
              "    }\n",
              "\n",
              "    .dataframe tbody tr th {\n",
              "        vertical-align: top;\n",
              "    }\n",
              "\n",
              "    .dataframe thead th {\n",
              "        text-align: right;\n",
              "    }\n",
              "</style>\n",
              "<table border=\"1\" class=\"dataframe\">\n",
              "  <thead>\n",
              "    <tr style=\"text-align: right;\">\n",
              "      <th></th>\n",
              "      <th>sID</th>\n",
              "      <th>sName</th>\n",
              "      <th>GPA</th>\n",
              "      <th>sizeHS</th>\n",
              "    </tr>\n",
              "  </thead>\n",
              "  <tbody>\n",
              "    <tr>\n",
              "      <th>0</th>\n",
              "      <td>123</td>\n",
              "      <td>Amy</td>\n",
              "      <td>3.9</td>\n",
              "      <td>1000</td>\n",
              "    </tr>\n",
              "    <tr>\n",
              "      <th>1</th>\n",
              "      <td>345</td>\n",
              "      <td>Craig</td>\n",
              "      <td>3.5</td>\n",
              "      <td>500</td>\n",
              "    </tr>\n",
              "    <tr>\n",
              "      <th>2</th>\n",
              "      <td>987</td>\n",
              "      <td>Helen</td>\n",
              "      <td>3.7</td>\n",
              "      <td>800</td>\n",
              "    </tr>\n",
              "    <tr>\n",
              "      <th>3</th>\n",
              "      <td>876</td>\n",
              "      <td>Irene</td>\n",
              "      <td>3.9</td>\n",
              "      <td>400</td>\n",
              "    </tr>\n",
              "    <tr>\n",
              "      <th>4</th>\n",
              "      <td>543</td>\n",
              "      <td>Craig</td>\n",
              "      <td>3.4</td>\n",
              "      <td>2000</td>\n",
              "    </tr>\n",
              "  </tbody>\n",
              "</table>\n",
              "</div>"
            ]
          },
          "metadata": {}
        }
      ],
      "execution_count": 20,
      "metadata": {
        "collapsed": false,
        "outputHidden": false,
        "inputHidden": false
      }
    },
    {
      "cell_type": "code",
      "source": [
        "df = pd.read_sql_query(\"\"\"\n",
        "    SELECT AVG(GPA)\n",
        "    FROM Student \n",
        "    WHERE sID IN (SELECT sID FROM Apply WHERE major = 'CS') \n",
        "\"\"\", conn);df"
      ],
      "outputs": [
        {
          "output_type": "execute_result",
          "execution_count": 21,
          "data": {
            "text/plain": [
              "   AVG(GPA)\n",
              "0      3.68"
            ],
            "text/html": [
              "<div>\n",
              "<style scoped>\n",
              "    .dataframe tbody tr th:only-of-type {\n",
              "        vertical-align: middle;\n",
              "    }\n",
              "\n",
              "    .dataframe tbody tr th {\n",
              "        vertical-align: top;\n",
              "    }\n",
              "\n",
              "    .dataframe thead th {\n",
              "        text-align: right;\n",
              "    }\n",
              "</style>\n",
              "<table border=\"1\" class=\"dataframe\">\n",
              "  <thead>\n",
              "    <tr style=\"text-align: right;\">\n",
              "      <th></th>\n",
              "      <th>AVG(GPA)</th>\n",
              "    </tr>\n",
              "  </thead>\n",
              "  <tbody>\n",
              "    <tr>\n",
              "      <th>0</th>\n",
              "      <td>3.68</td>\n",
              "    </tr>\n",
              "  </tbody>\n",
              "</table>\n",
              "</div>"
            ]
          },
          "metadata": {}
        }
      ],
      "execution_count": 21,
      "metadata": {
        "collapsed": false,
        "outputHidden": false,
        "inputHidden": false
      }
    },
    {
      "cell_type": "markdown",
      "source": [
        "---\n",
        "### COUNT \n",
        "Provides the number of rows (tuples).\n"
      ],
      "metadata": {}
    },
    {
      "cell_type": "code",
      "source": [
        "df = pd.read_sql_query(\"\"\"\n",
        "    SELECT COUNT(*)\n",
        "    FROM Apply\n",
        "    WHERE cName = 'Cornell'\n",
        "\"\"\", conn);df"
      ],
      "outputs": [
        {
          "output_type": "execute_result",
          "execution_count": 22,
          "data": {
            "text/plain": [
              "   COUNT(*)\n",
              "0         6"
            ],
            "text/html": [
              "<div>\n",
              "<style scoped>\n",
              "    .dataframe tbody tr th:only-of-type {\n",
              "        vertical-align: middle;\n",
              "    }\n",
              "\n",
              "    .dataframe tbody tr th {\n",
              "        vertical-align: top;\n",
              "    }\n",
              "\n",
              "    .dataframe thead th {\n",
              "        text-align: right;\n",
              "    }\n",
              "</style>\n",
              "<table border=\"1\" class=\"dataframe\">\n",
              "  <thead>\n",
              "    <tr style=\"text-align: right;\">\n",
              "      <th></th>\n",
              "      <th>COUNT(*)</th>\n",
              "    </tr>\n",
              "  </thead>\n",
              "  <tbody>\n",
              "    <tr>\n",
              "      <th>0</th>\n",
              "      <td>6</td>\n",
              "    </tr>\n",
              "  </tbody>\n",
              "</table>\n",
              "</div>"
            ]
          },
          "metadata": {}
        }
      ],
      "execution_count": 22,
      "metadata": {
        "collapsed": false,
        "outputHidden": false,
        "inputHidden": false
      }
    },
    {
      "cell_type": "markdown",
      "source": [
        "### COUNT DISTINCT\n",
        "\nIn many cases we want to know the number of unique rows for a particular attribute, such as how many unique students applied to Cornell rather than a count of all applications (including students that reapplied)."
      ],
      "metadata": {}
    },
    {
      "cell_type": "code",
      "source": [
        "df = pd.read_sql_query(\"\"\"\n",
        "    SELECT COUNT(DISTINCT sID)\n",
        "    FROM Apply\n",
        "    WHERE cName = 'Cornell'\n",
        "\"\"\", conn);df"
      ],
      "outputs": [
        {
          "output_type": "execute_result",
          "execution_count": 23,
          "data": {
            "text/plain": [
              "   COUNT(DISTINCT sID)\n",
              "0                    3"
            ],
            "text/html": [
              "<div>\n",
              "<style scoped>\n",
              "    .dataframe tbody tr th:only-of-type {\n",
              "        vertical-align: middle;\n",
              "    }\n",
              "\n",
              "    .dataframe tbody tr th {\n",
              "        vertical-align: top;\n",
              "    }\n",
              "\n",
              "    .dataframe thead th {\n",
              "        text-align: right;\n",
              "    }\n",
              "</style>\n",
              "<table border=\"1\" class=\"dataframe\">\n",
              "  <thead>\n",
              "    <tr style=\"text-align: right;\">\n",
              "      <th></th>\n",
              "      <th>COUNT(DISTINCT sID)</th>\n",
              "    </tr>\n",
              "  </thead>\n",
              "  <tbody>\n",
              "    <tr>\n",
              "      <th>0</th>\n",
              "      <td>3</td>\n",
              "    </tr>\n",
              "  </tbody>\n",
              "</table>\n",
              "</div>"
            ]
          },
          "metadata": {}
        }
      ],
      "execution_count": 23,
      "metadata": {
        "collapsed": false,
        "outputHidden": false,
        "inputHidden": false
      }
    },
    {
      "cell_type": "markdown",
      "source": [
        "### Combinging aggregate functions with a query\n",
        "The following query returns students such that the number of other student with the same GPA is equal to the number ofther students with the same size high school. "
      ],
      "metadata": {}
    },
    {
      "cell_type": "code",
      "source": [
        "df = pd.read_sql_query(\"\"\"\n",
        "    SELECT *\n",
        "    FROM Student S1\n",
        "    WHERE (SELECT COUNT(*) FROM Student S2\n",
        "        WHERE S2.sID <> S1.sID AND S2.GPA = S1.GPA) \n",
        "        =\n",
        "        (SELECT COUNT(*) FROM Student S2\n",
        "        WHERE S2.sID <> S1.sID AND S2.sizeHS = S1.sizeHS)\n",
        "\"\"\", conn); df"
      ],
      "outputs": [
        {
          "output_type": "execute_result",
          "execution_count": 24,
          "data": {
            "text/plain": [
              "   sID   sName  GPA  sizeHS\n",
              "0  345   Craig  3.5     500\n",
              "1  567  Edward  2.9    2000\n",
              "2  678     Fay  3.8     200\n",
              "3  789    Gary  3.4     800\n",
              "4  765     Jay  2.9    1500\n",
              "5  543   Craig  3.4    2000"
            ],
            "text/html": [
              "<div>\n",
              "<style scoped>\n",
              "    .dataframe tbody tr th:only-of-type {\n",
              "        vertical-align: middle;\n",
              "    }\n",
              "\n",
              "    .dataframe tbody tr th {\n",
              "        vertical-align: top;\n",
              "    }\n",
              "\n",
              "    .dataframe thead th {\n",
              "        text-align: right;\n",
              "    }\n",
              "</style>\n",
              "<table border=\"1\" class=\"dataframe\">\n",
              "  <thead>\n",
              "    <tr style=\"text-align: right;\">\n",
              "      <th></th>\n",
              "      <th>sID</th>\n",
              "      <th>sName</th>\n",
              "      <th>GPA</th>\n",
              "      <th>sizeHS</th>\n",
              "    </tr>\n",
              "  </thead>\n",
              "  <tbody>\n",
              "    <tr>\n",
              "      <th>0</th>\n",
              "      <td>345</td>\n",
              "      <td>Craig</td>\n",
              "      <td>3.5</td>\n",
              "      <td>500</td>\n",
              "    </tr>\n",
              "    <tr>\n",
              "      <th>1</th>\n",
              "      <td>567</td>\n",
              "      <td>Edward</td>\n",
              "      <td>2.9</td>\n",
              "      <td>2000</td>\n",
              "    </tr>\n",
              "    <tr>\n",
              "      <th>2</th>\n",
              "      <td>678</td>\n",
              "      <td>Fay</td>\n",
              "      <td>3.8</td>\n",
              "      <td>200</td>\n",
              "    </tr>\n",
              "    <tr>\n",
              "      <th>3</th>\n",
              "      <td>789</td>\n",
              "      <td>Gary</td>\n",
              "      <td>3.4</td>\n",
              "      <td>800</td>\n",
              "    </tr>\n",
              "    <tr>\n",
              "      <th>4</th>\n",
              "      <td>765</td>\n",
              "      <td>Jay</td>\n",
              "      <td>2.9</td>\n",
              "      <td>1500</td>\n",
              "    </tr>\n",
              "    <tr>\n",
              "      <th>5</th>\n",
              "      <td>543</td>\n",
              "      <td>Craig</td>\n",
              "      <td>3.4</td>\n",
              "      <td>2000</td>\n",
              "    </tr>\n",
              "  </tbody>\n",
              "</table>\n",
              "</div>"
            ]
          },
          "metadata": {}
        }
      ],
      "execution_count": 24,
      "metadata": {
        "collapsed": false,
        "outputHidden": false,
        "inputHidden": false
      }
    },
    {
      "cell_type": "markdown",
      "source": [
        "### Combinging aggregate functions with a query (Another example)\n",
        "The following query returns the amount by which average GPA of students applying to CS exceeds the average of stduents not applying to CS. \n",
        "\n**Subquery reminder:** A subquery in the from clause allows you to write a SELECT-FROM-WHERE expression and then use the result of that expression as if it were an actual table in the database."
      ],
      "metadata": {}
    },
    {
      "cell_type": "code",
      "source": [
        "df = pd.read_sql_query(\"\"\"\n",
        "    SELECT CS.avgGPA - NonCS.avgGPA\n",
        "    FROM \n",
        "        (SELECT AVG(GPA) AS avgGPA \n",
        "        FROM Student\n",
        "        WHERE sID IN (SELECT sID FROM Apply WHERE major = 'CS')) as CS,\n",
        "        (SELECT AVG(GPA) AS avgGPA  \n",
        "        FROM Student \n",
        "        WHERE sID NOT IN (SELECT sID FROM Apply WHERE major = 'CS')) as nonCS\n",
        "\"\"\", conn); df"
      ],
      "outputs": [
        {
          "output_type": "execute_result",
          "execution_count": 26,
          "data": {
            "text/plain": [
              "   CS.avgGPA - NonCS.avgGPA\n",
              "0                  0.194286"
            ],
            "text/html": [
              "<div>\n",
              "<style scoped>\n",
              "    .dataframe tbody tr th:only-of-type {\n",
              "        vertical-align: middle;\n",
              "    }\n",
              "\n",
              "    .dataframe tbody tr th {\n",
              "        vertical-align: top;\n",
              "    }\n",
              "\n",
              "    .dataframe thead th {\n",
              "        text-align: right;\n",
              "    }\n",
              "</style>\n",
              "<table border=\"1\" class=\"dataframe\">\n",
              "  <thead>\n",
              "    <tr style=\"text-align: right;\">\n",
              "      <th></th>\n",
              "      <th>CS.avgGPA - NonCS.avgGPA</th>\n",
              "    </tr>\n",
              "  </thead>\n",
              "  <tbody>\n",
              "    <tr>\n",
              "      <th>0</th>\n",
              "      <td>0.194286</td>\n",
              "    </tr>\n",
              "  </tbody>\n",
              "</table>\n",
              "</div>"
            ]
          },
          "metadata": {}
        }
      ],
      "execution_count": 26,
      "metadata": {
        "collapsed": false,
        "outputHidden": false,
        "inputHidden": false
      }
    },
    {
      "cell_type": "markdown",
      "source": [
        "The same result can be obtained by using aggregate functions within subqueries placed in the SELECT clause. "
      ],
      "metadata": {}
    },
    {
      "cell_type": "code",
      "source": [
        "df = pd.read_sql_query(\"\"\"\n",
        "    SELECT (SELECT AVG(GPA) as avgGPA FROM Student\n",
        "            WHERE sID IN (SELECT sID FROM Apply WHERE major = 'CS')) -\n",
        "            (SELECT AVG(GPA) AS avgGPA FROM Student \n",
        "            WHERE sID NOT IN (SELECT sID FROM Apply WHERE major = 'CS'))\n",
        "            AS d\n",
        "    \"\"\", conn); df"
      ],
      "outputs": [
        {
          "output_type": "execute_result",
          "execution_count": 29,
          "data": {
            "text/plain": [
              "          d\n",
              "0  0.194286"
            ],
            "text/html": [
              "<div>\n",
              "<style scoped>\n",
              "    .dataframe tbody tr th:only-of-type {\n",
              "        vertical-align: middle;\n",
              "    }\n",
              "\n",
              "    .dataframe tbody tr th {\n",
              "        vertical-align: top;\n",
              "    }\n",
              "\n",
              "    .dataframe thead th {\n",
              "        text-align: right;\n",
              "    }\n",
              "</style>\n",
              "<table border=\"1\" class=\"dataframe\">\n",
              "  <thead>\n",
              "    <tr style=\"text-align: right;\">\n",
              "      <th></th>\n",
              "      <th>d</th>\n",
              "    </tr>\n",
              "  </thead>\n",
              "  <tbody>\n",
              "    <tr>\n",
              "      <th>0</th>\n",
              "      <td>0.194286</td>\n",
              "    </tr>\n",
              "  </tbody>\n",
              "</table>\n",
              "</div>"
            ]
          },
          "metadata": {}
        }
      ],
      "execution_count": 29,
      "metadata": {
        "collapsed": false,
        "outputHidden": false,
        "inputHidden": false
      }
    },
    {
      "cell_type": "markdown",
      "source": [
        "---\n",
        "### GROUP BY\n",
        "\n",
        "Below: Number of application to each college\n",
        "\nNOTE: It wouldn't make much sense to include attributes other than cName (the grouped by attribute) within the SELECT clause. For example, if major was added within the SELECT clause a random major name from the rows used for each GROUP BY would be returned. "
      ],
      "metadata": {}
    },
    {
      "cell_type": "code",
      "source": [
        "df = pd.read_sql_query(\"\"\"\n",
        "    SELECT cName, COUNT(*)\n",
        "    FROM Apply \n",
        "    GROUP BY cName\n",
        "\"\"\", conn);df"
      ],
      "outputs": [
        {
          "output_type": "execute_result",
          "execution_count": 43,
          "data": {
            "text/plain": [
              "      cName  COUNT(*)           major\n",
              "0  Berkeley         3              CS\n",
              "1   Cornell         6              EE\n",
              "2       MIT         4  bioengineering\n",
              "3  Stanford         6              CS"
            ],
            "text/html": [
              "<div>\n",
              "<style scoped>\n",
              "    .dataframe tbody tr th:only-of-type {\n",
              "        vertical-align: middle;\n",
              "    }\n",
              "\n",
              "    .dataframe tbody tr th {\n",
              "        vertical-align: top;\n",
              "    }\n",
              "\n",
              "    .dataframe thead th {\n",
              "        text-align: right;\n",
              "    }\n",
              "</style>\n",
              "<table border=\"1\" class=\"dataframe\">\n",
              "  <thead>\n",
              "    <tr style=\"text-align: right;\">\n",
              "      <th></th>\n",
              "      <th>cName</th>\n",
              "      <th>COUNT(*)</th>\n",
              "      <th>major</th>\n",
              "    </tr>\n",
              "  </thead>\n",
              "  <tbody>\n",
              "    <tr>\n",
              "      <th>0</th>\n",
              "      <td>Berkeley</td>\n",
              "      <td>3</td>\n",
              "      <td>CS</td>\n",
              "    </tr>\n",
              "    <tr>\n",
              "      <th>1</th>\n",
              "      <td>Cornell</td>\n",
              "      <td>6</td>\n",
              "      <td>EE</td>\n",
              "    </tr>\n",
              "    <tr>\n",
              "      <th>2</th>\n",
              "      <td>MIT</td>\n",
              "      <td>4</td>\n",
              "      <td>bioengineering</td>\n",
              "    </tr>\n",
              "    <tr>\n",
              "      <th>3</th>\n",
              "      <td>Stanford</td>\n",
              "      <td>6</td>\n",
              "      <td>CS</td>\n",
              "    </tr>\n",
              "  </tbody>\n",
              "</table>\n",
              "</div>"
            ]
          },
          "metadata": {}
        }
      ],
      "execution_count": 43,
      "metadata": {
        "collapsed": false,
        "outputHidden": false,
        "inputHidden": false
      }
    },
    {
      "cell_type": "markdown",
      "source": [
        "### GROUP BY -- another example\n",
        "\nCollege enrollments by state"
      ],
      "metadata": {}
    },
    {
      "cell_type": "code",
      "source": [
        "df = pd.read_sql_query(\"\"\"\n",
        "    SELECT state, SUM(enrollment)\n",
        "    FROM College\n",
        "    GROUP BY state\n",
        "\"\"\", conn); df"
      ],
      "outputs": [
        {
          "output_type": "execute_result",
          "execution_count": 31,
          "data": {
            "text/plain": [
              "  state  SUM(enrollment)\n",
              "0    CA            51000\n",
              "1    MA            10000\n",
              "2    NY            21000"
            ],
            "text/html": [
              "<div>\n",
              "<style scoped>\n",
              "    .dataframe tbody tr th:only-of-type {\n",
              "        vertical-align: middle;\n",
              "    }\n",
              "\n",
              "    .dataframe tbody tr th {\n",
              "        vertical-align: top;\n",
              "    }\n",
              "\n",
              "    .dataframe thead th {\n",
              "        text-align: right;\n",
              "    }\n",
              "</style>\n",
              "<table border=\"1\" class=\"dataframe\">\n",
              "  <thead>\n",
              "    <tr style=\"text-align: right;\">\n",
              "      <th></th>\n",
              "      <th>state</th>\n",
              "      <th>SUM(enrollment)</th>\n",
              "    </tr>\n",
              "  </thead>\n",
              "  <tbody>\n",
              "    <tr>\n",
              "      <th>0</th>\n",
              "      <td>CA</td>\n",
              "      <td>51000</td>\n",
              "    </tr>\n",
              "    <tr>\n",
              "      <th>1</th>\n",
              "      <td>MA</td>\n",
              "      <td>10000</td>\n",
              "    </tr>\n",
              "    <tr>\n",
              "      <th>2</th>\n",
              "      <td>NY</td>\n",
              "      <td>21000</td>\n",
              "    </tr>\n",
              "  </tbody>\n",
              "</table>\n",
              "</div>"
            ]
          },
          "metadata": {}
        }
      ],
      "execution_count": 31,
      "metadata": {
        "collapsed": false,
        "outputHidden": false,
        "inputHidden": false
      }
    },
    {
      "cell_type": "markdown",
      "source": [
        "### GROUP BY using two attributes\n",
        "\nMinimum and Maximum GPAs of applicants to each college and major"
      ],
      "metadata": {}
    },
    {
      "cell_type": "code",
      "source": [
        "df = pd.read_sql_query(\"\"\"\n",
        "    SELECT cName, major, MIN(GPA), MAX(GPA)\n",
        "    FROM Student, Apply\n",
        "    WHERE Student.sID = Apply.sID\n",
        "    GROUP BY cName, major\n",
        "\"\"\", conn); df"
      ],
      "outputs": [
        {
          "output_type": "execute_result",
          "execution_count": 32,
          "data": {
            "text/plain": [
              "       cName           major  MIN(GPA)  MAX(GPA)\n",
              "0   Berkeley              CS       3.7       3.9\n",
              "1   Berkeley         biology       3.6       3.6\n",
              "2    Cornell              CS       3.5       3.5\n",
              "3    Cornell              EE       3.5       3.9\n",
              "4    Cornell  bioengineering       3.5       3.5\n",
              "5    Cornell         history       2.9       2.9\n",
              "6    Cornell      psychology       2.9       2.9\n",
              "7        MIT              CS       3.4       3.4\n",
              "8        MIT  bioengineering       3.5       3.5\n",
              "9        MIT         biology       3.9       3.9\n",
              "10       MIT  marine biology       3.9       3.9\n",
              "11  Stanford              CS       3.7       3.9\n",
              "12  Stanford              EE       3.9       3.9\n",
              "13  Stanford         history       2.9       3.8"
            ],
            "text/html": [
              "<div>\n",
              "<style scoped>\n",
              "    .dataframe tbody tr th:only-of-type {\n",
              "        vertical-align: middle;\n",
              "    }\n",
              "\n",
              "    .dataframe tbody tr th {\n",
              "        vertical-align: top;\n",
              "    }\n",
              "\n",
              "    .dataframe thead th {\n",
              "        text-align: right;\n",
              "    }\n",
              "</style>\n",
              "<table border=\"1\" class=\"dataframe\">\n",
              "  <thead>\n",
              "    <tr style=\"text-align: right;\">\n",
              "      <th></th>\n",
              "      <th>cName</th>\n",
              "      <th>major</th>\n",
              "      <th>MIN(GPA)</th>\n",
              "      <th>MAX(GPA)</th>\n",
              "    </tr>\n",
              "  </thead>\n",
              "  <tbody>\n",
              "    <tr>\n",
              "      <th>0</th>\n",
              "      <td>Berkeley</td>\n",
              "      <td>CS</td>\n",
              "      <td>3.7</td>\n",
              "      <td>3.9</td>\n",
              "    </tr>\n",
              "    <tr>\n",
              "      <th>1</th>\n",
              "      <td>Berkeley</td>\n",
              "      <td>biology</td>\n",
              "      <td>3.6</td>\n",
              "      <td>3.6</td>\n",
              "    </tr>\n",
              "    <tr>\n",
              "      <th>2</th>\n",
              "      <td>Cornell</td>\n",
              "      <td>CS</td>\n",
              "      <td>3.5</td>\n",
              "      <td>3.5</td>\n",
              "    </tr>\n",
              "    <tr>\n",
              "      <th>3</th>\n",
              "      <td>Cornell</td>\n",
              "      <td>EE</td>\n",
              "      <td>3.5</td>\n",
              "      <td>3.9</td>\n",
              "    </tr>\n",
              "    <tr>\n",
              "      <th>4</th>\n",
              "      <td>Cornell</td>\n",
              "      <td>bioengineering</td>\n",
              "      <td>3.5</td>\n",
              "      <td>3.5</td>\n",
              "    </tr>\n",
              "    <tr>\n",
              "      <th>5</th>\n",
              "      <td>Cornell</td>\n",
              "      <td>history</td>\n",
              "      <td>2.9</td>\n",
              "      <td>2.9</td>\n",
              "    </tr>\n",
              "    <tr>\n",
              "      <th>6</th>\n",
              "      <td>Cornell</td>\n",
              "      <td>psychology</td>\n",
              "      <td>2.9</td>\n",
              "      <td>2.9</td>\n",
              "    </tr>\n",
              "    <tr>\n",
              "      <th>7</th>\n",
              "      <td>MIT</td>\n",
              "      <td>CS</td>\n",
              "      <td>3.4</td>\n",
              "      <td>3.4</td>\n",
              "    </tr>\n",
              "    <tr>\n",
              "      <th>8</th>\n",
              "      <td>MIT</td>\n",
              "      <td>bioengineering</td>\n",
              "      <td>3.5</td>\n",
              "      <td>3.5</td>\n",
              "    </tr>\n",
              "    <tr>\n",
              "      <th>9</th>\n",
              "      <td>MIT</td>\n",
              "      <td>biology</td>\n",
              "      <td>3.9</td>\n",
              "      <td>3.9</td>\n",
              "    </tr>\n",
              "    <tr>\n",
              "      <th>10</th>\n",
              "      <td>MIT</td>\n",
              "      <td>marine biology</td>\n",
              "      <td>3.9</td>\n",
              "      <td>3.9</td>\n",
              "    </tr>\n",
              "    <tr>\n",
              "      <th>11</th>\n",
              "      <td>Stanford</td>\n",
              "      <td>CS</td>\n",
              "      <td>3.7</td>\n",
              "      <td>3.9</td>\n",
              "    </tr>\n",
              "    <tr>\n",
              "      <th>12</th>\n",
              "      <td>Stanford</td>\n",
              "      <td>EE</td>\n",
              "      <td>3.9</td>\n",
              "      <td>3.9</td>\n",
              "    </tr>\n",
              "    <tr>\n",
              "      <th>13</th>\n",
              "      <td>Stanford</td>\n",
              "      <td>history</td>\n",
              "      <td>2.9</td>\n",
              "      <td>3.8</td>\n",
              "    </tr>\n",
              "  </tbody>\n",
              "</table>\n",
              "</div>"
            ]
          },
          "metadata": {}
        }
      ],
      "execution_count": 32,
      "metadata": {
        "collapsed": false,
        "outputHidden": false,
        "inputHidden": false
      }
    },
    {
      "cell_type": "markdown",
      "source": [
        "The above SELECT statement can be filtered further to find, for example, the largest difference between the min.GPA and max.GPA across the different majors from each college. "
      ],
      "metadata": {}
    },
    {
      "cell_type": "code",
      "source": [
        "df = pd.read_sql_query(\"\"\"\n",
        "    SELECT MAX(mx-mn)\n",
        "    FROM\n",
        "        (SELECT cName, major, MIN(GPA) AS mn, MAX(GPA) AS mx\n",
        "        FROM Student, Apply\n",
        "        WHERE Student.sID = Apply.sID\n",
        "        GROUP BY cName, major) AS M \n",
        "\"\"\", conn); df"
      ],
      "outputs": [
        {
          "output_type": "execute_result",
          "execution_count": 34,
          "data": {
            "text/plain": [
              "   MAX(mx-mn)\n",
              "0         0.9"
            ],
            "text/html": [
              "<div>\n",
              "<style scoped>\n",
              "    .dataframe tbody tr th:only-of-type {\n",
              "        vertical-align: middle;\n",
              "    }\n",
              "\n",
              "    .dataframe tbody tr th {\n",
              "        vertical-align: top;\n",
              "    }\n",
              "\n",
              "    .dataframe thead th {\n",
              "        text-align: right;\n",
              "    }\n",
              "</style>\n",
              "<table border=\"1\" class=\"dataframe\">\n",
              "  <thead>\n",
              "    <tr style=\"text-align: right;\">\n",
              "      <th></th>\n",
              "      <th>MAX(mx-mn)</th>\n",
              "    </tr>\n",
              "  </thead>\n",
              "  <tbody>\n",
              "    <tr>\n",
              "      <th>0</th>\n",
              "      <td>0.9</td>\n",
              "    </tr>\n",
              "  </tbody>\n",
              "</table>\n",
              "</div>"
            ]
          },
          "metadata": {}
        }
      ],
      "execution_count": 34,
      "metadata": {
        "collapsed": false,
        "outputHidden": false,
        "inputHidden": false
      }
    },
    {
      "cell_type": "markdown",
      "source": [
        "Number of colleges applied to by each student"
      ],
      "metadata": {}
    },
    {
      "cell_type": "code",
      "source": [
        "df = pd.read_sql_query(\"\"\"\n",
        "    SELECT Student.sID, COUNT(DISTINCT cName)\n",
        "    FROM Student, Apply\n",
        "    WHERE Student.sID = Apply.sID\n",
        "    GROUP BY Student.sID\n",
        "\"\"\", conn); df"
      ],
      "outputs": [
        {
          "output_type": "execute_result",
          "execution_count": 35,
          "data": {
            "text/plain": [
              "   sID  COUNT(DISTINCT cName)\n",
              "0  123                      3\n",
              "1  234                      1\n",
              "2  345                      2\n",
              "3  543                      1\n",
              "4  678                      1\n",
              "5  765                      2\n",
              "6  876                      2\n",
              "7  987                      2"
            ],
            "text/html": [
              "<div>\n",
              "<style scoped>\n",
              "    .dataframe tbody tr th:only-of-type {\n",
              "        vertical-align: middle;\n",
              "    }\n",
              "\n",
              "    .dataframe tbody tr th {\n",
              "        vertical-align: top;\n",
              "    }\n",
              "\n",
              "    .dataframe thead th {\n",
              "        text-align: right;\n",
              "    }\n",
              "</style>\n",
              "<table border=\"1\" class=\"dataframe\">\n",
              "  <thead>\n",
              "    <tr style=\"text-align: right;\">\n",
              "      <th></th>\n",
              "      <th>sID</th>\n",
              "      <th>COUNT(DISTINCT cName)</th>\n",
              "    </tr>\n",
              "  </thead>\n",
              "  <tbody>\n",
              "    <tr>\n",
              "      <th>0</th>\n",
              "      <td>123</td>\n",
              "      <td>3</td>\n",
              "    </tr>\n",
              "    <tr>\n",
              "      <th>1</th>\n",
              "      <td>234</td>\n",
              "      <td>1</td>\n",
              "    </tr>\n",
              "    <tr>\n",
              "      <th>2</th>\n",
              "      <td>345</td>\n",
              "      <td>2</td>\n",
              "    </tr>\n",
              "    <tr>\n",
              "      <th>3</th>\n",
              "      <td>543</td>\n",
              "      <td>1</td>\n",
              "    </tr>\n",
              "    <tr>\n",
              "      <th>4</th>\n",
              "      <td>678</td>\n",
              "      <td>1</td>\n",
              "    </tr>\n",
              "    <tr>\n",
              "      <th>5</th>\n",
              "      <td>765</td>\n",
              "      <td>2</td>\n",
              "    </tr>\n",
              "    <tr>\n",
              "      <th>6</th>\n",
              "      <td>876</td>\n",
              "      <td>2</td>\n",
              "    </tr>\n",
              "    <tr>\n",
              "      <th>7</th>\n",
              "      <td>987</td>\n",
              "      <td>2</td>\n",
              "    </tr>\n",
              "  </tbody>\n",
              "</table>\n",
              "</div>"
            ]
          },
          "metadata": {}
        }
      ],
      "execution_count": 35,
      "metadata": {
        "collapsed": false,
        "outputHidden": false,
        "inputHidden": false
      }
    },
    {
      "cell_type": "markdown",
      "source": [
        "---\n",
        "### HAVING\n",
        "\n",
        "Allows us to filter results after the GROUP BY clause.\n",
        "\nThe following query returns the colleges with fewer than 5 applications."
      ],
      "metadata": {}
    },
    {
      "cell_type": "code",
      "source": [
        "df = pd.read_sql_query(\"\"\"\n",
        "    SELECT cName\n",
        "    FROM Apply \n",
        "    GROUP BY cNAME\n",
        "    HAVING COUNT(*) < 5\n",
        "\"\"\", conn); df"
      ],
      "outputs": [
        {
          "output_type": "execute_result",
          "execution_count": 44,
          "data": {
            "text/plain": [
              "      cName\n",
              "0  Berkeley\n",
              "1       MIT"
            ],
            "text/html": [
              "<div>\n",
              "<style scoped>\n",
              "    .dataframe tbody tr th:only-of-type {\n",
              "        vertical-align: middle;\n",
              "    }\n",
              "\n",
              "    .dataframe tbody tr th {\n",
              "        vertical-align: top;\n",
              "    }\n",
              "\n",
              "    .dataframe thead th {\n",
              "        text-align: right;\n",
              "    }\n",
              "</style>\n",
              "<table border=\"1\" class=\"dataframe\">\n",
              "  <thead>\n",
              "    <tr style=\"text-align: right;\">\n",
              "      <th></th>\n",
              "      <th>cName</th>\n",
              "    </tr>\n",
              "  </thead>\n",
              "  <tbody>\n",
              "    <tr>\n",
              "      <th>0</th>\n",
              "      <td>Berkeley</td>\n",
              "    </tr>\n",
              "    <tr>\n",
              "      <th>1</th>\n",
              "      <td>MIT</td>\n",
              "    </tr>\n",
              "  </tbody>\n",
              "</table>\n",
              "</div>"
            ]
          },
          "metadata": {}
        }
      ],
      "execution_count": 44,
      "metadata": {
        "collapsed": false,
        "outputHidden": false,
        "inputHidden": false
      }
    },
    {
      "cell_type": "markdown",
      "source": [
        "The above results returns colleges with fewer than 5 applications, but can be changed to return the colleges with fewer than 5 applications from distinct students as follows: "
      ],
      "metadata": {}
    },
    {
      "cell_type": "code",
      "source": [
        "df = pd.read_sql_query(\"\"\"\n",
        "    SELECT cName\n",
        "    FROM Apply \n",
        "    GROUP BY cNAME\n",
        "    HAVING COUNT(DISTINCT sID) < 5\n",
        "\"\"\", conn); df"
      ],
      "outputs": [
        {
          "output_type": "execute_result",
          "execution_count": 45,
          "data": {
            "text/plain": [
              "      cName\n",
              "0  Berkeley\n",
              "1   Cornell\n",
              "2       MIT"
            ],
            "text/html": [
              "<div>\n",
              "<style scoped>\n",
              "    .dataframe tbody tr th:only-of-type {\n",
              "        vertical-align: middle;\n",
              "    }\n",
              "\n",
              "    .dataframe tbody tr th {\n",
              "        vertical-align: top;\n",
              "    }\n",
              "\n",
              "    .dataframe thead th {\n",
              "        text-align: right;\n",
              "    }\n",
              "</style>\n",
              "<table border=\"1\" class=\"dataframe\">\n",
              "  <thead>\n",
              "    <tr style=\"text-align: right;\">\n",
              "      <th></th>\n",
              "      <th>cName</th>\n",
              "    </tr>\n",
              "  </thead>\n",
              "  <tbody>\n",
              "    <tr>\n",
              "      <th>0</th>\n",
              "      <td>Berkeley</td>\n",
              "    </tr>\n",
              "    <tr>\n",
              "      <th>1</th>\n",
              "      <td>Cornell</td>\n",
              "    </tr>\n",
              "    <tr>\n",
              "      <th>2</th>\n",
              "      <td>MIT</td>\n",
              "    </tr>\n",
              "  </tbody>\n",
              "</table>\n",
              "</div>"
            ]
          },
          "metadata": {}
        }
      ],
      "execution_count": 45,
      "metadata": {
        "collapsed": false,
        "outputHidden": false,
        "inputHidden": false
      }
    },
    {
      "cell_type": "markdown",
      "source": [
        "The last example below returns majors whose applicant's maximum GPA is below the average"
      ],
      "metadata": {}
    },
    {
      "cell_type": "code",
      "source": [
        "df = pd.read_sql_query(\"\"\"\n",
        "    SELECT major\n",
        "    FROM Student, Apply \n",
        "    WHERE Student.sID = Apply.sID\n",
        "    GROUP BY major\n",
        "    HAVING MAX(GPA) < (SELECT AVG(GPA) FROM Student)\n",
        "\"\"\", conn); df"
      ],
      "outputs": [
        {
          "output_type": "execute_result",
          "execution_count": 46,
          "data": {
            "text/plain": [
              "            major\n",
              "0  bioengineering\n",
              "1      psychology"
            ],
            "text/html": [
              "<div>\n",
              "<style scoped>\n",
              "    .dataframe tbody tr th:only-of-type {\n",
              "        vertical-align: middle;\n",
              "    }\n",
              "\n",
              "    .dataframe tbody tr th {\n",
              "        vertical-align: top;\n",
              "    }\n",
              "\n",
              "    .dataframe thead th {\n",
              "        text-align: right;\n",
              "    }\n",
              "</style>\n",
              "<table border=\"1\" class=\"dataframe\">\n",
              "  <thead>\n",
              "    <tr style=\"text-align: right;\">\n",
              "      <th></th>\n",
              "      <th>major</th>\n",
              "    </tr>\n",
              "  </thead>\n",
              "  <tbody>\n",
              "    <tr>\n",
              "      <th>0</th>\n",
              "      <td>bioengineering</td>\n",
              "    </tr>\n",
              "    <tr>\n",
              "      <th>1</th>\n",
              "      <td>psychology</td>\n",
              "    </tr>\n",
              "  </tbody>\n",
              "</table>\n",
              "</div>"
            ]
          },
          "metadata": {}
        }
      ],
      "execution_count": 46,
      "metadata": {
        "collapsed": false,
        "outputHidden": false,
        "inputHidden": false
      }
    }
  ],
  "metadata": {
    "kernel_info": {
      "name": "python3"
    },
    "language_info": {
      "name": "python",
      "version": "3.7.1",
      "mimetype": "text/x-python",
      "codemirror_mode": {
        "name": "ipython",
        "version": 3
      },
      "pygments_lexer": "ipython3",
      "nbconvert_exporter": "python",
      "file_extension": ".py"
    },
    "kernelspec": {
      "name": "python3",
      "language": "python",
      "display_name": "Python 3"
    },
    "nteract": {
      "version": "0.12.3"
    }
  },
  "nbformat": 4,
  "nbformat_minor": 4
}